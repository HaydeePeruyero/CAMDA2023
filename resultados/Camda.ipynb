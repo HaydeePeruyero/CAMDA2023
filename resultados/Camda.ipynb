{
  "nbformat": 4,
  "nbformat_minor": 0,
  "metadata": {
    "colab": {
      "provenance": [],
      "authorship_tag": "ABX9TyPPerHlvXPRMKqz15uhtMIg",
      "include_colab_link": true
    },
    "kernelspec": {
      "name": "python3",
      "display_name": "Python 3"
    },
    "language_info": {
      "name": "python"
    }
  },
  "cells": [
    {
      "cell_type": "markdown",
      "metadata": {
        "id": "view-in-github",
        "colab_type": "text"
      },
      "source": [
        "<a href=\"https://colab.research.google.com/github/HaydeePeruyero/CAMDA2023/blob/main/resultados/Camda.ipynb\" target=\"_parent\"><img src=\"https://colab.research.google.com/assets/colab-badge.svg\" alt=\"Open In Colab\"/></a>"
      ]
    },
    {
      "cell_type": "markdown",
      "source": [
        "# Notebook 1"
      ],
      "metadata": {
        "id": "MlWT9fC7rnJ9"
      }
    },
    {
      "cell_type": "code",
      "source": [
        "!pip install contextily\n",
        "!pip install geopandas"
      ],
      "metadata": {
        "id": "IHQT3Jy3o8e-",
        "colab": {
          "base_uri": "https://localhost:8080/"
        },
        "outputId": "adcf1f13-f7ab-4bb0-896e-36af89cae31a"
      },
      "execution_count": 1,
      "outputs": [
        {
          "output_type": "stream",
          "name": "stdout",
          "text": [
            "Looking in indexes: https://pypi.org/simple, https://us-python.pkg.dev/colab-wheels/public/simple/\n",
            "Collecting contextily\n",
            "  Downloading contextily-1.3.0-py3-none-any.whl (16 kB)\n",
            "Requirement already satisfied: geopy in /usr/local/lib/python3.10/dist-packages (from contextily) (2.3.0)\n",
            "Requirement already satisfied: matplotlib in /usr/local/lib/python3.10/dist-packages (from contextily) (3.7.1)\n",
            "Collecting mercantile (from contextily)\n",
            "  Downloading mercantile-1.2.1-py3-none-any.whl (14 kB)\n",
            "Requirement already satisfied: pillow in /usr/local/lib/python3.10/dist-packages (from contextily) (8.4.0)\n",
            "Collecting rasterio (from contextily)\n",
            "  Downloading rasterio-1.3.6-cp310-cp310-manylinux_2_17_x86_64.manylinux2014_x86_64.whl (20.0 MB)\n",
            "\u001b[2K     \u001b[90m━━━━━━━━━━━━━━━━━━━━━━━━━━━━━━━━━━━━━━━━\u001b[0m \u001b[32m20.0/20.0 MB\u001b[0m \u001b[31m44.1 MB/s\u001b[0m eta \u001b[36m0:00:00\u001b[0m\n",
            "\u001b[?25hRequirement already satisfied: requests in /usr/local/lib/python3.10/dist-packages (from contextily) (2.27.1)\n",
            "Requirement already satisfied: joblib in /usr/local/lib/python3.10/dist-packages (from contextily) (1.2.0)\n",
            "Collecting xyzservices (from contextily)\n",
            "  Downloading xyzservices-2023.2.0-py3-none-any.whl (55 kB)\n",
            "\u001b[2K     \u001b[90m━━━━━━━━━━━━━━━━━━━━━━━━━━━━━━━━━━━━━━━━\u001b[0m \u001b[32m55.4/55.4 kB\u001b[0m \u001b[31m3.6 MB/s\u001b[0m eta \u001b[36m0:00:00\u001b[0m\n",
            "\u001b[?25hRequirement already satisfied: geographiclib<3,>=1.52 in /usr/local/lib/python3.10/dist-packages (from geopy->contextily) (2.0)\n",
            "Requirement already satisfied: contourpy>=1.0.1 in /usr/local/lib/python3.10/dist-packages (from matplotlib->contextily) (1.0.7)\n",
            "Requirement already satisfied: cycler>=0.10 in /usr/local/lib/python3.10/dist-packages (from matplotlib->contextily) (0.11.0)\n",
            "Requirement already satisfied: fonttools>=4.22.0 in /usr/local/lib/python3.10/dist-packages (from matplotlib->contextily) (4.39.3)\n",
            "Requirement already satisfied: kiwisolver>=1.0.1 in /usr/local/lib/python3.10/dist-packages (from matplotlib->contextily) (1.4.4)\n",
            "Requirement already satisfied: numpy>=1.20 in /usr/local/lib/python3.10/dist-packages (from matplotlib->contextily) (1.22.4)\n",
            "Requirement already satisfied: packaging>=20.0 in /usr/local/lib/python3.10/dist-packages (from matplotlib->contextily) (23.1)\n",
            "Requirement already satisfied: pyparsing>=2.3.1 in /usr/local/lib/python3.10/dist-packages (from matplotlib->contextily) (3.0.9)\n",
            "Requirement already satisfied: python-dateutil>=2.7 in /usr/local/lib/python3.10/dist-packages (from matplotlib->contextily) (2.8.2)\n",
            "Requirement already satisfied: click>=3.0 in /usr/local/lib/python3.10/dist-packages (from mercantile->contextily) (8.1.3)\n",
            "Collecting affine (from rasterio->contextily)\n",
            "  Downloading affine-2.4.0-py3-none-any.whl (15 kB)\n",
            "Requirement already satisfied: attrs in /usr/local/lib/python3.10/dist-packages (from rasterio->contextily) (23.1.0)\n",
            "Requirement already satisfied: certifi in /usr/local/lib/python3.10/dist-packages (from rasterio->contextily) (2022.12.7)\n",
            "Collecting cligj>=0.5 (from rasterio->contextily)\n",
            "  Downloading cligj-0.7.2-py3-none-any.whl (7.1 kB)\n",
            "Collecting snuggs>=1.4.1 (from rasterio->contextily)\n",
            "  Downloading snuggs-1.4.7-py3-none-any.whl (5.4 kB)\n",
            "Collecting click-plugins (from rasterio->contextily)\n",
            "  Downloading click_plugins-1.1.1-py2.py3-none-any.whl (7.5 kB)\n",
            "Requirement already satisfied: setuptools in /usr/local/lib/python3.10/dist-packages (from rasterio->contextily) (67.7.2)\n",
            "Requirement already satisfied: urllib3<1.27,>=1.21.1 in /usr/local/lib/python3.10/dist-packages (from requests->contextily) (1.26.15)\n",
            "Requirement already satisfied: charset-normalizer~=2.0.0 in /usr/local/lib/python3.10/dist-packages (from requests->contextily) (2.0.12)\n",
            "Requirement already satisfied: idna<4,>=2.5 in /usr/local/lib/python3.10/dist-packages (from requests->contextily) (3.4)\n",
            "Requirement already satisfied: six>=1.5 in /usr/local/lib/python3.10/dist-packages (from python-dateutil>=2.7->matplotlib->contextily) (1.16.0)\n",
            "Installing collected packages: xyzservices, snuggs, mercantile, cligj, click-plugins, affine, rasterio, contextily\n",
            "Successfully installed affine-2.4.0 click-plugins-1.1.1 cligj-0.7.2 contextily-1.3.0 mercantile-1.2.1 rasterio-1.3.6 snuggs-1.4.7 xyzservices-2023.2.0\n",
            "Looking in indexes: https://pypi.org/simple, https://us-python.pkg.dev/colab-wheels/public/simple/\n",
            "Collecting geopandas\n",
            "  Downloading geopandas-0.13.0-py3-none-any.whl (1.1 MB)\n",
            "\u001b[2K     \u001b[90m━━━━━━━━━━━━━━━━━━━━━━━━━━━━━━━━━━━━━━━━\u001b[0m \u001b[32m1.1/1.1 MB\u001b[0m \u001b[31m20.8 MB/s\u001b[0m eta \u001b[36m0:00:00\u001b[0m\n",
            "\u001b[?25hCollecting fiona>=1.8.19 (from geopandas)\n",
            "  Downloading Fiona-1.9.3-cp310-cp310-manylinux_2_17_x86_64.manylinux2014_x86_64.whl (16.0 MB)\n",
            "\u001b[2K     \u001b[90m━━━━━━━━━━━━━━━━━━━━━━━━━━━━━━━━━━━━━━━━\u001b[0m \u001b[32m16.0/16.0 MB\u001b[0m \u001b[31m23.2 MB/s\u001b[0m eta \u001b[36m0:00:00\u001b[0m\n",
            "\u001b[?25hRequirement already satisfied: packaging in /usr/local/lib/python3.10/dist-packages (from geopandas) (23.1)\n",
            "Requirement already satisfied: pandas>=1.1.0 in /usr/local/lib/python3.10/dist-packages (from geopandas) (1.5.3)\n",
            "Collecting pyproj>=3.0.1 (from geopandas)\n",
            "  Downloading pyproj-3.5.0-cp310-cp310-manylinux_2_17_x86_64.manylinux2014_x86_64.whl (7.7 MB)\n",
            "\u001b[2K     \u001b[90m━━━━━━━━━━━━━━━━━━━━━━━━━━━━━━━━━━━━━━━━\u001b[0m \u001b[32m7.7/7.7 MB\u001b[0m \u001b[31m55.8 MB/s\u001b[0m eta \u001b[36m0:00:00\u001b[0m\n",
            "\u001b[?25hRequirement already satisfied: shapely>=1.7.1 in /usr/local/lib/python3.10/dist-packages (from geopandas) (2.0.1)\n",
            "Requirement already satisfied: attrs>=19.2.0 in /usr/local/lib/python3.10/dist-packages (from fiona>=1.8.19->geopandas) (23.1.0)\n",
            "Requirement already satisfied: certifi in /usr/local/lib/python3.10/dist-packages (from fiona>=1.8.19->geopandas) (2022.12.7)\n",
            "Requirement already satisfied: click~=8.0 in /usr/local/lib/python3.10/dist-packages (from fiona>=1.8.19->geopandas) (8.1.3)\n",
            "Requirement already satisfied: click-plugins>=1.0 in /usr/local/lib/python3.10/dist-packages (from fiona>=1.8.19->geopandas) (1.1.1)\n",
            "Requirement already satisfied: cligj>=0.5 in /usr/local/lib/python3.10/dist-packages (from fiona>=1.8.19->geopandas) (0.7.2)\n",
            "Collecting munch>=2.3.2 (from fiona>=1.8.19->geopandas)\n",
            "  Downloading munch-3.0.0-py2.py3-none-any.whl (10 kB)\n",
            "Requirement already satisfied: python-dateutil>=2.8.1 in /usr/local/lib/python3.10/dist-packages (from pandas>=1.1.0->geopandas) (2.8.2)\n",
            "Requirement already satisfied: pytz>=2020.1 in /usr/local/lib/python3.10/dist-packages (from pandas>=1.1.0->geopandas) (2022.7.1)\n",
            "Requirement already satisfied: numpy>=1.21.0 in /usr/local/lib/python3.10/dist-packages (from pandas>=1.1.0->geopandas) (1.22.4)\n",
            "Requirement already satisfied: six in /usr/local/lib/python3.10/dist-packages (from munch>=2.3.2->fiona>=1.8.19->geopandas) (1.16.0)\n",
            "Installing collected packages: pyproj, munch, fiona, geopandas\n",
            "Successfully installed fiona-1.9.3 geopandas-0.13.0 munch-3.0.0 pyproj-3.5.0\n"
          ]
        }
      ]
    },
    {
      "cell_type": "code",
      "source": [
        "from google.colab import drive\n",
        "import os\n",
        "drive.mount('/content/drive/')"
      ],
      "metadata": {
        "colab": {
          "base_uri": "https://localhost:8080/"
        },
        "id": "xZ4ftPrypOXD",
        "outputId": "f6a85a6b-b9b2-4c05-e391-573fcb091772"
      },
      "execution_count": 2,
      "outputs": [
        {
          "output_type": "stream",
          "name": "stdout",
          "text": [
            "Mounted at /content/drive/\n"
          ]
        }
      ]
    },
    {
      "cell_type": "code",
      "source": [
        "os.chdir('/content/drive/MyDrive/CAMDA')\n",
        "!pwd"
      ],
      "metadata": {
        "colab": {
          "base_uri": "https://localhost:8080/"
        },
        "id": "7uwoV19ipZBV",
        "outputId": "3c5fa219-9264-471e-bd10-de53516d52f1"
      },
      "execution_count": 3,
      "outputs": [
        {
          "output_type": "stream",
          "name": "stdout",
          "text": [
            "/content/drive/MyDrive/CAMDA\n"
          ]
        }
      ]
    },
    {
      "cell_type": "code",
      "execution_count": 4,
      "metadata": {
        "id": "GX8Apfdzh7Ai"
      },
      "outputs": [],
      "source": [
        "import contextily as ctx\n",
        "import geopandas as gpd\n",
        "from mpl_toolkits.axes_grid1 import make_axes_locatable\n",
        "import pandas as pd \n",
        "import seaborn as sns\n",
        "import matplotlib.pyplot as plt\n",
        "import numpy as np"
      ]
    },
    {
      "cell_type": "code",
      "execution_count": 5,
      "metadata": {
        "colab": {
          "base_uri": "https://localhost:8080/",
          "height": 331
        },
        "id": "CP59lWCth7Ai",
        "outputId": "7e4b80fa-ab39-4485-cc3d-4188116ee095"
      },
      "outputs": [
        {
          "output_type": "execute_result",
          "data": {
            "text/plain": [
              "                              ID_city      City  Latitude  Longitude Climate  \\\n",
              "ID                                                                             \n",
              "CAMDA23_MetaSUB_gCSD16_AKL_10     AKL  Auckland    -36.75     174.75     Cfb   \n",
              "CAMDA23_MetaSUB_gCSD16_AKL_11     AKL  Auckland    -36.75     174.75     Cfb   \n",
              "CAMDA23_MetaSUB_gCSD16_AKL_12     AKL  Auckland    -36.75     174.75     Cfb   \n",
              "CAMDA23_MetaSUB_gCSD16_AKL_13     AKL  Auckland    -36.75     174.75     Cfb   \n",
              "CAMDA23_MetaSUB_gCSD16_AKL_14     AKL  Auckland    -36.75     174.75     Cfb   \n",
              "\n",
              "                               Year       468        469      28090   2708348  \\\n",
              "ID                                                                              \n",
              "CAMDA23_MetaSUB_gCSD16_AKL_10  2016  0.048249  10.696605  14.560432  1.407184   \n",
              "CAMDA23_MetaSUB_gCSD16_AKL_11  2016  0.038155   0.527739   0.041985  0.006187   \n",
              "CAMDA23_MetaSUB_gCSD16_AKL_12  2016  0.002185   0.234138   0.051282  0.004188   \n",
              "CAMDA23_MetaSUB_gCSD16_AKL_13  2016  0.000142   0.014304   0.010763  0.001360   \n",
              "CAMDA23_MetaSUB_gCSD16_AKL_14  2016  0.002103   0.061997   0.079509  0.003771   \n",
              "\n",
              "                               ...  1146874  1519389  12480  1131  2886895  \\\n",
              "ID                             ...                                           \n",
              "CAMDA23_MetaSUB_gCSD16_AKL_10  ...      0.0      0.0    0.0   0.0      0.0   \n",
              "CAMDA23_MetaSUB_gCSD16_AKL_11  ...      0.0      0.0    0.0   0.0      0.0   \n",
              "CAMDA23_MetaSUB_gCSD16_AKL_12  ...      0.0      0.0    0.0   0.0      0.0   \n",
              "CAMDA23_MetaSUB_gCSD16_AKL_13  ...      0.0      0.0    0.0   0.0      0.0   \n",
              "CAMDA23_MetaSUB_gCSD16_AKL_14  ...      0.0      0.0    0.0   0.0      0.0   \n",
              "\n",
              "                               546184  12330  1922682  1513254  1922952  \n",
              "ID                                                                       \n",
              "CAMDA23_MetaSUB_gCSD16_AKL_10     0.0    0.0      0.0      0.0      0.0  \n",
              "CAMDA23_MetaSUB_gCSD16_AKL_11     0.0    0.0      0.0      0.0      0.0  \n",
              "CAMDA23_MetaSUB_gCSD16_AKL_12     0.0    0.0      0.0      0.0      0.0  \n",
              "CAMDA23_MetaSUB_gCSD16_AKL_13     0.0    0.0      0.0      0.0      0.0  \n",
              "CAMDA23_MetaSUB_gCSD16_AKL_14     0.0    0.0      0.0      0.0      0.0  \n",
              "\n",
              "[5 rows x 18295 columns]"
            ],
            "text/html": [
              "\n",
              "  <div id=\"df-edfc6b8f-53be-4eec-a615-3ee53907738a\">\n",
              "    <div class=\"colab-df-container\">\n",
              "      <div>\n",
              "<style scoped>\n",
              "    .dataframe tbody tr th:only-of-type {\n",
              "        vertical-align: middle;\n",
              "    }\n",
              "\n",
              "    .dataframe tbody tr th {\n",
              "        vertical-align: top;\n",
              "    }\n",
              "\n",
              "    .dataframe thead th {\n",
              "        text-align: right;\n",
              "    }\n",
              "</style>\n",
              "<table border=\"1\" class=\"dataframe\">\n",
              "  <thead>\n",
              "    <tr style=\"text-align: right;\">\n",
              "      <th></th>\n",
              "      <th>ID_city</th>\n",
              "      <th>City</th>\n",
              "      <th>Latitude</th>\n",
              "      <th>Longitude</th>\n",
              "      <th>Climate</th>\n",
              "      <th>Year</th>\n",
              "      <th>468</th>\n",
              "      <th>469</th>\n",
              "      <th>28090</th>\n",
              "      <th>2708348</th>\n",
              "      <th>...</th>\n",
              "      <th>1146874</th>\n",
              "      <th>1519389</th>\n",
              "      <th>12480</th>\n",
              "      <th>1131</th>\n",
              "      <th>2886895</th>\n",
              "      <th>546184</th>\n",
              "      <th>12330</th>\n",
              "      <th>1922682</th>\n",
              "      <th>1513254</th>\n",
              "      <th>1922952</th>\n",
              "    </tr>\n",
              "    <tr>\n",
              "      <th>ID</th>\n",
              "      <th></th>\n",
              "      <th></th>\n",
              "      <th></th>\n",
              "      <th></th>\n",
              "      <th></th>\n",
              "      <th></th>\n",
              "      <th></th>\n",
              "      <th></th>\n",
              "      <th></th>\n",
              "      <th></th>\n",
              "      <th></th>\n",
              "      <th></th>\n",
              "      <th></th>\n",
              "      <th></th>\n",
              "      <th></th>\n",
              "      <th></th>\n",
              "      <th></th>\n",
              "      <th></th>\n",
              "      <th></th>\n",
              "      <th></th>\n",
              "      <th></th>\n",
              "    </tr>\n",
              "  </thead>\n",
              "  <tbody>\n",
              "    <tr>\n",
              "      <th>CAMDA23_MetaSUB_gCSD16_AKL_10</th>\n",
              "      <td>AKL</td>\n",
              "      <td>Auckland</td>\n",
              "      <td>-36.75</td>\n",
              "      <td>174.75</td>\n",
              "      <td>Cfb</td>\n",
              "      <td>2016</td>\n",
              "      <td>0.048249</td>\n",
              "      <td>10.696605</td>\n",
              "      <td>14.560432</td>\n",
              "      <td>1.407184</td>\n",
              "      <td>...</td>\n",
              "      <td>0.0</td>\n",
              "      <td>0.0</td>\n",
              "      <td>0.0</td>\n",
              "      <td>0.0</td>\n",
              "      <td>0.0</td>\n",
              "      <td>0.0</td>\n",
              "      <td>0.0</td>\n",
              "      <td>0.0</td>\n",
              "      <td>0.0</td>\n",
              "      <td>0.0</td>\n",
              "    </tr>\n",
              "    <tr>\n",
              "      <th>CAMDA23_MetaSUB_gCSD16_AKL_11</th>\n",
              "      <td>AKL</td>\n",
              "      <td>Auckland</td>\n",
              "      <td>-36.75</td>\n",
              "      <td>174.75</td>\n",
              "      <td>Cfb</td>\n",
              "      <td>2016</td>\n",
              "      <td>0.038155</td>\n",
              "      <td>0.527739</td>\n",
              "      <td>0.041985</td>\n",
              "      <td>0.006187</td>\n",
              "      <td>...</td>\n",
              "      <td>0.0</td>\n",
              "      <td>0.0</td>\n",
              "      <td>0.0</td>\n",
              "      <td>0.0</td>\n",
              "      <td>0.0</td>\n",
              "      <td>0.0</td>\n",
              "      <td>0.0</td>\n",
              "      <td>0.0</td>\n",
              "      <td>0.0</td>\n",
              "      <td>0.0</td>\n",
              "    </tr>\n",
              "    <tr>\n",
              "      <th>CAMDA23_MetaSUB_gCSD16_AKL_12</th>\n",
              "      <td>AKL</td>\n",
              "      <td>Auckland</td>\n",
              "      <td>-36.75</td>\n",
              "      <td>174.75</td>\n",
              "      <td>Cfb</td>\n",
              "      <td>2016</td>\n",
              "      <td>0.002185</td>\n",
              "      <td>0.234138</td>\n",
              "      <td>0.051282</td>\n",
              "      <td>0.004188</td>\n",
              "      <td>...</td>\n",
              "      <td>0.0</td>\n",
              "      <td>0.0</td>\n",
              "      <td>0.0</td>\n",
              "      <td>0.0</td>\n",
              "      <td>0.0</td>\n",
              "      <td>0.0</td>\n",
              "      <td>0.0</td>\n",
              "      <td>0.0</td>\n",
              "      <td>0.0</td>\n",
              "      <td>0.0</td>\n",
              "    </tr>\n",
              "    <tr>\n",
              "      <th>CAMDA23_MetaSUB_gCSD16_AKL_13</th>\n",
              "      <td>AKL</td>\n",
              "      <td>Auckland</td>\n",
              "      <td>-36.75</td>\n",
              "      <td>174.75</td>\n",
              "      <td>Cfb</td>\n",
              "      <td>2016</td>\n",
              "      <td>0.000142</td>\n",
              "      <td>0.014304</td>\n",
              "      <td>0.010763</td>\n",
              "      <td>0.001360</td>\n",
              "      <td>...</td>\n",
              "      <td>0.0</td>\n",
              "      <td>0.0</td>\n",
              "      <td>0.0</td>\n",
              "      <td>0.0</td>\n",
              "      <td>0.0</td>\n",
              "      <td>0.0</td>\n",
              "      <td>0.0</td>\n",
              "      <td>0.0</td>\n",
              "      <td>0.0</td>\n",
              "      <td>0.0</td>\n",
              "    </tr>\n",
              "    <tr>\n",
              "      <th>CAMDA23_MetaSUB_gCSD16_AKL_14</th>\n",
              "      <td>AKL</td>\n",
              "      <td>Auckland</td>\n",
              "      <td>-36.75</td>\n",
              "      <td>174.75</td>\n",
              "      <td>Cfb</td>\n",
              "      <td>2016</td>\n",
              "      <td>0.002103</td>\n",
              "      <td>0.061997</td>\n",
              "      <td>0.079509</td>\n",
              "      <td>0.003771</td>\n",
              "      <td>...</td>\n",
              "      <td>0.0</td>\n",
              "      <td>0.0</td>\n",
              "      <td>0.0</td>\n",
              "      <td>0.0</td>\n",
              "      <td>0.0</td>\n",
              "      <td>0.0</td>\n",
              "      <td>0.0</td>\n",
              "      <td>0.0</td>\n",
              "      <td>0.0</td>\n",
              "      <td>0.0</td>\n",
              "    </tr>\n",
              "  </tbody>\n",
              "</table>\n",
              "<p>5 rows × 18295 columns</p>\n",
              "</div>\n",
              "      <button class=\"colab-df-convert\" onclick=\"convertToInteractive('df-edfc6b8f-53be-4eec-a615-3ee53907738a')\"\n",
              "              title=\"Convert this dataframe to an interactive table.\"\n",
              "              style=\"display:none;\">\n",
              "        \n",
              "  <svg xmlns=\"http://www.w3.org/2000/svg\" height=\"24px\"viewBox=\"0 0 24 24\"\n",
              "       width=\"24px\">\n",
              "    <path d=\"M0 0h24v24H0V0z\" fill=\"none\"/>\n",
              "    <path d=\"M18.56 5.44l.94 2.06.94-2.06 2.06-.94-2.06-.94-.94-2.06-.94 2.06-2.06.94zm-11 1L8.5 8.5l.94-2.06 2.06-.94-2.06-.94L8.5 2.5l-.94 2.06-2.06.94zm10 10l.94 2.06.94-2.06 2.06-.94-2.06-.94-.94-2.06-.94 2.06-2.06.94z\"/><path d=\"M17.41 7.96l-1.37-1.37c-.4-.4-.92-.59-1.43-.59-.52 0-1.04.2-1.43.59L10.3 9.45l-7.72 7.72c-.78.78-.78 2.05 0 2.83L4 21.41c.39.39.9.59 1.41.59.51 0 1.02-.2 1.41-.59l7.78-7.78 2.81-2.81c.8-.78.8-2.07 0-2.86zM5.41 20L4 18.59l7.72-7.72 1.47 1.35L5.41 20z\"/>\n",
              "  </svg>\n",
              "      </button>\n",
              "      \n",
              "  <style>\n",
              "    .colab-df-container {\n",
              "      display:flex;\n",
              "      flex-wrap:wrap;\n",
              "      gap: 12px;\n",
              "    }\n",
              "\n",
              "    .colab-df-convert {\n",
              "      background-color: #E8F0FE;\n",
              "      border: none;\n",
              "      border-radius: 50%;\n",
              "      cursor: pointer;\n",
              "      display: none;\n",
              "      fill: #1967D2;\n",
              "      height: 32px;\n",
              "      padding: 0 0 0 0;\n",
              "      width: 32px;\n",
              "    }\n",
              "\n",
              "    .colab-df-convert:hover {\n",
              "      background-color: #E2EBFA;\n",
              "      box-shadow: 0px 1px 2px rgba(60, 64, 67, 0.3), 0px 1px 3px 1px rgba(60, 64, 67, 0.15);\n",
              "      fill: #174EA6;\n",
              "    }\n",
              "\n",
              "    [theme=dark] .colab-df-convert {\n",
              "      background-color: #3B4455;\n",
              "      fill: #D2E3FC;\n",
              "    }\n",
              "\n",
              "    [theme=dark] .colab-df-convert:hover {\n",
              "      background-color: #434B5C;\n",
              "      box-shadow: 0px 1px 3px 1px rgba(0, 0, 0, 0.15);\n",
              "      filter: drop-shadow(0px 1px 2px rgba(0, 0, 0, 0.3));\n",
              "      fill: #FFFFFF;\n",
              "    }\n",
              "  </style>\n",
              "\n",
              "      <script>\n",
              "        const buttonEl =\n",
              "          document.querySelector('#df-edfc6b8f-53be-4eec-a615-3ee53907738a button.colab-df-convert');\n",
              "        buttonEl.style.display =\n",
              "          google.colab.kernel.accessAllowed ? 'block' : 'none';\n",
              "\n",
              "        async function convertToInteractive(key) {\n",
              "          const element = document.querySelector('#df-edfc6b8f-53be-4eec-a615-3ee53907738a');\n",
              "          const dataTable =\n",
              "            await google.colab.kernel.invokeFunction('convertToInteractive',\n",
              "                                                     [key], {});\n",
              "          if (!dataTable) return;\n",
              "\n",
              "          const docLinkHtml = 'Like what you see? Visit the ' +\n",
              "            '<a target=\"_blank\" href=https://colab.research.google.com/notebooks/data_table.ipynb>data table notebook</a>'\n",
              "            + ' to learn more about interactive tables.';\n",
              "          element.innerHTML = '';\n",
              "          dataTable['output_type'] = 'display_data';\n",
              "          await google.colab.output.renderOutput(dataTable, element);\n",
              "          const docLink = document.createElement('div');\n",
              "          docLink.innerHTML = docLinkHtml;\n",
              "          element.appendChild(docLink);\n",
              "        }\n",
              "      </script>\n",
              "    </div>\n",
              "  </div>\n",
              "  "
            ]
          },
          "metadata": {},
          "execution_count": 5
        }
      ],
      "source": [
        "otus = pd.read_csv(\"camda_relative.csv\", index_col=\"ID\")\n",
        "otus.head()"
      ]
    },
    {
      "cell_type": "code",
      "execution_count": 6,
      "metadata": {
        "colab": {
          "base_uri": "https://localhost:8080/",
          "height": 430
        },
        "id": "2rvzbDPlh7Ai",
        "outputId": "537cb88c-c608-4bc1-fbf2-817da80f0cd3"
      },
      "outputs": [
        {
          "output_type": "display_data",
          "data": {
            "text/plain": [
              "<Figure size 1500x1500 with 1 Axes>"
            ],
            "image/png": "[encoded data removed]"
          },
          "metadata": {}
        }
      ],
      "source": [
        "otus_gdf = gpd.GeoDataFrame(otus.copy(), geometry=gpd.points_from_xy(otus['Longitude'], otus['Latitude']), crs='EPSG:4326')\n",
        "\n",
        "fig, ax = plt.subplots(1, figsize=(15, 15))\n",
        "otus_gdf.plot(marker='.', c='darkgreen', ax=ax, markersize=70, zorder=1)\n",
        "plt.title(\"Localización de las muestras\",fontsize=30)\n",
        "plt.axis(\"off\")\n",
        "\n",
        "ctx.add_basemap(ax, source=ctx.providers.CartoDB.Positron, crs='EPSG:4326')"
      ]
    },
    {
      "cell_type": "code",
      "execution_count": 8,
      "metadata": {
        "colab": {
          "base_uri": "https://localhost:8080/",
          "height": 519
        },
        "id": "225dn2LSh7Ai",
        "outputId": "5cd37afa-5d6d-4aed-9b90-7a67d76649f9"
      },
      "outputs": [
        {
          "output_type": "execute_result",
          "data": {
            "text/plain": [
              "                                    468        469      28090   2708348  \\\n",
              "ID                                                                        \n",
              "CAMDA23_MetaSUB_gCSD16_AKL_10  0.048249  10.696605  14.560432  1.407184   \n",
              "CAMDA23_MetaSUB_gCSD16_AKL_11  0.038155   0.527739   0.041985  0.006187   \n",
              "CAMDA23_MetaSUB_gCSD16_AKL_12  0.002185   0.234138   0.051282  0.004188   \n",
              "CAMDA23_MetaSUB_gCSD16_AKL_13  0.000142   0.014304   0.010763  0.001360   \n",
              "CAMDA23_MetaSUB_gCSD16_AKL_14  0.002103   0.061997   0.079509  0.003771   \n",
              "...                                 ...        ...        ...       ...   \n",
              "CAMDA23_MetaSUB_gCSD17_ZRH_5   0.005680   0.120175   0.057822  0.004221   \n",
              "CAMDA23_MetaSUB_gCSD17_ZRH_6   0.004338   0.293497   0.147385  0.007505   \n",
              "CAMDA23_MetaSUB_gCSD17_ZRH_7   0.004828   0.345558   0.146226  0.007608   \n",
              "CAMDA23_MetaSUB_gCSD17_ZRH_8   0.011375   0.585461   0.214900  0.008900   \n",
              "CAMDA23_MetaSUB_gCSD17_ZRH_9   0.002781   0.206718   0.095700  0.003464   \n",
              "\n",
              "                                2853158   2725684   2563897   1879049  \\\n",
              "ID                                                                      \n",
              "CAMDA23_MetaSUB_gCSD16_AKL_10  0.881451  0.459366  0.092738  0.084259   \n",
              "CAMDA23_MetaSUB_gCSD16_AKL_11  0.004125  0.001817  0.037517  0.043557   \n",
              "CAMDA23_MetaSUB_gCSD16_AKL_12  0.001881  0.001335  0.001578  0.004188   \n",
              "CAMDA23_MetaSUB_gCSD16_AKL_13  0.000510  0.000227  0.000340  0.000283   \n",
              "CAMDA23_MetaSUB_gCSD16_AKL_14  0.000653  0.001704  0.000544  0.000725   \n",
              "...                                 ...       ...       ...       ...   \n",
              "CAMDA23_MetaSUB_gCSD17_ZRH_5   0.000714  0.002452  0.002111  0.001148   \n",
              "CAMDA23_MetaSUB_gCSD17_ZRH_6   0.000930  0.007092  0.001653  0.001825   \n",
              "CAMDA23_MetaSUB_gCSD17_ZRH_7   0.001244  0.004535  0.001609  0.001463   \n",
              "CAMDA23_MetaSUB_gCSD17_ZRH_8   0.002058  0.010068  0.003143  0.002169   \n",
              "CAMDA23_MetaSUB_gCSD17_ZRH_9   0.001273  0.004053  0.000848  0.000566   \n",
              "\n",
              "                                2773709   2079596  ...   1519389     12480  \\\n",
              "ID                                                 ...                       \n",
              "CAMDA23_MetaSUB_gCSD16_AKL_10  0.049634  0.043755  ...  0.000000  0.000000   \n",
              "CAMDA23_MetaSUB_gCSD16_AKL_11  0.017383  0.002701  ...  0.000000  0.000000   \n",
              "CAMDA23_MetaSUB_gCSD16_AKL_12  0.000971  0.000668  ...  0.000000  0.000000   \n",
              "CAMDA23_MetaSUB_gCSD16_AKL_13  0.000340  0.000028  ...  0.000000  0.000000   \n",
              "CAMDA23_MetaSUB_gCSD16_AKL_14  0.000109  0.000036  ...  0.000000  0.000000   \n",
              "...                                 ...       ...  ...       ...       ...   \n",
              "CAMDA23_MetaSUB_gCSD17_ZRH_5   0.000776  0.000310  ...  0.000000  0.000000   \n",
              "CAMDA23_MetaSUB_gCSD17_ZRH_6   0.000930  0.000654  ...  0.000000  0.000000   \n",
              "CAMDA23_MetaSUB_gCSD17_ZRH_7   0.000585  0.001097  ...  0.000073  0.000073   \n",
              "CAMDA23_MetaSUB_gCSD17_ZRH_8   0.001780  0.001335  ...  0.000000  0.000000   \n",
              "CAMDA23_MetaSUB_gCSD17_ZRH_9   0.000424  0.000424  ...  0.000000  0.000000   \n",
              "\n",
              "                                   1131   2886895    546184     12330  \\\n",
              "ID                                                                      \n",
              "CAMDA23_MetaSUB_gCSD16_AKL_10  0.000000  0.000000  0.000000  0.000000   \n",
              "CAMDA23_MetaSUB_gCSD16_AKL_11  0.000000  0.000000  0.000000  0.000000   \n",
              "CAMDA23_MetaSUB_gCSD16_AKL_12  0.000000  0.000000  0.000000  0.000000   \n",
              "CAMDA23_MetaSUB_gCSD16_AKL_13  0.000000  0.000000  0.000000  0.000000   \n",
              "CAMDA23_MetaSUB_gCSD16_AKL_14  0.000000  0.000000  0.000000  0.000000   \n",
              "...                                 ...       ...       ...       ...   \n",
              "CAMDA23_MetaSUB_gCSD17_ZRH_5   0.000000  0.000000  0.000000  0.000000   \n",
              "CAMDA23_MetaSUB_gCSD17_ZRH_6   0.000000  0.000000  0.000000  0.000000   \n",
              "CAMDA23_MetaSUB_gCSD17_ZRH_7   0.000000  0.000000  0.000000  0.000000   \n",
              "CAMDA23_MetaSUB_gCSD17_ZRH_8   0.000028  0.000028  0.000028  0.000028   \n",
              "CAMDA23_MetaSUB_gCSD17_ZRH_9   0.000000  0.000000  0.000000  0.000000   \n",
              "\n",
              "                                1922682   1513254   1922952  Climate  \n",
              "ID                                                                    \n",
              "CAMDA23_MetaSUB_gCSD16_AKL_10  0.000000  0.000000  0.000000      Cfb  \n",
              "CAMDA23_MetaSUB_gCSD16_AKL_11  0.000000  0.000000  0.000000      Cfb  \n",
              "CAMDA23_MetaSUB_gCSD16_AKL_12  0.000000  0.000000  0.000000      Cfb  \n",
              "CAMDA23_MetaSUB_gCSD16_AKL_13  0.000000  0.000000  0.000000      Cfb  \n",
              "CAMDA23_MetaSUB_gCSD16_AKL_14  0.000000  0.000000  0.000000      Cfb  \n",
              "...                                 ...       ...       ...      ...  \n",
              "CAMDA23_MetaSUB_gCSD17_ZRH_5   0.000000  0.000000  0.000000      Cfb  \n",
              "CAMDA23_MetaSUB_gCSD17_ZRH_6   0.000000  0.000000  0.000000      Cfb  \n",
              "CAMDA23_MetaSUB_gCSD17_ZRH_7   0.000000  0.000000  0.000000      Cfb  \n",
              "CAMDA23_MetaSUB_gCSD17_ZRH_8   0.000028  0.000000  0.000000      Cfb  \n",
              "CAMDA23_MetaSUB_gCSD17_ZRH_9   0.000000  0.000024  0.000024      Cfb  \n",
              "\n",
              "[286 rows x 18290 columns]"
            ],
            "text/html": [
              "\n",
              "  <div id=\"df-8bd7114d-3807-4b68-993d-15e2fa05960f\">\n",
              "    <div class=\"colab-df-container\">\n",
              "      <div>\n",
              "<style scoped>\n",
              "    .dataframe tbody tr th:only-of-type {\n",
              "        vertical-align: middle;\n",
              "    }\n",
              "\n",
              "    .dataframe tbody tr th {\n",
              "        vertical-align: top;\n",
              "    }\n",
              "\n",
              "    .dataframe thead th {\n",
              "        text-align: right;\n",
              "    }\n",
              "</style>\n",
              "<table border=\"1\" class=\"dataframe\">\n",
              "  <thead>\n",
              "    <tr style=\"text-align: right;\">\n",
              "      <th></th>\n",
              "      <th>468</th>\n",
              "      <th>469</th>\n",
              "      <th>28090</th>\n",
              "      <th>2708348</th>\n",
              "      <th>2853158</th>\n",
              "      <th>2725684</th>\n",
              "      <th>2563897</th>\n",
              "      <th>1879049</th>\n",
              "      <th>2773709</th>\n",
              "      <th>2079596</th>\n",
              "      <th>...</th>\n",
              "      <th>1519389</th>\n",
              "      <th>12480</th>\n",
              "      <th>1131</th>\n",
              "      <th>2886895</th>\n",
              "      <th>546184</th>\n",
              "      <th>12330</th>\n",
              "      <th>1922682</th>\n",
              "      <th>1513254</th>\n",
              "      <th>1922952</th>\n",
              "      <th>Climate</th>\n",
              "    </tr>\n",
              "    <tr>\n",
              "      <th>ID</th>\n",
              "      <th></th>\n",
              "      <th></th>\n",
              "      <th></th>\n",
              "      <th></th>\n",
              "      <th></th>\n",
              "      <th></th>\n",
              "      <th></th>\n",
              "      <th></th>\n",
              "      <th></th>\n",
              "      <th></th>\n",
              "      <th></th>\n",
              "      <th></th>\n",
              "      <th></th>\n",
              "      <th></th>\n",
              "      <th></th>\n",
              "      <th></th>\n",
              "      <th></th>\n",
              "      <th></th>\n",
              "      <th></th>\n",
              "      <th></th>\n",
              "      <th></th>\n",
              "    </tr>\n",
              "  </thead>\n",
              "  <tbody>\n",
              "    <tr>\n",
              "      <th>CAMDA23_MetaSUB_gCSD16_AKL_10</th>\n",
              "      <td>0.048249</td>\n",
              "      <td>10.696605</td>\n",
              "      <td>14.560432</td>\n",
              "      <td>1.407184</td>\n",
              "      <td>0.881451</td>\n",
              "      <td>0.459366</td>\n",
              "      <td>0.092738</td>\n",
              "      <td>0.084259</td>\n",
              "      <td>0.049634</td>\n",
              "      <td>0.043755</td>\n",
              "      <td>...</td>\n",
              "      <td>0.000000</td>\n",
              "      <td>0.000000</td>\n",
              "      <td>0.000000</td>\n",
              "      <td>0.000000</td>\n",
              "      <td>0.000000</td>\n",
              "      <td>0.000000</td>\n",
              "      <td>0.000000</td>\n",
              "      <td>0.000000</td>\n",
              "      <td>0.000000</td>\n",
              "      <td>Cfb</td>\n",
              "    </tr>\n",
              "    <tr>\n",
              "      <th>CAMDA23_MetaSUB_gCSD16_AKL_11</th>\n",
              "      <td>0.038155</td>\n",
              "      <td>0.527739</td>\n",
              "      <td>0.041985</td>\n",
              "      <td>0.006187</td>\n",
              "      <td>0.004125</td>\n",
              "      <td>0.001817</td>\n",
              "      <td>0.037517</td>\n",
              "      <td>0.043557</td>\n",
              "      <td>0.017383</td>\n",
              "      <td>0.002701</td>\n",
              "      <td>...</td>\n",
              "      <td>0.000000</td>\n",
              "      <td>0.000000</td>\n",
              "      <td>0.000000</td>\n",
              "      <td>0.000000</td>\n",
              "      <td>0.000000</td>\n",
              "      <td>0.000000</td>\n",
              "      <td>0.000000</td>\n",
              "      <td>0.000000</td>\n",
              "      <td>0.000000</td>\n",
              "      <td>Cfb</td>\n",
              "    </tr>\n",
              "    <tr>\n",
              "      <th>CAMDA23_MetaSUB_gCSD16_AKL_12</th>\n",
              "      <td>0.002185</td>\n",
              "      <td>0.234138</td>\n",
              "      <td>0.051282</td>\n",
              "      <td>0.004188</td>\n",
              "      <td>0.001881</td>\n",
              "      <td>0.001335</td>\n",
              "      <td>0.001578</td>\n",
              "      <td>0.004188</td>\n",
              "      <td>0.000971</td>\n",
              "      <td>0.000668</td>\n",
              "      <td>...</td>\n",
              "      <td>0.000000</td>\n",
              "      <td>0.000000</td>\n",
              "      <td>0.000000</td>\n",
              "      <td>0.000000</td>\n",
              "      <td>0.000000</td>\n",
              "      <td>0.000000</td>\n",
              "      <td>0.000000</td>\n",
              "      <td>0.000000</td>\n",
              "      <td>0.000000</td>\n",
              "      <td>Cfb</td>\n",
              "    </tr>\n",
              "    <tr>\n",
              "      <th>CAMDA23_MetaSUB_gCSD16_AKL_13</th>\n",
              "      <td>0.000142</td>\n",
              "      <td>0.014304</td>\n",
              "      <td>0.010763</td>\n",
              "      <td>0.001360</td>\n",
              "      <td>0.000510</td>\n",
              "      <td>0.000227</td>\n",
              "      <td>0.000340</td>\n",
              "      <td>0.000283</td>\n",
              "      <td>0.000340</td>\n",
              "      <td>0.000028</td>\n",
              "      <td>...</td>\n",
              "      <td>0.000000</td>\n",
              "      <td>0.000000</td>\n",
              "      <td>0.000000</td>\n",
              "      <td>0.000000</td>\n",
              "      <td>0.000000</td>\n",
              "      <td>0.000000</td>\n",
              "      <td>0.000000</td>\n",
              "      <td>0.000000</td>\n",
              "      <td>0.000000</td>\n",
              "      <td>Cfb</td>\n",
              "    </tr>\n",
              "    <tr>\n",
              "      <th>CAMDA23_MetaSUB_gCSD16_AKL_14</th>\n",
              "      <td>0.002103</td>\n",
              "      <td>0.061997</td>\n",
              "      <td>0.079509</td>\n",
              "      <td>0.003771</td>\n",
              "      <td>0.000653</td>\n",
              "      <td>0.001704</td>\n",
              "      <td>0.000544</td>\n",
              "      <td>0.000725</td>\n",
              "      <td>0.000109</td>\n",
              "      <td>0.000036</td>\n",
              "      <td>...</td>\n",
              "      <td>0.000000</td>\n",
              "      <td>0.000000</td>\n",
              "      <td>0.000000</td>\n",
              "      <td>0.000000</td>\n",
              "      <td>0.000000</td>\n",
              "      <td>0.000000</td>\n",
              "      <td>0.000000</td>\n",
              "      <td>0.000000</td>\n",
              "      <td>0.000000</td>\n",
              "      <td>Cfb</td>\n",
              "    </tr>\n",
              "    <tr>\n",
              "      <th>...</th>\n",
              "      <td>...</td>\n",
              "      <td>...</td>\n",
              "      <td>...</td>\n",
              "      <td>...</td>\n",
              "      <td>...</td>\n",
              "      <td>...</td>\n",
              "      <td>...</td>\n",
              "      <td>...</td>\n",
              "      <td>...</td>\n",
              "      <td>...</td>\n",
              "      <td>...</td>\n",
              "      <td>...</td>\n",
              "      <td>...</td>\n",
              "      <td>...</td>\n",
              "      <td>...</td>\n",
              "      <td>...</td>\n",
              "      <td>...</td>\n",
              "      <td>...</td>\n",
              "      <td>...</td>\n",
              "      <td>...</td>\n",
              "      <td>...</td>\n",
              "    </tr>\n",
              "    <tr>\n",
              "      <th>CAMDA23_MetaSUB_gCSD17_ZRH_5</th>\n",
              "      <td>0.005680</td>\n",
              "      <td>0.120175</td>\n",
              "      <td>0.057822</td>\n",
              "      <td>0.004221</td>\n",
              "      <td>0.000714</td>\n",
              "      <td>0.002452</td>\n",
              "      <td>0.002111</td>\n",
              "      <td>0.001148</td>\n",
              "      <td>0.000776</td>\n",
              "      <td>0.000310</td>\n",
              "      <td>...</td>\n",
              "      <td>0.000000</td>\n",
              "      <td>0.000000</td>\n",
              "      <td>0.000000</td>\n",
              "      <td>0.000000</td>\n",
              "      <td>0.000000</td>\n",
              "      <td>0.000000</td>\n",
              "      <td>0.000000</td>\n",
              "      <td>0.000000</td>\n",
              "      <td>0.000000</td>\n",
              "      <td>Cfb</td>\n",
              "    </tr>\n",
              "    <tr>\n",
              "      <th>CAMDA23_MetaSUB_gCSD17_ZRH_6</th>\n",
              "      <td>0.004338</td>\n",
              "      <td>0.293497</td>\n",
              "      <td>0.147385</td>\n",
              "      <td>0.007505</td>\n",
              "      <td>0.000930</td>\n",
              "      <td>0.007092</td>\n",
              "      <td>0.001653</td>\n",
              "      <td>0.001825</td>\n",
              "      <td>0.000930</td>\n",
              "      <td>0.000654</td>\n",
              "      <td>...</td>\n",
              "      <td>0.000000</td>\n",
              "      <td>0.000000</td>\n",
              "      <td>0.000000</td>\n",
              "      <td>0.000000</td>\n",
              "      <td>0.000000</td>\n",
              "      <td>0.000000</td>\n",
              "      <td>0.000000</td>\n",
              "      <td>0.000000</td>\n",
              "      <td>0.000000</td>\n",
              "      <td>Cfb</td>\n",
              "    </tr>\n",
              "    <tr>\n",
              "      <th>CAMDA23_MetaSUB_gCSD17_ZRH_7</th>\n",
              "      <td>0.004828</td>\n",
              "      <td>0.345558</td>\n",
              "      <td>0.146226</td>\n",
              "      <td>0.007608</td>\n",
              "      <td>0.001244</td>\n",
              "      <td>0.004535</td>\n",
              "      <td>0.001609</td>\n",
              "      <td>0.001463</td>\n",
              "      <td>0.000585</td>\n",
              "      <td>0.001097</td>\n",
              "      <td>...</td>\n",
              "      <td>0.000073</td>\n",
              "      <td>0.000073</td>\n",
              "      <td>0.000000</td>\n",
              "      <td>0.000000</td>\n",
              "      <td>0.000000</td>\n",
              "      <td>0.000000</td>\n",
              "      <td>0.000000</td>\n",
              "      <td>0.000000</td>\n",
              "      <td>0.000000</td>\n",
              "      <td>Cfb</td>\n",
              "    </tr>\n",
              "    <tr>\n",
              "      <th>CAMDA23_MetaSUB_gCSD17_ZRH_8</th>\n",
              "      <td>0.011375</td>\n",
              "      <td>0.585461</td>\n",
              "      <td>0.214900</td>\n",
              "      <td>0.008900</td>\n",
              "      <td>0.002058</td>\n",
              "      <td>0.010068</td>\n",
              "      <td>0.003143</td>\n",
              "      <td>0.002169</td>\n",
              "      <td>0.001780</td>\n",
              "      <td>0.001335</td>\n",
              "      <td>...</td>\n",
              "      <td>0.000000</td>\n",
              "      <td>0.000000</td>\n",
              "      <td>0.000028</td>\n",
              "      <td>0.000028</td>\n",
              "      <td>0.000028</td>\n",
              "      <td>0.000028</td>\n",
              "      <td>0.000028</td>\n",
              "      <td>0.000000</td>\n",
              "      <td>0.000000</td>\n",
              "      <td>Cfb</td>\n",
              "    </tr>\n",
              "    <tr>\n",
              "      <th>CAMDA23_MetaSUB_gCSD17_ZRH_9</th>\n",
              "      <td>0.002781</td>\n",
              "      <td>0.206718</td>\n",
              "      <td>0.095700</td>\n",
              "      <td>0.003464</td>\n",
              "      <td>0.001273</td>\n",
              "      <td>0.004053</td>\n",
              "      <td>0.000848</td>\n",
              "      <td>0.000566</td>\n",
              "      <td>0.000424</td>\n",
              "      <td>0.000424</td>\n",
              "      <td>...</td>\n",
              "      <td>0.000000</td>\n",
              "      <td>0.000000</td>\n",
              "      <td>0.000000</td>\n",
              "      <td>0.000000</td>\n",
              "      <td>0.000000</td>\n",
              "      <td>0.000000</td>\n",
              "      <td>0.000000</td>\n",
              "      <td>0.000024</td>\n",
              "      <td>0.000024</td>\n",
              "      <td>Cfb</td>\n",
              "    </tr>\n",
              "  </tbody>\n",
              "</table>\n",
              "<p>286 rows × 18290 columns</p>\n",
              "</div>\n",
              "      <button class=\"colab-df-convert\" onclick=\"convertToInteractive('df-8bd7114d-3807-4b68-993d-15e2fa05960f')\"\n",
              "              title=\"Convert this dataframe to an interactive table.\"\n",
              "              style=\"display:none;\">\n",
              "        \n",
              "  <svg xmlns=\"http://www.w3.org/2000/svg\" height=\"24px\"viewBox=\"0 0 24 24\"\n",
              "       width=\"24px\">\n",
              "    <path d=\"M0 0h24v24H0V0z\" fill=\"none\"/>\n",
              "    <path d=\"M18.56 5.44l.94 2.06.94-2.06 2.06-.94-2.06-.94-.94-2.06-.94 2.06-2.06.94zm-11 1L8.5 8.5l.94-2.06 2.06-.94-2.06-.94L8.5 2.5l-.94 2.06-2.06.94zm10 10l.94 2.06.94-2.06 2.06-.94-2.06-.94-.94-2.06-.94 2.06-2.06.94z\"/><path d=\"M17.41 7.96l-1.37-1.37c-.4-.4-.92-.59-1.43-.59-.52 0-1.04.2-1.43.59L10.3 9.45l-7.72 7.72c-.78.78-.78 2.05 0 2.83L4 21.41c.39.39.9.59 1.41.59.51 0 1.02-.2 1.41-.59l7.78-7.78 2.81-2.81c.8-.78.8-2.07 0-2.86zM5.41 20L4 18.59l7.72-7.72 1.47 1.35L5.41 20z\"/>\n",
              "  </svg>\n",
              "      </button>\n",
              "      \n",
              "  <style>\n",
              "    .colab-df-container {\n",
              "      display:flex;\n",
              "      flex-wrap:wrap;\n",
              "      gap: 12px;\n",
              "    }\n",
              "\n",
              "    .colab-df-convert {\n",
              "      background-color: #E8F0FE;\n",
              "      border: none;\n",
              "      border-radius: 50%;\n",
              "      cursor: pointer;\n",
              "      display: none;\n",
              "      fill: #1967D2;\n",
              "      height: 32px;\n",
              "      padding: 0 0 0 0;\n",
              "      width: 32px;\n",
              "    }\n",
              "\n",
              "    .colab-df-convert:hover {\n",
              "      background-color: #E2EBFA;\n",
              "      box-shadow: 0px 1px 2px rgba(60, 64, 67, 0.3), 0px 1px 3px 1px rgba(60, 64, 67, 0.15);\n",
              "      fill: #174EA6;\n",
              "    }\n",
              "\n",
              "    [theme=dark] .colab-df-convert {\n",
              "      background-color: #3B4455;\n",
              "      fill: #D2E3FC;\n",
              "    }\n",
              "\n",
              "    [theme=dark] .colab-df-convert:hover {\n",
              "      background-color: #434B5C;\n",
              "      box-shadow: 0px 1px 3px 1px rgba(0, 0, 0, 0.15);\n",
              "      filter: drop-shadow(0px 1px 2px rgba(0, 0, 0, 0.3));\n",
              "      fill: #FFFFFF;\n",
              "    }\n",
              "  </style>\n",
              "\n",
              "      <script>\n",
              "        const buttonEl =\n",
              "          document.querySelector('#df-8bd7114d-3807-4b68-993d-15e2fa05960f button.colab-df-convert');\n",
              "        buttonEl.style.display =\n",
              "          google.colab.kernel.accessAllowed ? 'block' : 'none';\n",
              "\n",
              "        async function convertToInteractive(key) {\n",
              "          const element = document.querySelector('#df-8bd7114d-3807-4b68-993d-15e2fa05960f');\n",
              "          const dataTable =\n",
              "            await google.colab.kernel.invokeFunction('convertToInteractive',\n",
              "                                                     [key], {});\n",
              "          if (!dataTable) return;\n",
              "\n",
              "          const docLinkHtml = 'Like what you see? Visit the ' +\n",
              "            '<a target=\"_blank\" href=https://colab.research.google.com/notebooks/data_table.ipynb>data table notebook</a>'\n",
              "            + ' to learn more about interactive tables.';\n",
              "          element.innerHTML = '';\n",
              "          dataTable['output_type'] = 'display_data';\n",
              "          await google.colab.output.renderOutput(dataTable, element);\n",
              "          const docLink = document.createElement('div');\n",
              "          docLink.innerHTML = docLinkHtml;\n",
              "          element.appendChild(docLink);\n",
              "        }\n",
              "      </script>\n",
              "    </div>\n",
              "  </div>\n",
              "  "
            ]
          },
          "metadata": {},
          "execution_count": 8
        }
      ],
      "source": [
        "cont_names = list(otus.drop([\"ID_city\",\"City\",\"Climate\",\"Latitude\", \"Longitude\",\"Year\"], axis=1).columns)\n",
        "y_names = [\"Climate\"]\n",
        "train_df = otus[cont_names+y_names]\n",
        "train_df"
      ]
    },
    {
      "cell_type": "code",
      "execution_count": 10,
      "metadata": {
        "colab": {
          "base_uri": "https://localhost:8080/",
          "height": 880
        },
        "id": "TG8sc4Mlh7Ai",
        "outputId": "6c0d301c-d6ee-4fa3-bbae-5714df180b1a"
      },
      "outputs": [
        {
          "output_type": "display_data",
          "data": {
            "text/plain": [
              "<Figure size 1000x1000 with 1 Axes>"
            ],
            "image/png": "[encoded data removed]"
          },
          "metadata": {}
        }
      ],
      "source": [
        "fig, ax = plt.subplots(1,1 ,figsize=(10, 10))\n",
        "sns.countplot(data=train_df, y=\"Climate\", order=train_df.Climate.value_counts().index, color=\"blue\")\n",
        "plt.xlabel(\"Frecuencia\")\n",
        "plt.ylabel(\"Clima\")\n",
        "plt.title(\"Distribución de climas\", fontsize=21)\n",
        "plt.show()"
      ]
    },
    {
      "cell_type": "code",
      "execution_count": 11,
      "metadata": {
        "id": "Ppo4JWdNh7Aj"
      },
      "outputs": [],
      "source": [
        "y = np.array(train_df[y_names]).ravel()\n",
        "X = np.array(train_df.drop(y_names,axis=1)).astype('float')"
      ]
    },
    {
      "cell_type": "code",
      "execution_count": 12,
      "metadata": {
        "colab": {
          "base_uri": "https://localhost:8080/",
          "height": 617
        },
        "id": "LUKryH70h7Aj",
        "outputId": "cd8959fd-6475-40b2-809a-daea4a2ddbf8"
      },
      "outputs": [
        {
          "output_type": "display_data",
          "data": {
            "text/html": [
              "<html>\n",
              "<head><meta charset=\"utf-8\" /></head>\n",
              "<body>\n",
              "    <div>            <script src=\"https://cdnjs.cloudflare.com/ajax/libs/mathjax/2.7.5/MathJax.js?config=TeX-AMS-MML_SVG\"></script><script type=\"text/javascript\">if (window.MathJax && window.MathJax.Hub && window.MathJax.Hub.Config) {window.MathJax.Hub.Config({SVG: {font: \"STIX-Web\"}});}</script>                <script type=\"text/javascript\">window.PlotlyConfig = {MathJaxConfig: 'local'};</script>\n",
              "        <script src=\"https://cdn.plot.ly/plotly-2.18.2.min.js\"></script>                <div id=\"1671f52d-7069-472b-8f41-d4510a95733a\" class=\"plotly-graph-div\" style=\"height:600px; width:600px;\"></div>            <script type=\"text/javascript\">                                    window.PLOTLYENV=window.PLOTLYENV || {};                                    if (document.getElementById(\"1671f52d-7069-472b-8f41-d4510a95733a\")) {                    Plotly.newPlot(                        \"1671f52d-7069-472b-8f41-d4510a95733a\",                        [{\"customdata\":[[\"Cfb\"],[\"Cfb\"],[\"Cfb\"],[\"Cfb\"],[\"Cfb\"],[\"Cfb\"],[\"Cfb\"],[\"Cfb\"],[\"Cfb\"],[\"Cfb\"],[\"Cfb\"],[\"Cfb\"],[\"Cfb\"],[\"Cfb\"],[\"Cfb\"],[\"Cfb\"],[\"Cfb\"],[\"Cfb\"],[\"Cfb\"],[\"Cfb\"],[\"Cfb\"],[\"Cfb\"],[\"Cfb\"],[\"Cfb\"],[\"Cfb\"],[\"Cfb\"],[\"Cfb\"],[\"Cfb\"],[\"Cfb\"],[\"Cfb\"],[\"Cfb\"],[\"Cfb\"],[\"Cfb\"],[\"Cfb\"],[\"Cfb\"],[\"Cfb\"],[\"Cfb\"],[\"Cfb\"],[\"Cfb\"],[\"Cfb\"],[\"Cfb\"],[\"Cfb\"],[\"Cfb\"],[\"Cfb\"],[\"Cfb\"],[\"Cfb\"],[\"Cfb\"],[\"Cfb\"],[\"Cfb\"],[\"Cfb\"],[\"Cfb\"],[\"Cfb\"],[\"Cfb\"],[\"Cfb\"],[\"Cfb\"],[\"Cfb\"],[\"Cfb\"],[\"Cfb\"],[\"Cfb\"],[\"Cfb\"],[\"Cfb\"]],\"hovertemplate\":\"clima=%{customdata[0]}<br>pc1=%{x}<br>pc2=%{y}<extra></extra>\",\"legendgroup\":\"Cfb\",\"marker\":{\"color\":\"#636efa\",\"symbol\":\"circle\"},\"mode\":\"markers\",\"name\":\"Cfb\",\"orientation\":\"v\",\"showlegend\":true,\"x\":[-40.16016591128124,7.959555600317549,19.25034771183672,-30.391137116945632,-30.615948591393934,-44.223639067730744,-55.96433714534019,-47.13595267593772,-42.8586979949635,-53.40595549346983,5.243665091177638,-44.00268355233065,-43.351632836668024,-28.152211764755084,-23.412171971921236,43.304747504704714,-1.9151881300393885,48.62961494467877,-49.25525402891485,-44.23167380086249,-11.147429703691463,1.8787167483279261,2.1644315715537807,-46.98751199563835,-26.13444819351793,-14.743289944969746,61.708490840464236,-49.78010768014559,-45.5311950520012,-40.65073631578943,86.79863225455759,-26.9158159202582,30.41227347591915,-1.5980916256569564,-49.303892139491765,2.9612718206894595,-20.623803970635137,-12.433505734703237,0.5697255326032988,17.118370265641058,12.732592643610543,-39.62591668587836,27.669023244178177,-7.655029909425179,-37.94381481908083,-24.16289763485267,-51.807119661425205,21.680785907496162,-25.59204960124298,53.058867974847495,-32.77599801757733,-16.32049224555022,-42.45861962878477,-34.030762626326386,6.699383460890646,-39.28552064621544,64.26432745811498,55.24054993902327,14.713522873168685,-21.210539793084966,-45.3925208855034],\"xaxis\":\"x\",\"y\":[10.616705841030756,34.070318406285956,0.3532381848313937,21.318281221175926,18.929393616570405,19.203284744685373,3.0459566010967234,9.576991985184865,2.970008382494265,10.083036079034398,-19.681588622019607,0.20446018990657575,-0.6775409481440524,-1.188681614497777,9.226020512908613,54.41147948758674,2.814697721014017,19.960186093210627,7.261054871557554,9.774729059954439,-2.2450007937717005,15.926817049575279,-0.550513485422183,5.577441424568128,9.095258396056131,1.0530668086932526,6.407504309302656,4.794305978044095,6.53581642024035,-4.1559282688454395,-44.69320171556717,-11.879967630087762,-32.70635732656977,-20.515383457004766,-0.26789957610944826,-21.410275417133708,-9.576934600409517,-9.504265411344827,-17.98297420950376,-21.505294063527987,-20.017340523903968,-2.5131672990592944,-23.74222370033419,-16.042093484181425,-6.300155875551807,-5.892342151463429,2.1919740445912943,-10.362249150763075,10.102907544085848,-26.127636486951253,-7.650916529450331,-8.10269242020461,0.5877547655375235,-9.153710882339968,-16.66562618719767,-3.007429820580463,-36.34379564505886,-40.94849629972275,-6.49377571049942,-2.706151205808874,-1.3758988509949892],\"yaxis\":\"y\",\"type\":\"scatter\"},{\"customdata\":[[\"BSk\"],[\"BSk\"],[\"BSk\"],[\"BSk\"],[\"BSk\"],[\"BSk\"],[\"BSk\"],[\"BSk\"],[\"BSk\"],[\"BSk\"],[\"BSk\"],[\"BSk\"],[\"BSk\"],[\"BSk\"],[\"BSk\"],[\"BSk\"],[\"BSk\"],[\"BSk\"],[\"BSk\"],[\"BSk\"],[\"BSk\"],[\"BSk\"],[\"BSk\"],[\"BSk\"],[\"BSk\"],[\"BSk\"],[\"BSk\"],[\"BSk\"],[\"BSk\"],[\"BSk\"],[\"BSk\"],[\"BSk\"],[\"BSk\"],[\"BSk\"],[\"BSk\"],[\"BSk\"],[\"BSk\"],[\"BSk\"],[\"BSk\"],[\"BSk\"],[\"BSk\"],[\"BSk\"],[\"BSk\"],[\"BSk\"]],\"hovertemplate\":\"clima=%{customdata[0]}<br>pc1=%{x}<br>pc2=%{y}<extra></extra>\",\"legendgroup\":\"BSk\",\"marker\":{\"color\":\"#EF553B\",\"symbol\":\"circle\"},\"mode\":\"markers\",\"name\":\"BSk\",\"orientation\":\"v\",\"showlegend\":true,\"x\":[15.865215863138278,-21.002863477928685,123.72333678032774,32.841955483979696,-29.96669043792456,-48.90824546313307,-52.6893478621475,-30.571561657905924,40.41017952344533,75.73061571839442,-38.87247330499862,-29.52046130865674,-42.4990200202183,125.7749863839082,-42.75249452551014,5.043949779769579,114.41889210785395,-38.190872124836545,-13.348656609170327,-40.44063290700898,-28.78839098429893,-41.55844713735203,57.59248085131838,-29.84595937748399,6.963330915587298,-44.12262665661904,-28.077589770826386,22.332680728104645,-9.52672500240597,16.365343780374637,-19.381683146074145,-14.223232950124883,17.97225657371824,14.79334123780479,-2.506285337364716,1.8576041672793107,11.739035640931759,-20.557834374244976,10.235466255728602,14.000687953307436,-1.3563403793807005,0.20331281576603744,-14.794114689628053,-31.5085272657765],\"xaxis\":\"x\",\"y\":[122.99667461142973,58.35881678342869,317.4217223193865,112.67871258421471,33.25687284167196,12.184854234908931,6.531046732224314,45.92283414766761,174.92743509320016,218.61513178511538,19.003034648553797,41.854971420803864,19.189909346131955,304.321423743085,21.37553465379392,106.7377426813984,285.8195009211037,28.686346873941208,73.60255384707712,26.359402055483514,40.505384609710994,20.610666697648035,6.165760227371062,-6.286810895262294,6.547489729524503,1.569328458882588,-2.4295984928946486,-19.66037818586565,-17.99675188526372,2.0559796057578357,-12.452075804854394,-15.845013815107965,26.859411261035916,-7.981781882556081,-6.817799754642671,-21.43469947069809,0.36047073426953713,-12.652795095370648,31.66308427467674,-9.925443115715177,-9.316021892702597,-21.19225080815982,-8.276213347471915,-7.639403725603467],\"yaxis\":\"y\",\"type\":\"scatter\"},{\"customdata\":[[\"BWh\"],[\"BWh\"],[\"BWh\"],[\"BWh\"],[\"BWh\"],[\"BWh\"],[\"BWh\"],[\"BWh\"],[\"BWh\"],[\"BWh\"],[\"BWh\"],[\"BWh\"],[\"BWh\"],[\"BWh\"],[\"BWh\"],[\"BWh\"],[\"BWh\"],[\"BWh\"],[\"BWh\"],[\"BWh\"],[\"BWh\"],[\"BWh\"],[\"BWh\"],[\"BWh\"],[\"BWh\"],[\"BWh\"],[\"BWh\"]],\"hovertemplate\":\"clima=%{customdata[0]}<br>pc1=%{x}<br>pc2=%{y}<extra></extra>\",\"legendgroup\":\"BWh\",\"marker\":{\"color\":\"#00cc96\",\"symbol\":\"circle\"},\"mode\":\"markers\",\"name\":\"BWh\",\"orientation\":\"v\",\"showlegend\":true,\"x\":[-46.615991774076775,-29.23897222198527,-50.48687896865714,-20.605696694402262,-42.18279177769088,-34.00248878312077,-20.64340715792071,13.135542700172605,-39.336649305180245,-21.56858907944092,-34.413411641660566,37.204233121695566,-39.847882188296474,-37.62799037357834,37.1525849112161,-31.460520267964974,-21.066654773002956,-20.288852895013132,-27.436367499323303,-10.110274804500792,-37.47281064351161,-25.07261421615791,-47.98898490574884,31.35486807527588,-43.18689159628688,115.33134642781569,-15.077068964184228],\"xaxis\":\"x\",\"y\":[10.129925245897825,20.09883013466828,6.872496874161932,18.39372366566816,11.195442812913067,1.0778197867074584,1.7227561318991051,26.971238774063895,16.495722975159737,21.5466884025433,12.381640503861433,35.1111339945439,6.923423449564348,-6.563086652798249,-32.3453268523732,-7.168283222046913,19.79553506445718,-12.923780660768276,-7.933655093473564,-9.85971584759147,-4.646593087823111,-7.162748666073887,-0.34780903155317217,-27.871912630339576,-2.564820840504629,-29.96072970509426,-11.327504037758253],\"yaxis\":\"y\",\"type\":\"scatter\"},{\"customdata\":[[\"Csa\"],[\"Csa\"],[\"Csa\"],[\"Csa\"],[\"Csa\"],[\"Csa\"],[\"Csa\"],[\"Csa\"],[\"Csa\"],[\"Csa\"],[\"Csa\"],[\"Csa\"],[\"Csa\"],[\"Csa\"],[\"Csa\"],[\"Csa\"],[\"Csa\"],[\"Csa\"],[\"Csa\"],[\"Csa\"],[\"Csa\"],[\"Csa\"],[\"Csa\"],[\"Csa\"],[\"Csa\"],[\"Csa\"],[\"Csa\"],[\"Csa\"],[\"Csa\"],[\"Csa\"],[\"Csa\"]],\"hovertemplate\":\"clima=%{customdata[0]}<br>pc1=%{x}<br>pc2=%{y}<extra></extra>\",\"legendgroup\":\"Csa\",\"marker\":{\"color\":\"#ab63fa\",\"symbol\":\"circle\"},\"mode\":\"markers\",\"name\":\"Csa\",\"orientation\":\"v\",\"showlegend\":true,\"x\":[-50.29493008072262,-56.85521152216395,-45.41426012770595,-41.545094295148054,-54.243972024841135,-35.53131026752717,-50.879370326833104,-55.51402761985175,-53.55461447121333,-39.1213324447921,-52.59783681695111,-54.75914086550383,-38.47889820848253,2.588414369855429,-49.1461578394054,116.93241608359988,122.1212648052292,103.27128490761176,79.75449040484402,37.17945044344555,10.969586667099682,92.45430056889822,109.61691902769844,18.66260286368143,75.26904408030057,92.51855644542341,115.56785749906801,106.80955997305627,96.90461430128414,79.1053647722029,118.89102507350576],\"xaxis\":\"x\",\"y\":[14.823728884775473,2.2966965854685917,7.761008743768921,11.769115334952906,1.4431155383803316,8.93405258951928,12.678481571514453,3.140474616072471,5.656062087683191,26.73147580733338,10.706476762662698,3.8931110072750164,1.5035666627058597,-18.677581204902026,1.1028321577013058,-14.609365911798303,-19.939615646185985,-5.5822852587885965,-24.9977934134385,-6.72720419976748,9.143234614441013,-40.78897432334091,-44.71815435073513,31.294323161397944,-38.39227788655704,-8.881092862567906,-49.07577974374213,-35.99875550242569,-15.32571966644965,-38.96744299958232,-20.798327911623748],\"yaxis\":\"y\",\"type\":\"scatter\"},{\"customdata\":[[\"Cfa\"],[\"Cfa\"],[\"Cfa\"],[\"Cfa\"],[\"Cfa\"],[\"Cfa\"],[\"Cfa\"],[\"Cfa\"],[\"Cfa\"],[\"Cfa\"],[\"Cfa\"],[\"Cfa\"],[\"Cfa\"],[\"Cfa\"],[\"Cfa\"],[\"Cfa\"],[\"Cfa\"],[\"Cfa\"],[\"Cfa\"],[\"Cfa\"],[\"Cfa\"],[\"Cfa\"],[\"Cfa\"],[\"Cfa\"],[\"Cfa\"],[\"Cfa\"],[\"Cfa\"],[\"Cfa\"],[\"Cfa\"],[\"Cfa\"],[\"Cfa\"],[\"Cfa\"],[\"Cfa\"],[\"Cfa\"],[\"Cfa\"],[\"Cfa\"],[\"Cfa\"],[\"Cfa\"],[\"Cfa\"],[\"Cfa\"],[\"Cfa\"],[\"Cfa\"],[\"Cfa\"],[\"Cfa\"],[\"Cfa\"],[\"Cfa\"],[\"Cfa\"],[\"Cfa\"],[\"Cfa\"],[\"Cfa\"],[\"Cfa\"],[\"Cfa\"],[\"Cfa\"],[\"Cfa\"],[\"Cfa\"],[\"Cfa\"],[\"Cfa\"],[\"Cfa\"],[\"Cfa\"],[\"Cfa\"],[\"Cfa\"],[\"Cfa\"],[\"Cfa\"],[\"Cfa\"],[\"Cfa\"],[\"Cfa\"],[\"Cfa\"],[\"Cfa\"],[\"Cfa\"],[\"Cfa\"],[\"Cfa\"],[\"Cfa\"],[\"Cfa\"],[\"Cfa\"],[\"Cfa\"],[\"Cfa\"],[\"Cfa\"],[\"Cfa\"],[\"Cfa\"],[\"Cfa\"],[\"Cfa\"],[\"Cfa\"],[\"Cfa\"],[\"Cfa\"],[\"Cfa\"],[\"Cfa\"],[\"Cfa\"],[\"Cfa\"],[\"Cfa\"],[\"Cfa\"],[\"Cfa\"],[\"Cfa\"],[\"Cfa\"],[\"Cfa\"],[\"Cfa\"],[\"Cfa\"],[\"Cfa\"],[\"Cfa\"],[\"Cfa\"]],\"hovertemplate\":\"clima=%{customdata[0]}<br>pc1=%{x}<br>pc2=%{y}<extra></extra>\",\"legendgroup\":\"Cfa\",\"marker\":{\"color\":\"#FFA15A\",\"symbol\":\"circle\"},\"mode\":\"markers\",\"name\":\"Cfa\",\"orientation\":\"v\",\"showlegend\":true,\"x\":[-11.671097517995394,-17.124519953855778,-20.33761294800339,-13.131909500560813,-27.825705877951307,-34.01350794136962,-18.042604428515098,-31.179526302766675,-12.733194208915123,-4.493732228491147,-16.954687735193858,-18.805404144163557,3.574834038561121,-35.79319616318948,-4.275048426062027,74.5597294832534,1.5338413113162104,28.12180003091863,-15.426441728692494,-40.0071721081133,2.1648127850176375,-21.705545195624296,-44.53324216166174,16.666709534476396,-27.626383238171474,15.409303472330008,58.01311034596277,-41.939874365884165,-30.017163875497765,-16.53464559421673,26.14670349506681,-27.138029807777908,-36.055745042667695,66.31592447174862,100.90843609045861,-0.07260634123828652,-12.97201820082107,35.806229990925516,38.9289375159622,49.745576421443914,22.70816702756517,98.01133078112679,35.278250872868576,52.37753198155974,62.76851099304394,-1.0856003600541264,98.0361857889727,72.89910855030564,55.84356317384889,-41.48466594840228,-29.767868226156462,-46.144631499065376,-4.843760976166278,-42.502250290490316,-42.47722920155643,-34.1635009355361,13.896852110150835,-32.4470554339504,-31.532754403816476,-37.59104290594885,-15.100121809388167,28.5149489676104,-33.33033868325391,-23.592478775852435,-34.03297238112686,-47.54720759009982,-27.689257365690583,68.66702759601225,-56.992762073888905,-42.12263173202095,-31.945035408990655,-33.08186612308469,-17.68678282397813,7.967387258806377,-27.19736900229843,-39.82155712710483,-36.48942916250399,-29.120662043143465,-31.19937078725229,63.70446648800541,28.6594911930359,-30.095201959646136,-36.535363064624306,-31.63317016457855,-38.307762875045924,-53.60098930736004,-42.690365973337876,-45.31745674867454,-35.33940523451972,-41.16262144484123,53.57878580270853,-32.352025184542704,-37.03024929539637,-26.752591282833336,51.17519244358282,96.19482452361925,-28.1731708154309,3.4849840861434327,6.006331573218075],\"xaxis\":\"x\",\"y\":[-9.69732948940726,-0.022622155296784716,-8.272707479011519,-12.021803430103532,-3.3441323311896647,-1.066798434899967,-4.8057087216369645,-4.638578693908377,-14.419740834555629,-18.671917855097067,-12.92535390569731,-13.639986844074008,-17.096396421266125,-7.629444577860936,11.743042844393914,-19.855059509930896,-21.05069822288929,-19.334297482345498,-13.543524891785724,-3.025171703770796,-20.638441374704204,-14.75724455886185,-3.722106775763271,-16.687044016246293,-10.1070050741058,-18.738790644669514,-3.8382530712330816,-4.371413601681601,-11.509565790736927,-16.247226960926742,-29.07417129922363,-11.459874478636722,-4.623616745010904,-44.819312070274655,-60.583599761723164,11.59790339234838,-2.8696386133290486,-35.987952836111305,-22.888182813439997,-23.712791104858013,6.450888009987771,-65.05369484804092,-12.33405135499043,18.310348309509187,12.587379392449401,33.701367425222045,-39.05130882078427,-45.2542681245126,-44.29284621204599,-3.448307083069867,-4.0600191951913285,-3.2812525921280162,26.289309314620354,-4.196957269549915,-3.13041027269088,-7.698105877826288,-13.083211747309141,-3.8972081386509787,11.370416619292476,-1.4955916088871497,-5.512368680867064,-27.143000880052554,-4.737381868929619,6.034504863934393,-5.99759513749646,1.5115394237167488,-8.484428077233865,-45.10830251116633,1.001067209405347,-0.6048363423997569,-5.317461501786786,-6.596593400061331,-11.273204634661095,-14.148598669356916,-4.527198856812098,-4.666041628941212,-3.6046324826956164,-8.280782663222778,-9.048304284648864,-26.978646799048605,41.48828434466708,-3.474933318415643,14.37920604595026,-5.750864421070785,-1.0261367576913134,3.990282502512775,-0.15835501630778928,-0.546912965520143,-5.880623420001844,-3.9333975934933614,-33.02727865053756,-5.6571822471199615,-5.30540714323052,-9.111912262123367,-23.641919574978076,63.99964783184645,-7.712078469318087,10.773542449247742,-15.429975796315889],\"yaxis\":\"y\",\"type\":\"scatter\"},{\"customdata\":[[\"Aw\"],[\"Aw\"],[\"Aw\"],[\"Aw\"],[\"Aw\"],[\"Aw\"],[\"Aw\"],[\"Aw\"],[\"Aw\"],[\"Aw\"],[\"Aw\"],[\"Aw\"],[\"Aw\"],[\"Aw\"],[\"Aw\"],[\"Aw\"],[\"Aw\"],[\"Aw\"]],\"hovertemplate\":\"clima=%{customdata[0]}<br>pc1=%{x}<br>pc2=%{y}<extra></extra>\",\"legendgroup\":\"Aw\",\"marker\":{\"color\":\"#19d3f3\",\"symbol\":\"circle\"},\"mode\":\"markers\",\"name\":\"Aw\",\"orientation\":\"v\",\"showlegend\":true,\"x\":[9.60610942637084,-41.779690815399256,41.752958338062626,109.64072432233164,15.127508045380004,98.03632761356896,39.67830167277389,86.2527550064773,38.96252942418312,-0.26182110350011234,51.316867682326176,26.817273607312515,8.927062368354095,37.524884235970596,14.814086780523645,60.00725587122849,32.773695407262665,56.77285459830928],\"xaxis\":\"x\",\"y\":[-17.35895813465764,-3.6932360360223733,-13.056473737633862,-51.4294772445286,-16.470883234152087,-50.26508617749709,-40.89631142312753,-53.431352775529234,-30.5845655342591,-18.23971886228007,-35.30414831850014,-26.28395810957395,-18.679964425746945,-35.58589052185442,-18.276553485057423,-36.220801113570545,-25.141671912978907,-33.275857310665735],\"yaxis\":\"y\",\"type\":\"scatter\"},{\"customdata\":[[\"Dfa\"],[\"Dfa\"],[\"Dfa\"],[\"Dfa\"],[\"Dfa\"],[\"Dfa\"]],\"hovertemplate\":\"clima=%{customdata[0]}<br>pc1=%{x}<br>pc2=%{y}<extra></extra>\",\"legendgroup\":\"Dfa\",\"marker\":{\"color\":\"#FF6692\",\"symbol\":\"circle\"},\"mode\":\"markers\",\"name\":\"Dfa\",\"orientation\":\"v\",\"showlegend\":true,\"x\":[43.39901099260543,73.51988073701531,15.559810387730455,99.58574489512502,40.852472385226754,60.98358716053369],\"xaxis\":\"x\",\"y\":[-36.59809139069101,-51.298916032771395,-27.488746523556305,-61.13960520661604,-42.597685034610485,-45.0677195139604],\"yaxis\":\"y\",\"type\":\"scatter\"}],                        {\"template\":{\"data\":{\"histogram2dcontour\":[{\"type\":\"histogram2dcontour\",\"colorbar\":{\"outlinewidth\":0,\"ticks\":\"\"},\"colorscale\":[[0.0,\"#0d0887\"],[0.1111111111111111,\"#46039f\"],[0.2222222222222222,\"#7201a8\"],[0.3333333333333333,\"#9c179e\"],[0.4444444444444444,\"#bd3786\"],[0.5555555555555556,\"#d8576b\"],[0.6666666666666666,\"#ed7953\"],[0.7777777777777778,\"#fb9f3a\"],[0.8888888888888888,\"#fdca26\"],[1.0,\"#f0f921\"]]}],\"choropleth\":[{\"type\":\"choropleth\",\"colorbar\":{\"outlinewidth\":0,\"ticks\":\"\"}}],\"histogram2d\":[{\"type\":\"histogram2d\",\"colorbar\":{\"outlinewidth\":0,\"ticks\":\"\"},\"colorscale\":[[0.0,\"#0d0887\"],[0.1111111111111111,\"#46039f\"],[0.2222222222222222,\"#7201a8\"],[0.3333333333333333,\"#9c179e\"],[0.4444444444444444,\"#bd3786\"],[0.5555555555555556,\"#d8576b\"],[0.6666666666666666,\"#ed7953\"],[0.7777777777777778,\"#fb9f3a\"],[0.8888888888888888,\"#fdca26\"],[1.0,\"#f0f921\"]]}],\"heatmap\":[{\"type\":\"heatmap\",\"colorbar\":{\"outlinewidth\":0,\"ticks\":\"\"},\"colorscale\":[[0.0,\"#0d0887\"],[0.1111111111111111,\"#46039f\"],[0.2222222222222222,\"#7201a8\"],[0.3333333333333333,\"#9c179e\"],[0.4444444444444444,\"#bd3786\"],[0.5555555555555556,\"#d8576b\"],[0.6666666666666666,\"#ed7953\"],[0.7777777777777778,\"#fb9f3a\"],[0.8888888888888888,\"#fdca26\"],[1.0,\"#f0f921\"]]}],\"heatmapgl\":[{\"type\":\"heatmapgl\",\"colorbar\":{\"outlinewidth\":0,\"ticks\":\"\"},\"colorscale\":[[0.0,\"#0d0887\"],[0.1111111111111111,\"#46039f\"],[0.2222222222222222,\"#7201a8\"],[0.3333333333333333,\"#9c179e\"],[0.4444444444444444,\"#bd3786\"],[0.5555555555555556,\"#d8576b\"],[0.6666666666666666,\"#ed7953\"],[0.7777777777777778,\"#fb9f3a\"],[0.8888888888888888,\"#fdca26\"],[1.0,\"#f0f921\"]]}],\"contourcarpet\":[{\"type\":\"contourcarpet\",\"colorbar\":{\"outlinewidth\":0,\"ticks\":\"\"}}],\"contour\":[{\"type\":\"contour\",\"colorbar\":{\"outlinewidth\":0,\"ticks\":\"\"},\"colorscale\":[[0.0,\"#0d0887\"],[0.1111111111111111,\"#46039f\"],[0.2222222222222222,\"#7201a8\"],[0.3333333333333333,\"#9c179e\"],[0.4444444444444444,\"#bd3786\"],[0.5555555555555556,\"#d8576b\"],[0.6666666666666666,\"#ed7953\"],[0.7777777777777778,\"#fb9f3a\"],[0.8888888888888888,\"#fdca26\"],[1.0,\"#f0f921\"]]}],\"surface\":[{\"type\":\"surface\",\"colorbar\":{\"outlinewidth\":0,\"ticks\":\"\"},\"colorscale\":[[0.0,\"#0d0887\"],[0.1111111111111111,\"#46039f\"],[0.2222222222222222,\"#7201a8\"],[0.3333333333333333,\"#9c179e\"],[0.4444444444444444,\"#bd3786\"],[0.5555555555555556,\"#d8576b\"],[0.6666666666666666,\"#ed7953\"],[0.7777777777777778,\"#fb9f3a\"],[0.8888888888888888,\"#fdca26\"],[1.0,\"#f0f921\"]]}],\"mesh3d\":[{\"type\":\"mesh3d\",\"colorbar\":{\"outlinewidth\":0,\"ticks\":\"\"}}],\"scatter\":[{\"fillpattern\":{\"fillmode\":\"overlay\",\"size\":10,\"solidity\":0.2},\"type\":\"scatter\"}],\"parcoords\":[{\"type\":\"parcoords\",\"line\":{\"colorbar\":{\"outlinewidth\":0,\"ticks\":\"\"}}}],\"scatterpolargl\":[{\"type\":\"scatterpolargl\",\"marker\":{\"colorbar\":{\"outlinewidth\":0,\"ticks\":\"\"}}}],\"bar\":[{\"error_x\":{\"color\":\"#2a3f5f\"},\"error_y\":{\"color\":\"#2a3f5f\"},\"marker\":{\"line\":{\"color\":\"#E5ECF6\",\"width\":0.5},\"pattern\":{\"fillmode\":\"overlay\",\"size\":10,\"solidity\":0.2}},\"type\":\"bar\"}],\"scattergeo\":[{\"type\":\"scattergeo\",\"marker\":{\"colorbar\":{\"outlinewidth\":0,\"ticks\":\"\"}}}],\"scatterpolar\":[{\"type\":\"scatterpolar\",\"marker\":{\"colorbar\":{\"outlinewidth\":0,\"ticks\":\"\"}}}],\"histogram\":[{\"marker\":{\"pattern\":{\"fillmode\":\"overlay\",\"size\":10,\"solidity\":0.2}},\"type\":\"histogram\"}],\"scattergl\":[{\"type\":\"scattergl\",\"marker\":{\"colorbar\":{\"outlinewidth\":0,\"ticks\":\"\"}}}],\"scatter3d\":[{\"type\":\"scatter3d\",\"line\":{\"colorbar\":{\"outlinewidth\":0,\"ticks\":\"\"}},\"marker\":{\"colorbar\":{\"outlinewidth\":0,\"ticks\":\"\"}}}],\"scattermapbox\":[{\"type\":\"scattermapbox\",\"marker\":{\"colorbar\":{\"outlinewidth\":0,\"ticks\":\"\"}}}],\"scatterternary\":[{\"type\":\"scatterternary\",\"marker\":{\"colorbar\":{\"outlinewidth\":0,\"ticks\":\"\"}}}],\"scattercarpet\":[{\"type\":\"scattercarpet\",\"marker\":{\"colorbar\":{\"outlinewidth\":0,\"ticks\":\"\"}}}],\"carpet\":[{\"aaxis\":{\"endlinecolor\":\"#2a3f5f\",\"gridcolor\":\"white\",\"linecolor\":\"white\",\"minorgridcolor\":\"white\",\"startlinecolor\":\"#2a3f5f\"},\"baxis\":{\"endlinecolor\":\"#2a3f5f\",\"gridcolor\":\"white\",\"linecolor\":\"white\",\"minorgridcolor\":\"white\",\"startlinecolor\":\"#2a3f5f\"},\"type\":\"carpet\"}],\"table\":[{\"cells\":{\"fill\":{\"color\":\"#EBF0F8\"},\"line\":{\"color\":\"white\"}},\"header\":{\"fill\":{\"color\":\"#C8D4E3\"},\"line\":{\"color\":\"white\"}},\"type\":\"table\"}],\"barpolar\":[{\"marker\":{\"line\":{\"color\":\"#E5ECF6\",\"width\":0.5},\"pattern\":{\"fillmode\":\"overlay\",\"size\":10,\"solidity\":0.2}},\"type\":\"barpolar\"}],\"pie\":[{\"automargin\":true,\"type\":\"pie\"}]},\"layout\":{\"autotypenumbers\":\"strict\",\"colorway\":[\"#636efa\",\"#EF553B\",\"#00cc96\",\"#ab63fa\",\"#FFA15A\",\"#19d3f3\",\"#FF6692\",\"#B6E880\",\"#FF97FF\",\"#FECB52\"],\"font\":{\"color\":\"#2a3f5f\"},\"hovermode\":\"closest\",\"hoverlabel\":{\"align\":\"left\"},\"paper_bgcolor\":\"white\",\"plot_bgcolor\":\"#E5ECF6\",\"polar\":{\"bgcolor\":\"#E5ECF6\",\"angularaxis\":{\"gridcolor\":\"white\",\"linecolor\":\"white\",\"ticks\":\"\"},\"radialaxis\":{\"gridcolor\":\"white\",\"linecolor\":\"white\",\"ticks\":\"\"}},\"ternary\":{\"bgcolor\":\"#E5ECF6\",\"aaxis\":{\"gridcolor\":\"white\",\"linecolor\":\"white\",\"ticks\":\"\"},\"baxis\":{\"gridcolor\":\"white\",\"linecolor\":\"white\",\"ticks\":\"\"},\"caxis\":{\"gridcolor\":\"white\",\"linecolor\":\"white\",\"ticks\":\"\"}},\"coloraxis\":{\"colorbar\":{\"outlinewidth\":0,\"ticks\":\"\"}},\"colorscale\":{\"sequential\":[[0.0,\"#0d0887\"],[0.1111111111111111,\"#46039f\"],[0.2222222222222222,\"#7201a8\"],[0.3333333333333333,\"#9c179e\"],[0.4444444444444444,\"#bd3786\"],[0.5555555555555556,\"#d8576b\"],[0.6666666666666666,\"#ed7953\"],[0.7777777777777778,\"#fb9f3a\"],[0.8888888888888888,\"#fdca26\"],[1.0,\"#f0f921\"]],\"sequentialminus\":[[0.0,\"#0d0887\"],[0.1111111111111111,\"#46039f\"],[0.2222222222222222,\"#7201a8\"],[0.3333333333333333,\"#9c179e\"],[0.4444444444444444,\"#bd3786\"],[0.5555555555555556,\"#d8576b\"],[0.6666666666666666,\"#ed7953\"],[0.7777777777777778,\"#fb9f3a\"],[0.8888888888888888,\"#fdca26\"],[1.0,\"#f0f921\"]],\"diverging\":[[0,\"#8e0152\"],[0.1,\"#c51b7d\"],[0.2,\"#de77ae\"],[0.3,\"#f1b6da\"],[0.4,\"#fde0ef\"],[0.5,\"#f7f7f7\"],[0.6,\"#e6f5d0\"],[0.7,\"#b8e186\"],[0.8,\"#7fbc41\"],[0.9,\"#4d9221\"],[1,\"#276419\"]]},\"xaxis\":{\"gridcolor\":\"white\",\"linecolor\":\"white\",\"ticks\":\"\",\"title\":{\"standoff\":15},\"zerolinecolor\":\"white\",\"automargin\":true,\"zerolinewidth\":2},\"yaxis\":{\"gridcolor\":\"white\",\"linecolor\":\"white\",\"ticks\":\"\",\"title\":{\"standoff\":15},\"zerolinecolor\":\"white\",\"automargin\":true,\"zerolinewidth\":2},\"scene\":{\"xaxis\":{\"backgroundcolor\":\"#E5ECF6\",\"gridcolor\":\"white\",\"linecolor\":\"white\",\"showbackground\":true,\"ticks\":\"\",\"zerolinecolor\":\"white\",\"gridwidth\":2},\"yaxis\":{\"backgroundcolor\":\"#E5ECF6\",\"gridcolor\":\"white\",\"linecolor\":\"white\",\"showbackground\":true,\"ticks\":\"\",\"zerolinecolor\":\"white\",\"gridwidth\":2},\"zaxis\":{\"backgroundcolor\":\"#E5ECF6\",\"gridcolor\":\"white\",\"linecolor\":\"white\",\"showbackground\":true,\"ticks\":\"\",\"zerolinecolor\":\"white\",\"gridwidth\":2}},\"shapedefaults\":{\"line\":{\"color\":\"#2a3f5f\"}},\"annotationdefaults\":{\"arrowcolor\":\"#2a3f5f\",\"arrowhead\":0,\"arrowwidth\":1},\"geo\":{\"bgcolor\":\"white\",\"landcolor\":\"#E5ECF6\",\"subunitcolor\":\"white\",\"showland\":true,\"showlakes\":true,\"lakecolor\":\"white\"},\"title\":{\"x\":0.05},\"mapbox\":{\"style\":\"light\"}}},\"xaxis\":{\"anchor\":\"y\",\"domain\":[0.0,1.0],\"title\":{\"text\":\"pc1\"}},\"yaxis\":{\"anchor\":\"x\",\"domain\":[0.0,1.0],\"title\":{\"text\":\"pc2\"}},\"legend\":{\"title\":{\"text\":\"clima\"},\"tracegroupgap\":0},\"margin\":{\"t\":60},\"autosize\":false,\"width\":600,\"height\":600},                        {\"responsive\": true}                    ).then(function(){\n",
              "                            \n",
              "var gd = document.getElementById('1671f52d-7069-472b-8f41-d4510a95733a');\n",
              "var x = new MutationObserver(function (mutations, observer) {{\n",
              "        var display = window.getComputedStyle(gd).display;\n",
              "        if (!display || display === 'none') {{\n",
              "            console.log([gd, 'removed!']);\n",
              "            Plotly.purge(gd);\n",
              "            observer.disconnect();\n",
              "        }}\n",
              "}});\n",
              "\n",
              "// Listen for the removal of the full notebook cells\n",
              "var notebookContainer = gd.closest('#notebook-container');\n",
              "if (notebookContainer) {{\n",
              "    x.observe(notebookContainer, {childList: true});\n",
              "}}\n",
              "\n",
              "// Listen for the clearing of the current output cell\n",
              "var outputEl = gd.closest('.output');\n",
              "if (outputEl) {{\n",
              "    x.observe(outputEl, {childList: true});\n",
              "}}\n",
              "\n",
              "                        })                };                            </script>        </div>\n",
              "</body>\n",
              "</html>"
            ]
          },
          "metadata": {}
        }
      ],
      "source": [
        "from sklearn.preprocessing import StandardScaler\n",
        "from sklearn.decomposition import PCA\n",
        "import plotly.express as px\n",
        "\n",
        "X_std = StandardScaler().fit_transform(X)\n",
        "ncomp=3\n",
        "otus_pca=PCA(ncomp)\n",
        "otus_pca.fit_transform(X_std) \n",
        "proj = pd.DataFrame(otus_pca.transform(X_std),columns = ['pc1','pc2','pc3'])\n",
        "pca_proj = pd.DataFrame({'pc1': proj['pc1'], 'pc2': proj['pc2'], 'clima': y})\n",
        "\n",
        "# Grafica interactiva\n",
        "fig = px.scatter(pca_proj, x='pc1', y='pc2', hover_data=['clima'], color = 'clima')\n",
        "fig.update_layout(\n",
        "    autosize=False,\n",
        "    width=600,\n",
        "    height=600,\n",
        ")\n",
        "fig.show()"
      ]
    },
    {
      "cell_type": "code",
      "execution_count": 13,
      "metadata": {
        "id": "PqDtG5_qh7Aj"
      },
      "outputs": [],
      "source": [
        "from sklearn.manifold import TSNE\n",
        "\n",
        "tsne = TSNE(n_components=2, perplexity=50)\n",
        "#X_tsne = tsne.fit_transform(train_img)\n",
        "#tsne_dataset = pd.DataFrame({'pc1': X_tsne[:, 0], 'pc2': X_tsne[:, 1], 'digit': y_train})\n",
        "X_tsne = tsne.fit_transform(X_std)\n",
        "\n",
        "tsne_dataset = pd.DataFrame({'pc1': X_tsne[:, 0], 'pc2': X_tsne[:, 1], 'clima': y})"
      ]
    },
    {
      "cell_type": "code",
      "execution_count": 14,
      "metadata": {
        "colab": {
          "base_uri": "https://localhost:8080/",
          "height": 817
        },
        "id": "YSmfgVlVh7Aj",
        "outputId": "7fab43c2-b588-4ad9-d079-1d11b229846a"
      },
      "outputs": [
        {
          "output_type": "display_data",
          "data": {
            "text/html": [
              "<html>\n",
              "<head><meta charset=\"utf-8\" /></head>\n",
              "<body>\n",
              "    <div>            <script src=\"https://cdnjs.cloudflare.com/ajax/libs/mathjax/2.7.5/MathJax.js?config=TeX-AMS-MML_SVG\"></script><script type=\"text/javascript\">if (window.MathJax && window.MathJax.Hub && window.MathJax.Hub.Config) {window.MathJax.Hub.Config({SVG: {font: \"STIX-Web\"}});}</script>                <script type=\"text/javascript\">window.PlotlyConfig = {MathJaxConfig: 'local'};</script>\n",
              "        <script src=\"https://cdn.plot.ly/plotly-2.18.2.min.js\"></script>                <div id=\"bfbbf81f-5503-4fbe-b4f2-b87944f93662\" class=\"plotly-graph-div\" style=\"height:800px; width:800px;\"></div>            <script type=\"text/javascript\">                                    window.PLOTLYENV=window.PLOTLYENV || {};                                    if (document.getElementById(\"bfbbf81f-5503-4fbe-b4f2-b87944f93662\")) {                    Plotly.newPlot(                        \"bfbbf81f-5503-4fbe-b4f2-b87944f93662\",                        [{\"customdata\":[[\"Cfb\"],[\"Cfb\"],[\"Cfb\"],[\"Cfb\"],[\"Cfb\"],[\"Cfb\"],[\"Cfb\"],[\"Cfb\"],[\"Cfb\"],[\"Cfb\"],[\"Cfb\"],[\"Cfb\"],[\"Cfb\"],[\"Cfb\"],[\"Cfb\"],[\"Cfb\"],[\"Cfb\"],[\"Cfb\"],[\"Cfb\"],[\"Cfb\"],[\"Cfb\"],[\"Cfb\"],[\"Cfb\"],[\"Cfb\"],[\"Cfb\"],[\"Cfb\"],[\"Cfb\"],[\"Cfb\"],[\"Cfb\"],[\"Cfb\"],[\"Cfb\"],[\"Cfb\"],[\"Cfb\"],[\"Cfb\"],[\"Cfb\"],[\"Cfb\"],[\"Cfb\"],[\"Cfb\"],[\"Cfb\"],[\"Cfb\"],[\"Cfb\"],[\"Cfb\"],[\"Cfb\"],[\"Cfb\"],[\"Cfb\"],[\"Cfb\"],[\"Cfb\"],[\"Cfb\"],[\"Cfb\"],[\"Cfb\"],[\"Cfb\"],[\"Cfb\"],[\"Cfb\"],[\"Cfb\"],[\"Cfb\"],[\"Cfb\"],[\"Cfb\"],[\"Cfb\"],[\"Cfb\"],[\"Cfb\"],[\"Cfb\"]],\"hovertemplate\":\"clima=%{customdata[0]}<br>pc1=%{x}<br>pc2=%{y}<extra></extra>\",\"legendgroup\":\"Cfb\",\"marker\":{\"color\":\"#636efa\",\"symbol\":\"circle\"},\"mode\":\"markers\",\"name\":\"Cfb\",\"orientation\":\"v\",\"showlegend\":true,\"x\":[1.4422941207885742,3.197622537612915,2.3076207637786865,1.814995288848877,2.0199332237243652,0.6803690195083618,1.3208873271942139,2.4887685775756836,2.547585964202881,1.255088210105896,2.768744707107544,3.3093183040618896,3.320920467376709,3.109687566757202,1.1798592805862427,1.607750415802002,-3.0305261611938477,-0.8607624769210815,-0.752592146396637,0.8900433778762817,-0.9663052558898926,-2.3754160404205322,-3.0694775581359863,-0.27546021342277527,0.8913663625717163,-1.760347604751587,-1.1775970458984375,0.7962106466293335,-0.993831992149353,-0.7348360419273376,-2.8048055171966553,-0.5556417107582092,-1.4618854522705078,0.7564617991447449,0.6677861213684082,-1.4747493267059326,-0.7570704817771912,2.0849947929382324,2.423474073410034,0.6303873658180237,-1.3068315982818604,-1.0327365398406982,-1.3700250387191772,1.9888943433761597,-0.7311612367630005,-1.1084264516830444,-0.08893614262342453,-0.45894524455070496,-1.5696300268173218,-1.6402380466461182,-0.8008437752723694,-1.8759175539016724,-0.22049085795879364,0.6908020377159119,-1.334348440170288,-0.7064705491065979,-2.3715052604675293,-1.7260029315948486,1.9605258703231812,0.774980902671814,-0.13310003280639648],\"xaxis\":\"x\",\"y\":[2.7267496585845947,1.4478607177734375,0.3954165577888489,1.9788705110549927,2.6547253131866455,3.428786039352417,2.973259210586548,2.6608474254608154,2.3830344676971436,2.774872303009033,3.865959644317627,2.7992923259735107,2.8012070655822754,2.766275644302368,1.9526450634002686,4.87926721572876,2.166215419769287,-0.2917061150074005,3.074061870574951,3.2886877059936523,1.05902099609375,3.033291816711426,1.7281029224395752,2.7146689891815186,2.088362455368042,2.809061050415039,-1.151441216468811,2.628970146179199,3.0670387744903564,2.0286808013916016,-2.305978775024414,1.117633581161499,-2.3128199577331543,-0.0833066776394844,2.324362277984619,-0.9108893275260925,1.0216819047927856,0.949841320514679,0.9108206629753113,-0.7331554889678955,0.048993632197380066,2.5997204780578613,-1.3663220405578613,1.6118818521499634,1.8186607360839844,2.400592088699341,2.4024178981781006,0.2367480844259262,3.067854166030884,-1.600102186203003,1.8113176822662354,2.0871121883392334,2.5492944717407227,0.4486125409603119,0.5144752860069275,2.360203981399536,-2.2283473014831543,-2.6959636211395264,-0.05680224299430847,1.8789976835250854,2.3064486980438232],\"yaxis\":\"y\",\"type\":\"scatter\"},{\"customdata\":[[\"BSk\"],[\"BSk\"],[\"BSk\"],[\"BSk\"],[\"BSk\"],[\"BSk\"],[\"BSk\"],[\"BSk\"],[\"BSk\"],[\"BSk\"],[\"BSk\"],[\"BSk\"],[\"BSk\"],[\"BSk\"],[\"BSk\"],[\"BSk\"],[\"BSk\"],[\"BSk\"],[\"BSk\"],[\"BSk\"],[\"BSk\"],[\"BSk\"],[\"BSk\"],[\"BSk\"],[\"BSk\"],[\"BSk\"],[\"BSk\"],[\"BSk\"],[\"BSk\"],[\"BSk\"],[\"BSk\"],[\"BSk\"],[\"BSk\"],[\"BSk\"],[\"BSk\"],[\"BSk\"],[\"BSk\"],[\"BSk\"],[\"BSk\"],[\"BSk\"],[\"BSk\"],[\"BSk\"],[\"BSk\"],[\"BSk\"]],\"hovertemplate\":\"clima=%{customdata[0]}<br>pc1=%{x}<br>pc2=%{y}<extra></extra>\",\"legendgroup\":\"BSk\",\"marker\":{\"color\":\"#EF553B\",\"symbol\":\"circle\"},\"mode\":\"markers\",\"name\":\"BSk\",\"orientation\":\"v\",\"showlegend\":true,\"x\":[-0.8166810870170593,-0.9313578605651855,-1.151214838027954,-1.1717357635498047,-0.9905283451080322,-0.4167957603931427,0.07028502225875854,-0.9717919230461121,-1.038527250289917,-1.0864087343215942,-0.7968494892120361,0.15918119251728058,0.1579207479953766,-1.147609829902649,-0.1019526794552803,-0.8391560912132263,-1.128759741783142,-0.42071154713630676,-0.2073727548122406,-0.16994547843933105,-0.1715112179517746,-0.46691256761550903,-2.2150254249572754,-0.20796741545200348,-1.101692795753479,0.045088618993759155,0.22853638231754303,-1.3068822622299194,-0.6071305274963379,-0.2234715074300766,-0.8497505784034729,-0.630743145942688,1.181833267211914,-0.0712868869304657,-2.0270652770996094,1.1895878314971924,1.358842372894287,-0.8256158828735352,-2.4744160175323486,-0.45878899097442627,-1.6247167587280273,1.207187533378601,-0.6575329899787903,-0.3382531404495239],\"xaxis\":\"x\",\"y\":[4.842029571533203,5.023449897766113,5.591402530670166,4.997314453125,3.7730331420898438,2.985764741897583,2.6569504737854004,4.542454719543457,5.329215049743652,5.430008888244629,3.318312406539917,4.292531967163086,3.5313401222229004,5.580100059509277,3.681405544281006,5.015853404998779,5.541133403778076,4.198061943054199,4.788569927215576,3.4575653076171875,4.113645553588867,4.234407424926758,-1.095485806465149,1.5405410528182983,0.6136063933372498,2.305849075317383,1.9578925371170044,0.10052311420440674,-0.48495733737945557,0.038518112152814865,0.24660271406173706,-0.4684121310710907,1.3464006185531616,-0.2575756907463074,0.8775337338447571,-0.9421486854553223,-0.12430313229560852,0.35154008865356445,3.677036762237549,-0.4234691858291626,0.7885907888412476,-0.9298950433731079,0.3709823787212372,1.232749342918396],\"yaxis\":\"y\",\"type\":\"scatter\"},{\"customdata\":[[\"BWh\"],[\"BWh\"],[\"BWh\"],[\"BWh\"],[\"BWh\"],[\"BWh\"],[\"BWh\"],[\"BWh\"],[\"BWh\"],[\"BWh\"],[\"BWh\"],[\"BWh\"],[\"BWh\"],[\"BWh\"],[\"BWh\"],[\"BWh\"],[\"BWh\"],[\"BWh\"],[\"BWh\"],[\"BWh\"],[\"BWh\"],[\"BWh\"],[\"BWh\"],[\"BWh\"],[\"BWh\"],[\"BWh\"],[\"BWh\"]],\"hovertemplate\":\"clima=%{customdata[0]}<br>pc1=%{x}<br>pc2=%{y}<extra></extra>\",\"legendgroup\":\"BWh\",\"marker\":{\"color\":\"#00cc96\",\"symbol\":\"circle\"},\"mode\":\"markers\",\"name\":\"BWh\",\"orientation\":\"v\",\"showlegend\":true,\"x\":[-0.10973856598138809,-1.2882729768753052,0.4854162037372589,0.5286221504211426,-0.1012624055147171,-0.21971137821674347,-1.765727162361145,-1.8677513599395752,-0.454840749502182,-1.3113560676574707,-0.5280465483665466,-1.9434294700622559,0.11111143231391907,-0.34653422236442566,1.5513763427734375,-0.5437067747116089,1.3181415796279907,0.6364213228225708,-1.6292130947113037,-1.294195532798767,-0.39619800448417664,-0.6020910143852234,-0.12688909471035004,0.09946446865797043,-0.23483549058437347,-0.02038276568055153,-1.2799413204193115],\"xaxis\":\"x\",\"y\":[2.7030892372131348,4.217082977294922,3.0187926292419434,3.808398962020874,3.0342929363250732,2.5569279193878174,3.177800178527832,3.8367862701416016,3.401461362838745,3.419731616973877,3.192405939102173,4.233107089996338,2.905895948410034,1.599511742591858,-2.3732776641845703,1.566481590270996,2.1003024578094482,0.18238013982772827,2.493652105331421,1.3605386018753052,1.6907241344451904,1.4695954322814941,2.235363245010376,-1.7532817125320435,2.125096559524536,-2.8165390491485596,1.3315603733062744],\"yaxis\":\"y\",\"type\":\"scatter\"},{\"customdata\":[[\"Csa\"],[\"Csa\"],[\"Csa\"],[\"Csa\"],[\"Csa\"],[\"Csa\"],[\"Csa\"],[\"Csa\"],[\"Csa\"],[\"Csa\"],[\"Csa\"],[\"Csa\"],[\"Csa\"],[\"Csa\"],[\"Csa\"],[\"Csa\"],[\"Csa\"],[\"Csa\"],[\"Csa\"],[\"Csa\"],[\"Csa\"],[\"Csa\"],[\"Csa\"],[\"Csa\"],[\"Csa\"],[\"Csa\"],[\"Csa\"],[\"Csa\"],[\"Csa\"],[\"Csa\"],[\"Csa\"]],\"hovertemplate\":\"clima=%{customdata[0]}<br>pc1=%{x}<br>pc2=%{y}<extra></extra>\",\"legendgroup\":\"Csa\",\"marker\":{\"color\":\"#ab63fa\",\"symbol\":\"circle\"},\"mode\":\"markers\",\"name\":\"Csa\",\"orientation\":\"v\",\"showlegend\":true,\"x\":[1.3493452072143555,0.38915523886680603,1.9021525382995605,1.8882157802581787,0.18869125843048096,2.4689042568206787,1.2580225467681885,0.3880304992198944,0.7469223737716675,1.995434284210205,0.7754836678504944,0.2597523629665375,1.8266193866729736,1.9183790683746338,0.9830130338668823,-1.7435871362686157,-1.6661264896392822,-2.1006109714508057,-2.215284824371338,-1.2523921728134155,-3.026779890060425,-1.608749270439148,-1.6294668912887573,-2.951958656311035,-2.1083290576934814,-1.5129215717315674,-1.6204999685287476,-1.5802390575408936,-1.9708970785140991,-1.6417112350463867,-1.7877209186553955],\"xaxis\":\"x\",\"y\":[3.742654323577881,2.5923068523406982,3.3055386543273926,3.7211220264434814,2.487426519393921,3.841980457305908,3.5865671634674072,2.6502411365509033,2.804771900177002,3.9375481605529785,3.104363441467285,3.133671998977661,2.3593502044677734,1.1101393699645996,2.502892255783081,-3.583246946334839,-3.693474292755127,-3.074082612991333,-2.3840222358703613,-0.415610671043396,1.215299367904663,-3.3007216453552246,-3.3594954013824463,3.0733044147491455,-2.597985029220581,-2.5066709518432617,-3.4871222972869873,-3.5693202018737793,-2.924828052520752,-3.22512149810791,-3.6787703037261963],\"yaxis\":\"y\",\"type\":\"scatter\"},{\"customdata\":[[\"Cfa\"],[\"Cfa\"],[\"Cfa\"],[\"Cfa\"],[\"Cfa\"],[\"Cfa\"],[\"Cfa\"],[\"Cfa\"],[\"Cfa\"],[\"Cfa\"],[\"Cfa\"],[\"Cfa\"],[\"Cfa\"],[\"Cfa\"],[\"Cfa\"],[\"Cfa\"],[\"Cfa\"],[\"Cfa\"],[\"Cfa\"],[\"Cfa\"],[\"Cfa\"],[\"Cfa\"],[\"Cfa\"],[\"Cfa\"],[\"Cfa\"],[\"Cfa\"],[\"Cfa\"],[\"Cfa\"],[\"Cfa\"],[\"Cfa\"],[\"Cfa\"],[\"Cfa\"],[\"Cfa\"],[\"Cfa\"],[\"Cfa\"],[\"Cfa\"],[\"Cfa\"],[\"Cfa\"],[\"Cfa\"],[\"Cfa\"],[\"Cfa\"],[\"Cfa\"],[\"Cfa\"],[\"Cfa\"],[\"Cfa\"],[\"Cfa\"],[\"Cfa\"],[\"Cfa\"],[\"Cfa\"],[\"Cfa\"],[\"Cfa\"],[\"Cfa\"],[\"Cfa\"],[\"Cfa\"],[\"Cfa\"],[\"Cfa\"],[\"Cfa\"],[\"Cfa\"],[\"Cfa\"],[\"Cfa\"],[\"Cfa\"],[\"Cfa\"],[\"Cfa\"],[\"Cfa\"],[\"Cfa\"],[\"Cfa\"],[\"Cfa\"],[\"Cfa\"],[\"Cfa\"],[\"Cfa\"],[\"Cfa\"],[\"Cfa\"],[\"Cfa\"],[\"Cfa\"],[\"Cfa\"],[\"Cfa\"],[\"Cfa\"],[\"Cfa\"],[\"Cfa\"],[\"Cfa\"],[\"Cfa\"],[\"Cfa\"],[\"Cfa\"],[\"Cfa\"],[\"Cfa\"],[\"Cfa\"],[\"Cfa\"],[\"Cfa\"],[\"Cfa\"],[\"Cfa\"],[\"Cfa\"],[\"Cfa\"],[\"Cfa\"],[\"Cfa\"],[\"Cfa\"],[\"Cfa\"],[\"Cfa\"],[\"Cfa\"],[\"Cfa\"]],\"hovertemplate\":\"clima=%{customdata[0]}<br>pc1=%{x}<br>pc2=%{y}<extra></extra>\",\"legendgroup\":\"Cfa\",\"marker\":{\"color\":\"#FFA15A\",\"symbol\":\"circle\"},\"mode\":\"markers\",\"name\":\"Cfa\",\"orientation\":\"v\",\"showlegend\":true,\"x\":[-0.8886024355888367,1.2846360206604004,-0.5169857740402222,-0.3358722925186157,-0.9976609349250793,0.829387903213501,-1.3955249786376953,-0.1724650263786316,-0.17359121143817902,-0.5340725183486938,0.07697770744562149,-0.1886497288942337,0.34683746099472046,-0.873552143573761,-2.7546234130859375,-1.5393500328063965,-1.7674838304519653,-1.9167817831039429,-2.150843381881714,-1.3325070142745972,-2.132845401763916,0.8424041271209717,-0.18744130432605743,-2.619523763656616,-1.2463057041168213,-2.399531602859497,1.6737549304962158,-0.41174405813217163,-1.4715808629989624,-1.6413965225219727,-1.8879209756851196,-1.3844574689865112,-0.3475448489189148,-1.1171108484268188,-1.2215558290481567,1.4869869947433472,-2.326791286468506,-0.6832351684570312,-1.1228293180465698,-1.717698335647583,1.6223247051239014,-1.139774203300476,0.040518730878829956,0.03668193519115448,-0.37068405747413635,0.7923668622970581,-1.0411511659622192,-1.3353934288024902,-1.518835186958313,0.20548230409622192,0.31629252433776855,-0.019105641171336174,1.4516023397445679,-0.046764075756073,0.17481346428394318,0.41210395097732544,1.039803147315979,0.8760519027709961,1.0896201133728027,0.17806759476661682,-2.473661422729492,-0.9809684157371521,0.655293881893158,3.040311336517334,0.6091719269752502,-0.010684930719435215,0.2967499792575836,-1.4002211093902588,-0.047240760177373886,0.0770644098520279,0.9034532904624939,0.4749007225036621,0.5166431069374084,-2.7233688831329346,0.46129775047302246,0.30720195174217224,0.3327864706516266,0.2314150482416153,-0.6916572451591492,-1.3014005422592163,2.9033899307250977,0.44439181685447693,1.1922121047973633,0.29837971925735474,0.5155134201049805,-0.04824516177177429,0.17539267241954803,-0.4915091395378113,-0.15489846467971802,-0.6362488865852356,-1.3381510972976685,-0.4784654378890991,-0.5751740336418152,-1.6252901554107666,-0.8969149589538574,2.9970431327819824,0.4814847707748413,1.2847744226455688,-0.011722428724169731],\"xaxis\":\"x\",\"y\":[1.000121831893921,1.190913200378418,0.901057243347168,0.4466557502746582,2.4501004219055176,4.081075191497803,2.2666609287261963,1.73561692237854,-0.5735911726951599,-1.1508841514587402,0.7569174766540527,0.36777710914611816,-0.294089674949646,1.773665428161621,2.577420711517334,-2.165937662124634,-0.17656904458999634,-0.9718793630599976,1.9026402235031128,2.1144673824310303,1.0767464637756348,0.14126838743686676,2.028149127960205,0.2742713391780853,1.7130420207977295,0.1515805572271347,-2.277254104614258,1.8107593059539795,1.6083054542541504,1.347764253616333,-0.6448713541030884,1.7118982076644897,1.6456830501556396,-2.7429256439208984,-3.3606815338134766,1.4208093881607056,2.5140316486358643,-2.015779733657837,-1.8734524250030518,-1.8168572187423706,0.09955307841300964,-3.4702446460723877,-0.6341019868850708,-0.8467727303504944,-1.2370833158493042,4.7818284034729,-3.115406036376953,-2.9900918006896973,-2.7593531608581543,1.2735276222229004,1.1002923250198364,1.9282976388931274,0.8766091465950012,1.638042688369751,1.7375380992889404,0.6325122117996216,-0.11253400892019272,0.9082155823707581,4.314535617828369,1.3446645736694336,1.590583324432373,-1.186834454536438,0.7721107602119446,1.4212357997894287,0.5111619830131531,2.139139175415039,1.0736466646194458,-3.0192418098449707,2.285520553588867,1.5578058958053589,1.1254879236221313,0.624239981174469,0.1344110071659088,0.7789855599403381,1.3417514562606812,1.742493748664856,1.9145499467849731,0.8796465396881104,1.3984094858169556,-2.4708380699157715,-0.32297825813293457,0.5574976801872253,2.2321488857269287,0.675799548625946,1.9790685176849365,2.6623923778533936,2.0330870151519775,2.1556358337402344,1.5238323211669922,1.810083270072937,-2.4560651779174805,1.6799776554107666,1.7045389413833618,1.6784617900848389,-1.9879108667373657,-0.46846428513526917,0.4485132694244385,0.5119670629501343,-0.8233642578125],\"yaxis\":\"y\",\"type\":\"scatter\"},{\"customdata\":[[\"Aw\"],[\"Aw\"],[\"Aw\"],[\"Aw\"],[\"Aw\"],[\"Aw\"],[\"Aw\"],[\"Aw\"],[\"Aw\"],[\"Aw\"],[\"Aw\"],[\"Aw\"],[\"Aw\"],[\"Aw\"],[\"Aw\"],[\"Aw\"],[\"Aw\"],[\"Aw\"]],\"hovertemplate\":\"clima=%{customdata[0]}<br>pc1=%{x}<br>pc2=%{y}<extra></extra>\",\"legendgroup\":\"Aw\",\"marker\":{\"color\":\"#19d3f3\",\"symbol\":\"circle\"},\"mode\":\"markers\",\"name\":\"Aw\",\"orientation\":\"v\",\"showlegend\":true,\"x\":[1.3122543096542358,-0.3070763945579529,0.8031284809112549,-0.5969743132591248,-1.8338676691055298,-0.3766644299030304,-0.8268019556999207,-0.6440353393554688,-0.20223991572856903,-2.011669397354126,-0.1737132966518402,-0.46396490931510925,1.4658796787261963,1.5503841638565063,1.362418532371521,1.6756432056427002,1.6104326248168945,1.6752123832702637],\"xaxis\":\"x\",\"y\":[-2.155057668685913,1.9581053256988525,-1.5613617897033691,-3.318117380142212,0.34285789728164673,-3.307133674621582,-1.7268604040145874,-3.142360210418701,-2.2002005577087402,1.4885945320129395,-2.4896812438964844,-1.9835106134414673,-2.261092185974121,-2.3303732872009277,-2.144092082977295,-2.624359130859375,-2.463510036468506,-2.6125030517578125],\"yaxis\":\"y\",\"type\":\"scatter\"},{\"customdata\":[[\"Dfa\"],[\"Dfa\"],[\"Dfa\"],[\"Dfa\"],[\"Dfa\"],[\"Dfa\"]],\"hovertemplate\":\"clima=%{customdata[0]}<br>pc1=%{x}<br>pc2=%{y}<extra></extra>\",\"legendgroup\":\"Dfa\",\"marker\":{\"color\":\"#FF6692\",\"symbol\":\"circle\"},\"mode\":\"markers\",\"name\":\"Dfa\",\"orientation\":\"v\",\"showlegend\":true,\"x\":[-1.3183400630950928,-1.1549785137176514,-0.9459132552146912,-1.2313276529312134,-0.7096876502037048,-1.2344707250595093],\"xaxis\":\"x\",\"y\":[-2.5581979751586914,-3.0992472171783447,-2.0106425285339355,-3.3259785175323486,-2.4666104316711426,-2.905562400817871],\"yaxis\":\"y\",\"type\":\"scatter\"}],                        {\"template\":{\"data\":{\"histogram2dcontour\":[{\"type\":\"histogram2dcontour\",\"colorbar\":{\"outlinewidth\":0,\"ticks\":\"\"},\"colorscale\":[[0.0,\"#0d0887\"],[0.1111111111111111,\"#46039f\"],[0.2222222222222222,\"#7201a8\"],[0.3333333333333333,\"#9c179e\"],[0.4444444444444444,\"#bd3786\"],[0.5555555555555556,\"#d8576b\"],[0.6666666666666666,\"#ed7953\"],[0.7777777777777778,\"#fb9f3a\"],[0.8888888888888888,\"#fdca26\"],[1.0,\"#f0f921\"]]}],\"choropleth\":[{\"type\":\"choropleth\",\"colorbar\":{\"outlinewidth\":0,\"ticks\":\"\"}}],\"histogram2d\":[{\"type\":\"histogram2d\",\"colorbar\":{\"outlinewidth\":0,\"ticks\":\"\"},\"colorscale\":[[0.0,\"#0d0887\"],[0.1111111111111111,\"#46039f\"],[0.2222222222222222,\"#7201a8\"],[0.3333333333333333,\"#9c179e\"],[0.4444444444444444,\"#bd3786\"],[0.5555555555555556,\"#d8576b\"],[0.6666666666666666,\"#ed7953\"],[0.7777777777777778,\"#fb9f3a\"],[0.8888888888888888,\"#fdca26\"],[1.0,\"#f0f921\"]]}],\"heatmap\":[{\"type\":\"heatmap\",\"colorbar\":{\"outlinewidth\":0,\"ticks\":\"\"},\"colorscale\":[[0.0,\"#0d0887\"],[0.1111111111111111,\"#46039f\"],[0.2222222222222222,\"#7201a8\"],[0.3333333333333333,\"#9c179e\"],[0.4444444444444444,\"#bd3786\"],[0.5555555555555556,\"#d8576b\"],[0.6666666666666666,\"#ed7953\"],[0.7777777777777778,\"#fb9f3a\"],[0.8888888888888888,\"#fdca26\"],[1.0,\"#f0f921\"]]}],\"heatmapgl\":[{\"type\":\"heatmapgl\",\"colorbar\":{\"outlinewidth\":0,\"ticks\":\"\"},\"colorscale\":[[0.0,\"#0d0887\"],[0.1111111111111111,\"#46039f\"],[0.2222222222222222,\"#7201a8\"],[0.3333333333333333,\"#9c179e\"],[0.4444444444444444,\"#bd3786\"],[0.5555555555555556,\"#d8576b\"],[0.6666666666666666,\"#ed7953\"],[0.7777777777777778,\"#fb9f3a\"],[0.8888888888888888,\"#fdca26\"],[1.0,\"#f0f921\"]]}],\"contourcarpet\":[{\"type\":\"contourcarpet\",\"colorbar\":{\"outlinewidth\":0,\"ticks\":\"\"}}],\"contour\":[{\"type\":\"contour\",\"colorbar\":{\"outlinewidth\":0,\"ticks\":\"\"},\"colorscale\":[[0.0,\"#0d0887\"],[0.1111111111111111,\"#46039f\"],[0.2222222222222222,\"#7201a8\"],[0.3333333333333333,\"#9c179e\"],[0.4444444444444444,\"#bd3786\"],[0.5555555555555556,\"#d8576b\"],[0.6666666666666666,\"#ed7953\"],[0.7777777777777778,\"#fb9f3a\"],[0.8888888888888888,\"#fdca26\"],[1.0,\"#f0f921\"]]}],\"surface\":[{\"type\":\"surface\",\"colorbar\":{\"outlinewidth\":0,\"ticks\":\"\"},\"colorscale\":[[0.0,\"#0d0887\"],[0.1111111111111111,\"#46039f\"],[0.2222222222222222,\"#7201a8\"],[0.3333333333333333,\"#9c179e\"],[0.4444444444444444,\"#bd3786\"],[0.5555555555555556,\"#d8576b\"],[0.6666666666666666,\"#ed7953\"],[0.7777777777777778,\"#fb9f3a\"],[0.8888888888888888,\"#fdca26\"],[1.0,\"#f0f921\"]]}],\"mesh3d\":[{\"type\":\"mesh3d\",\"colorbar\":{\"outlinewidth\":0,\"ticks\":\"\"}}],\"scatter\":[{\"fillpattern\":{\"fillmode\":\"overlay\",\"size\":10,\"solidity\":0.2},\"type\":\"scatter\"}],\"parcoords\":[{\"type\":\"parcoords\",\"line\":{\"colorbar\":{\"outlinewidth\":0,\"ticks\":\"\"}}}],\"scatterpolargl\":[{\"type\":\"scatterpolargl\",\"marker\":{\"colorbar\":{\"outlinewidth\":0,\"ticks\":\"\"}}}],\"bar\":[{\"error_x\":{\"color\":\"#2a3f5f\"},\"error_y\":{\"color\":\"#2a3f5f\"},\"marker\":{\"line\":{\"color\":\"#E5ECF6\",\"width\":0.5},\"pattern\":{\"fillmode\":\"overlay\",\"size\":10,\"solidity\":0.2}},\"type\":\"bar\"}],\"scattergeo\":[{\"type\":\"scattergeo\",\"marker\":{\"colorbar\":{\"outlinewidth\":0,\"ticks\":\"\"}}}],\"scatterpolar\":[{\"type\":\"scatterpolar\",\"marker\":{\"colorbar\":{\"outlinewidth\":0,\"ticks\":\"\"}}}],\"histogram\":[{\"marker\":{\"pattern\":{\"fillmode\":\"overlay\",\"size\":10,\"solidity\":0.2}},\"type\":\"histogram\"}],\"scattergl\":[{\"type\":\"scattergl\",\"marker\":{\"colorbar\":{\"outlinewidth\":0,\"ticks\":\"\"}}}],\"scatter3d\":[{\"type\":\"scatter3d\",\"line\":{\"colorbar\":{\"outlinewidth\":0,\"ticks\":\"\"}},\"marker\":{\"colorbar\":{\"outlinewidth\":0,\"ticks\":\"\"}}}],\"scattermapbox\":[{\"type\":\"scattermapbox\",\"marker\":{\"colorbar\":{\"outlinewidth\":0,\"ticks\":\"\"}}}],\"scatterternary\":[{\"type\":\"scatterternary\",\"marker\":{\"colorbar\":{\"outlinewidth\":0,\"ticks\":\"\"}}}],\"scattercarpet\":[{\"type\":\"scattercarpet\",\"marker\":{\"colorbar\":{\"outlinewidth\":0,\"ticks\":\"\"}}}],\"carpet\":[{\"aaxis\":{\"endlinecolor\":\"#2a3f5f\",\"gridcolor\":\"white\",\"linecolor\":\"white\",\"minorgridcolor\":\"white\",\"startlinecolor\":\"#2a3f5f\"},\"baxis\":{\"endlinecolor\":\"#2a3f5f\",\"gridcolor\":\"white\",\"linecolor\":\"white\",\"minorgridcolor\":\"white\",\"startlinecolor\":\"#2a3f5f\"},\"type\":\"carpet\"}],\"table\":[{\"cells\":{\"fill\":{\"color\":\"#EBF0F8\"},\"line\":{\"color\":\"white\"}},\"header\":{\"fill\":{\"color\":\"#C8D4E3\"},\"line\":{\"color\":\"white\"}},\"type\":\"table\"}],\"barpolar\":[{\"marker\":{\"line\":{\"color\":\"#E5ECF6\",\"width\":0.5},\"pattern\":{\"fillmode\":\"overlay\",\"size\":10,\"solidity\":0.2}},\"type\":\"barpolar\"}],\"pie\":[{\"automargin\":true,\"type\":\"pie\"}]},\"layout\":{\"autotypenumbers\":\"strict\",\"colorway\":[\"#636efa\",\"#EF553B\",\"#00cc96\",\"#ab63fa\",\"#FFA15A\",\"#19d3f3\",\"#FF6692\",\"#B6E880\",\"#FF97FF\",\"#FECB52\"],\"font\":{\"color\":\"#2a3f5f\"},\"hovermode\":\"closest\",\"hoverlabel\":{\"align\":\"left\"},\"paper_bgcolor\":\"white\",\"plot_bgcolor\":\"#E5ECF6\",\"polar\":{\"bgcolor\":\"#E5ECF6\",\"angularaxis\":{\"gridcolor\":\"white\",\"linecolor\":\"white\",\"ticks\":\"\"},\"radialaxis\":{\"gridcolor\":\"white\",\"linecolor\":\"white\",\"ticks\":\"\"}},\"ternary\":{\"bgcolor\":\"#E5ECF6\",\"aaxis\":{\"gridcolor\":\"white\",\"linecolor\":\"white\",\"ticks\":\"\"},\"baxis\":{\"gridcolor\":\"white\",\"linecolor\":\"white\",\"ticks\":\"\"},\"caxis\":{\"gridcolor\":\"white\",\"linecolor\":\"white\",\"ticks\":\"\"}},\"coloraxis\":{\"colorbar\":{\"outlinewidth\":0,\"ticks\":\"\"}},\"colorscale\":{\"sequential\":[[0.0,\"#0d0887\"],[0.1111111111111111,\"#46039f\"],[0.2222222222222222,\"#7201a8\"],[0.3333333333333333,\"#9c179e\"],[0.4444444444444444,\"#bd3786\"],[0.5555555555555556,\"#d8576b\"],[0.6666666666666666,\"#ed7953\"],[0.7777777777777778,\"#fb9f3a\"],[0.8888888888888888,\"#fdca26\"],[1.0,\"#f0f921\"]],\"sequentialminus\":[[0.0,\"#0d0887\"],[0.1111111111111111,\"#46039f\"],[0.2222222222222222,\"#7201a8\"],[0.3333333333333333,\"#9c179e\"],[0.4444444444444444,\"#bd3786\"],[0.5555555555555556,\"#d8576b\"],[0.6666666666666666,\"#ed7953\"],[0.7777777777777778,\"#fb9f3a\"],[0.8888888888888888,\"#fdca26\"],[1.0,\"#f0f921\"]],\"diverging\":[[0,\"#8e0152\"],[0.1,\"#c51b7d\"],[0.2,\"#de77ae\"],[0.3,\"#f1b6da\"],[0.4,\"#fde0ef\"],[0.5,\"#f7f7f7\"],[0.6,\"#e6f5d0\"],[0.7,\"#b8e186\"],[0.8,\"#7fbc41\"],[0.9,\"#4d9221\"],[1,\"#276419\"]]},\"xaxis\":{\"gridcolor\":\"white\",\"linecolor\":\"white\",\"ticks\":\"\",\"title\":{\"standoff\":15},\"zerolinecolor\":\"white\",\"automargin\":true,\"zerolinewidth\":2},\"yaxis\":{\"gridcolor\":\"white\",\"linecolor\":\"white\",\"ticks\":\"\",\"title\":{\"standoff\":15},\"zerolinecolor\":\"white\",\"automargin\":true,\"zerolinewidth\":2},\"scene\":{\"xaxis\":{\"backgroundcolor\":\"#E5ECF6\",\"gridcolor\":\"white\",\"linecolor\":\"white\",\"showbackground\":true,\"ticks\":\"\",\"zerolinecolor\":\"white\",\"gridwidth\":2},\"yaxis\":{\"backgroundcolor\":\"#E5ECF6\",\"gridcolor\":\"white\",\"linecolor\":\"white\",\"showbackground\":true,\"ticks\":\"\",\"zerolinecolor\":\"white\",\"gridwidth\":2},\"zaxis\":{\"backgroundcolor\":\"#E5ECF6\",\"gridcolor\":\"white\",\"linecolor\":\"white\",\"showbackground\":true,\"ticks\":\"\",\"zerolinecolor\":\"white\",\"gridwidth\":2}},\"shapedefaults\":{\"line\":{\"color\":\"#2a3f5f\"}},\"annotationdefaults\":{\"arrowcolor\":\"#2a3f5f\",\"arrowhead\":0,\"arrowwidth\":1},\"geo\":{\"bgcolor\":\"white\",\"landcolor\":\"#E5ECF6\",\"subunitcolor\":\"white\",\"showland\":true,\"showlakes\":true,\"lakecolor\":\"white\"},\"title\":{\"x\":0.05},\"mapbox\":{\"style\":\"light\"}}},\"xaxis\":{\"anchor\":\"y\",\"domain\":[0.0,1.0],\"title\":{\"text\":\"pc1\"}},\"yaxis\":{\"anchor\":\"x\",\"domain\":[0.0,1.0],\"title\":{\"text\":\"pc2\"}},\"legend\":{\"title\":{\"text\":\"clima\"},\"tracegroupgap\":0},\"margin\":{\"t\":60},\"autosize\":false,\"width\":800,\"height\":800},                        {\"responsive\": true}                    ).then(function(){\n",
              "                            \n",
              "var gd = document.getElementById('bfbbf81f-5503-4fbe-b4f2-b87944f93662');\n",
              "var x = new MutationObserver(function (mutations, observer) {{\n",
              "        var display = window.getComputedStyle(gd).display;\n",
              "        if (!display || display === 'none') {{\n",
              "            console.log([gd, 'removed!']);\n",
              "            Plotly.purge(gd);\n",
              "            observer.disconnect();\n",
              "        }}\n",
              "}});\n",
              "\n",
              "// Listen for the removal of the full notebook cells\n",
              "var notebookContainer = gd.closest('#notebook-container');\n",
              "if (notebookContainer) {{\n",
              "    x.observe(notebookContainer, {childList: true});\n",
              "}}\n",
              "\n",
              "// Listen for the clearing of the current output cell\n",
              "var outputEl = gd.closest('.output');\n",
              "if (outputEl) {{\n",
              "    x.observe(outputEl, {childList: true});\n",
              "}}\n",
              "\n",
              "                        })                };                            </script>        </div>\n",
              "</body>\n",
              "</html>"
            ]
          },
          "metadata": {}
        }
      ],
      "source": [
        "# Grafica interactiva\n",
        "fig = px.scatter(tsne_dataset, x='pc1', y='pc2', hover_data=['clima'], color = 'clima')\n",
        "fig.update_layout(\n",
        "    autosize=False,\n",
        "    width=800,\n",
        "    height=800,\n",
        ")\n",
        "fig.show()\n"
      ]
    },
    {
      "cell_type": "markdown",
      "source": [
        "# Notebook 2"
      ],
      "metadata": {
        "id": "yQlQQr1Bx1_C"
      }
    },
    {
      "cell_type": "code",
      "source": [],
      "metadata": {
        "id": "3huATIISx40M"
      },
      "execution_count": null,
      "outputs": []
    },
    {
      "cell_type": "code",
      "execution_count": 16,
      "metadata": {
        "colab": {
          "base_uri": "https://localhost:8080/",
          "height": 519
        },
        "id": "3gf070OOljtP",
        "outputId": "c0084019-a9c4-4fc9-9329-f50176d140e0"
      },
      "outputs": [
        {
          "output_type": "execute_result",
          "data": {
            "text/plain": [
              "                                    468        469      28090   2708348  \\\n",
              "ID                                                                        \n",
              "CAMDA23_MetaSUB_gCSD16_AKL_10  0.048249  10.696605  14.560432  1.407184   \n",
              "CAMDA23_MetaSUB_gCSD16_AKL_11  0.038155   0.527739   0.041985  0.006187   \n",
              "CAMDA23_MetaSUB_gCSD16_AKL_12  0.002185   0.234138   0.051282  0.004188   \n",
              "CAMDA23_MetaSUB_gCSD16_AKL_13  0.000142   0.014304   0.010763  0.001360   \n",
              "CAMDA23_MetaSUB_gCSD16_AKL_14  0.002103   0.061997   0.079509  0.003771   \n",
              "...                                 ...        ...        ...       ...   \n",
              "CAMDA23_MetaSUB_gCSD17_ZRH_5   0.005680   0.120175   0.057822  0.004221   \n",
              "CAMDA23_MetaSUB_gCSD17_ZRH_6   0.004338   0.293497   0.147385  0.007505   \n",
              "CAMDA23_MetaSUB_gCSD17_ZRH_7   0.004828   0.345558   0.146226  0.007608   \n",
              "CAMDA23_MetaSUB_gCSD17_ZRH_8   0.011375   0.585461   0.214900  0.008900   \n",
              "CAMDA23_MetaSUB_gCSD17_ZRH_9   0.002781   0.206718   0.095700  0.003464   \n",
              "\n",
              "                                2853158   2725684   2563897   1879049  \\\n",
              "ID                                                                      \n",
              "CAMDA23_MetaSUB_gCSD16_AKL_10  0.881451  0.459366  0.092738  0.084259   \n",
              "CAMDA23_MetaSUB_gCSD16_AKL_11  0.004125  0.001817  0.037517  0.043557   \n",
              "CAMDA23_MetaSUB_gCSD16_AKL_12  0.001881  0.001335  0.001578  0.004188   \n",
              "CAMDA23_MetaSUB_gCSD16_AKL_13  0.000510  0.000227  0.000340  0.000283   \n",
              "CAMDA23_MetaSUB_gCSD16_AKL_14  0.000653  0.001704  0.000544  0.000725   \n",
              "...                                 ...       ...       ...       ...   \n",
              "CAMDA23_MetaSUB_gCSD17_ZRH_5   0.000714  0.002452  0.002111  0.001148   \n",
              "CAMDA23_MetaSUB_gCSD17_ZRH_6   0.000930  0.007092  0.001653  0.001825   \n",
              "CAMDA23_MetaSUB_gCSD17_ZRH_7   0.001244  0.004535  0.001609  0.001463   \n",
              "CAMDA23_MetaSUB_gCSD17_ZRH_8   0.002058  0.010068  0.003143  0.002169   \n",
              "CAMDA23_MetaSUB_gCSD17_ZRH_9   0.001273  0.004053  0.000848  0.000566   \n",
              "\n",
              "                                2773709   2079596  ...   1519389     12480  \\\n",
              "ID                                                 ...                       \n",
              "CAMDA23_MetaSUB_gCSD16_AKL_10  0.049634  0.043755  ...  0.000000  0.000000   \n",
              "CAMDA23_MetaSUB_gCSD16_AKL_11  0.017383  0.002701  ...  0.000000  0.000000   \n",
              "CAMDA23_MetaSUB_gCSD16_AKL_12  0.000971  0.000668  ...  0.000000  0.000000   \n",
              "CAMDA23_MetaSUB_gCSD16_AKL_13  0.000340  0.000028  ...  0.000000  0.000000   \n",
              "CAMDA23_MetaSUB_gCSD16_AKL_14  0.000109  0.000036  ...  0.000000  0.000000   \n",
              "...                                 ...       ...  ...       ...       ...   \n",
              "CAMDA23_MetaSUB_gCSD17_ZRH_5   0.000776  0.000310  ...  0.000000  0.000000   \n",
              "CAMDA23_MetaSUB_gCSD17_ZRH_6   0.000930  0.000654  ...  0.000000  0.000000   \n",
              "CAMDA23_MetaSUB_gCSD17_ZRH_7   0.000585  0.001097  ...  0.000073  0.000073   \n",
              "CAMDA23_MetaSUB_gCSD17_ZRH_8   0.001780  0.001335  ...  0.000000  0.000000   \n",
              "CAMDA23_MetaSUB_gCSD17_ZRH_9   0.000424  0.000424  ...  0.000000  0.000000   \n",
              "\n",
              "                                   1131   2886895    546184     12330  \\\n",
              "ID                                                                      \n",
              "CAMDA23_MetaSUB_gCSD16_AKL_10  0.000000  0.000000  0.000000  0.000000   \n",
              "CAMDA23_MetaSUB_gCSD16_AKL_11  0.000000  0.000000  0.000000  0.000000   \n",
              "CAMDA23_MetaSUB_gCSD16_AKL_12  0.000000  0.000000  0.000000  0.000000   \n",
              "CAMDA23_MetaSUB_gCSD16_AKL_13  0.000000  0.000000  0.000000  0.000000   \n",
              "CAMDA23_MetaSUB_gCSD16_AKL_14  0.000000  0.000000  0.000000  0.000000   \n",
              "...                                 ...       ...       ...       ...   \n",
              "CAMDA23_MetaSUB_gCSD17_ZRH_5   0.000000  0.000000  0.000000  0.000000   \n",
              "CAMDA23_MetaSUB_gCSD17_ZRH_6   0.000000  0.000000  0.000000  0.000000   \n",
              "CAMDA23_MetaSUB_gCSD17_ZRH_7   0.000000  0.000000  0.000000  0.000000   \n",
              "CAMDA23_MetaSUB_gCSD17_ZRH_8   0.000028  0.000028  0.000028  0.000028   \n",
              "CAMDA23_MetaSUB_gCSD17_ZRH_9   0.000000  0.000000  0.000000  0.000000   \n",
              "\n",
              "                                1922682   1513254   1922952  Climate  \n",
              "ID                                                                    \n",
              "CAMDA23_MetaSUB_gCSD16_AKL_10  0.000000  0.000000  0.000000      Cfb  \n",
              "CAMDA23_MetaSUB_gCSD16_AKL_11  0.000000  0.000000  0.000000      Cfb  \n",
              "CAMDA23_MetaSUB_gCSD16_AKL_12  0.000000  0.000000  0.000000      Cfb  \n",
              "CAMDA23_MetaSUB_gCSD16_AKL_13  0.000000  0.000000  0.000000      Cfb  \n",
              "CAMDA23_MetaSUB_gCSD16_AKL_14  0.000000  0.000000  0.000000      Cfb  \n",
              "...                                 ...       ...       ...      ...  \n",
              "CAMDA23_MetaSUB_gCSD17_ZRH_5   0.000000  0.000000  0.000000      Cfb  \n",
              "CAMDA23_MetaSUB_gCSD17_ZRH_6   0.000000  0.000000  0.000000      Cfb  \n",
              "CAMDA23_MetaSUB_gCSD17_ZRH_7   0.000000  0.000000  0.000000      Cfb  \n",
              "CAMDA23_MetaSUB_gCSD17_ZRH_8   0.000028  0.000000  0.000000      Cfb  \n",
              "CAMDA23_MetaSUB_gCSD17_ZRH_9   0.000000  0.000024  0.000024      Cfb  \n",
              "\n",
              "[286 rows x 18290 columns]"
            ],
            "text/html": [
              "\n",
              "  <div id=\"df-4436682c-73bb-4c06-9fd5-7fb25e09826c\">\n",
              "    <div class=\"colab-df-container\">\n",
              "      <div>\n",
              "<style scoped>\n",
              "    .dataframe tbody tr th:only-of-type {\n",
              "        vertical-align: middle;\n",
              "    }\n",
              "\n",
              "    .dataframe tbody tr th {\n",
              "        vertical-align: top;\n",
              "    }\n",
              "\n",
              "    .dataframe thead th {\n",
              "        text-align: right;\n",
              "    }\n",
              "</style>\n",
              "<table border=\"1\" class=\"dataframe\">\n",
              "  <thead>\n",
              "    <tr style=\"text-align: right;\">\n",
              "      <th></th>\n",
              "      <th>468</th>\n",
              "      <th>469</th>\n",
              "      <th>28090</th>\n",
              "      <th>2708348</th>\n",
              "      <th>2853158</th>\n",
              "      <th>2725684</th>\n",
              "      <th>2563897</th>\n",
              "      <th>1879049</th>\n",
              "      <th>2773709</th>\n",
              "      <th>2079596</th>\n",
              "      <th>...</th>\n",
              "      <th>1519389</th>\n",
              "      <th>12480</th>\n",
              "      <th>1131</th>\n",
              "      <th>2886895</th>\n",
              "      <th>546184</th>\n",
              "      <th>12330</th>\n",
              "      <th>1922682</th>\n",
              "      <th>1513254</th>\n",
              "      <th>1922952</th>\n",
              "      <th>Climate</th>\n",
              "    </tr>\n",
              "    <tr>\n",
              "      <th>ID</th>\n",
              "      <th></th>\n",
              "      <th></th>\n",
              "      <th></th>\n",
              "      <th></th>\n",
              "      <th></th>\n",
              "      <th></th>\n",
              "      <th></th>\n",
              "      <th></th>\n",
              "      <th></th>\n",
              "      <th></th>\n",
              "      <th></th>\n",
              "      <th></th>\n",
              "      <th></th>\n",
              "      <th></th>\n",
              "      <th></th>\n",
              "      <th></th>\n",
              "      <th></th>\n",
              "      <th></th>\n",
              "      <th></th>\n",
              "      <th></th>\n",
              "      <th></th>\n",
              "    </tr>\n",
              "  </thead>\n",
              "  <tbody>\n",
              "    <tr>\n",
              "      <th>CAMDA23_MetaSUB_gCSD16_AKL_10</th>\n",
              "      <td>0.048249</td>\n",
              "      <td>10.696605</td>\n",
              "      <td>14.560432</td>\n",
              "      <td>1.407184</td>\n",
              "      <td>0.881451</td>\n",
              "      <td>0.459366</td>\n",
              "      <td>0.092738</td>\n",
              "      <td>0.084259</td>\n",
              "      <td>0.049634</td>\n",
              "      <td>0.043755</td>\n",
              "      <td>...</td>\n",
              "      <td>0.000000</td>\n",
              "      <td>0.000000</td>\n",
              "      <td>0.000000</td>\n",
              "      <td>0.000000</td>\n",
              "      <td>0.000000</td>\n",
              "      <td>0.000000</td>\n",
              "      <td>0.000000</td>\n",
              "      <td>0.000000</td>\n",
              "      <td>0.000000</td>\n",
              "      <td>Cfb</td>\n",
              "    </tr>\n",
              "    <tr>\n",
              "      <th>CAMDA23_MetaSUB_gCSD16_AKL_11</th>\n",
              "      <td>0.038155</td>\n",
              "      <td>0.527739</td>\n",
              "      <td>0.041985</td>\n",
              "      <td>0.006187</td>\n",
              "      <td>0.004125</td>\n",
              "      <td>0.001817</td>\n",
              "      <td>0.037517</td>\n",
              "      <td>0.043557</td>\n",
              "      <td>0.017383</td>\n",
              "      <td>0.002701</td>\n",
              "      <td>...</td>\n",
              "      <td>0.000000</td>\n",
              "      <td>0.000000</td>\n",
              "      <td>0.000000</td>\n",
              "      <td>0.000000</td>\n",
              "      <td>0.000000</td>\n",
              "      <td>0.000000</td>\n",
              "      <td>0.000000</td>\n",
              "      <td>0.000000</td>\n",
              "      <td>0.000000</td>\n",
              "      <td>Cfb</td>\n",
              "    </tr>\n",
              "    <tr>\n",
              "      <th>CAMDA23_MetaSUB_gCSD16_AKL_12</th>\n",
              "      <td>0.002185</td>\n",
              "      <td>0.234138</td>\n",
              "      <td>0.051282</td>\n",
              "      <td>0.004188</td>\n",
              "      <td>0.001881</td>\n",
              "      <td>0.001335</td>\n",
              "      <td>0.001578</td>\n",
              "      <td>0.004188</td>\n",
              "      <td>0.000971</td>\n",
              "      <td>0.000668</td>\n",
              "      <td>...</td>\n",
              "      <td>0.000000</td>\n",
              "      <td>0.000000</td>\n",
              "      <td>0.000000</td>\n",
              "      <td>0.000000</td>\n",
              "      <td>0.000000</td>\n",
              "      <td>0.000000</td>\n",
              "      <td>0.000000</td>\n",
              "      <td>0.000000</td>\n",
              "      <td>0.000000</td>\n",
              "      <td>Cfb</td>\n",
              "    </tr>\n",
              "    <tr>\n",
              "      <th>CAMDA23_MetaSUB_gCSD16_AKL_13</th>\n",
              "      <td>0.000142</td>\n",
              "      <td>0.014304</td>\n",
              "      <td>0.010763</td>\n",
              "      <td>0.001360</td>\n",
              "      <td>0.000510</td>\n",
              "      <td>0.000227</td>\n",
              "      <td>0.000340</td>\n",
              "      <td>0.000283</td>\n",
              "      <td>0.000340</td>\n",
              "      <td>0.000028</td>\n",
              "      <td>...</td>\n",
              "      <td>0.000000</td>\n",
              "      <td>0.000000</td>\n",
              "      <td>0.000000</td>\n",
              "      <td>0.000000</td>\n",
              "      <td>0.000000</td>\n",
              "      <td>0.000000</td>\n",
              "      <td>0.000000</td>\n",
              "      <td>0.000000</td>\n",
              "      <td>0.000000</td>\n",
              "      <td>Cfb</td>\n",
              "    </tr>\n",
              "    <tr>\n",
              "      <th>CAMDA23_MetaSUB_gCSD16_AKL_14</th>\n",
              "      <td>0.002103</td>\n",
              "      <td>0.061997</td>\n",
              "      <td>0.079509</td>\n",
              "      <td>0.003771</td>\n",
              "      <td>0.000653</td>\n",
              "      <td>0.001704</td>\n",
              "      <td>0.000544</td>\n",
              "      <td>0.000725</td>\n",
              "      <td>0.000109</td>\n",
              "      <td>0.000036</td>\n",
              "      <td>...</td>\n",
              "      <td>0.000000</td>\n",
              "      <td>0.000000</td>\n",
              "      <td>0.000000</td>\n",
              "      <td>0.000000</td>\n",
              "      <td>0.000000</td>\n",
              "      <td>0.000000</td>\n",
              "      <td>0.000000</td>\n",
              "      <td>0.000000</td>\n",
              "      <td>0.000000</td>\n",
              "      <td>Cfb</td>\n",
              "    </tr>\n",
              "    <tr>\n",
              "      <th>...</th>\n",
              "      <td>...</td>\n",
              "      <td>...</td>\n",
              "      <td>...</td>\n",
              "      <td>...</td>\n",
              "      <td>...</td>\n",
              "      <td>...</td>\n",
              "      <td>...</td>\n",
              "      <td>...</td>\n",
              "      <td>...</td>\n",
              "      <td>...</td>\n",
              "      <td>...</td>\n",
              "      <td>...</td>\n",
              "      <td>...</td>\n",
              "      <td>...</td>\n",
              "      <td>...</td>\n",
              "      <td>...</td>\n",
              "      <td>...</td>\n",
              "      <td>...</td>\n",
              "      <td>...</td>\n",
              "      <td>...</td>\n",
              "      <td>...</td>\n",
              "    </tr>\n",
              "    <tr>\n",
              "      <th>CAMDA23_MetaSUB_gCSD17_ZRH_5</th>\n",
              "      <td>0.005680</td>\n",
              "      <td>0.120175</td>\n",
              "      <td>0.057822</td>\n",
              "      <td>0.004221</td>\n",
              "      <td>0.000714</td>\n",
              "      <td>0.002452</td>\n",
              "      <td>0.002111</td>\n",
              "      <td>0.001148</td>\n",
              "      <td>0.000776</td>\n",
              "      <td>0.000310</td>\n",
              "      <td>...</td>\n",
              "      <td>0.000000</td>\n",
              "      <td>0.000000</td>\n",
              "      <td>0.000000</td>\n",
              "      <td>0.000000</td>\n",
              "      <td>0.000000</td>\n",
              "      <td>0.000000</td>\n",
              "      <td>0.000000</td>\n",
              "      <td>0.000000</td>\n",
              "      <td>0.000000</td>\n",
              "      <td>Cfb</td>\n",
              "    </tr>\n",
              "    <tr>\n",
              "      <th>CAMDA23_MetaSUB_gCSD17_ZRH_6</th>\n",
              "      <td>0.004338</td>\n",
              "      <td>0.293497</td>\n",
              "      <td>0.147385</td>\n",
              "      <td>0.007505</td>\n",
              "      <td>0.000930</td>\n",
              "      <td>0.007092</td>\n",
              "      <td>0.001653</td>\n",
              "      <td>0.001825</td>\n",
              "      <td>0.000930</td>\n",
              "      <td>0.000654</td>\n",
              "      <td>...</td>\n",
              "      <td>0.000000</td>\n",
              "      <td>0.000000</td>\n",
              "      <td>0.000000</td>\n",
              "      <td>0.000000</td>\n",
              "      <td>0.000000</td>\n",
              "      <td>0.000000</td>\n",
              "      <td>0.000000</td>\n",
              "      <td>0.000000</td>\n",
              "      <td>0.000000</td>\n",
              "      <td>Cfb</td>\n",
              "    </tr>\n",
              "    <tr>\n",
              "      <th>CAMDA23_MetaSUB_gCSD17_ZRH_7</th>\n",
              "      <td>0.004828</td>\n",
              "      <td>0.345558</td>\n",
              "      <td>0.146226</td>\n",
              "      <td>0.007608</td>\n",
              "      <td>0.001244</td>\n",
              "      <td>0.004535</td>\n",
              "      <td>0.001609</td>\n",
              "      <td>0.001463</td>\n",
              "      <td>0.000585</td>\n",
              "      <td>0.001097</td>\n",
              "      <td>...</td>\n",
              "      <td>0.000073</td>\n",
              "      <td>0.000073</td>\n",
              "      <td>0.000000</td>\n",
              "      <td>0.000000</td>\n",
              "      <td>0.000000</td>\n",
              "      <td>0.000000</td>\n",
              "      <td>0.000000</td>\n",
              "      <td>0.000000</td>\n",
              "      <td>0.000000</td>\n",
              "      <td>Cfb</td>\n",
              "    </tr>\n",
              "    <tr>\n",
              "      <th>CAMDA23_MetaSUB_gCSD17_ZRH_8</th>\n",
              "      <td>0.011375</td>\n",
              "      <td>0.585461</td>\n",
              "      <td>0.214900</td>\n",
              "      <td>0.008900</td>\n",
              "      <td>0.002058</td>\n",
              "      <td>0.010068</td>\n",
              "      <td>0.003143</td>\n",
              "      <td>0.002169</td>\n",
              "      <td>0.001780</td>\n",
              "      <td>0.001335</td>\n",
              "      <td>...</td>\n",
              "      <td>0.000000</td>\n",
              "      <td>0.000000</td>\n",
              "      <td>0.000028</td>\n",
              "      <td>0.000028</td>\n",
              "      <td>0.000028</td>\n",
              "      <td>0.000028</td>\n",
              "      <td>0.000028</td>\n",
              "      <td>0.000000</td>\n",
              "      <td>0.000000</td>\n",
              "      <td>Cfb</td>\n",
              "    </tr>\n",
              "    <tr>\n",
              "      <th>CAMDA23_MetaSUB_gCSD17_ZRH_9</th>\n",
              "      <td>0.002781</td>\n",
              "      <td>0.206718</td>\n",
              "      <td>0.095700</td>\n",
              "      <td>0.003464</td>\n",
              "      <td>0.001273</td>\n",
              "      <td>0.004053</td>\n",
              "      <td>0.000848</td>\n",
              "      <td>0.000566</td>\n",
              "      <td>0.000424</td>\n",
              "      <td>0.000424</td>\n",
              "      <td>...</td>\n",
              "      <td>0.000000</td>\n",
              "      <td>0.000000</td>\n",
              "      <td>0.000000</td>\n",
              "      <td>0.000000</td>\n",
              "      <td>0.000000</td>\n",
              "      <td>0.000000</td>\n",
              "      <td>0.000000</td>\n",
              "      <td>0.000024</td>\n",
              "      <td>0.000024</td>\n",
              "      <td>Cfb</td>\n",
              "    </tr>\n",
              "  </tbody>\n",
              "</table>\n",
              "<p>286 rows × 18290 columns</p>\n",
              "</div>\n",
              "      <button class=\"colab-df-convert\" onclick=\"convertToInteractive('df-4436682c-73bb-4c06-9fd5-7fb25e09826c')\"\n",
              "              title=\"Convert this dataframe to an interactive table.\"\n",
              "              style=\"display:none;\">\n",
              "        \n",
              "  <svg xmlns=\"http://www.w3.org/2000/svg\" height=\"24px\"viewBox=\"0 0 24 24\"\n",
              "       width=\"24px\">\n",
              "    <path d=\"M0 0h24v24H0V0z\" fill=\"none\"/>\n",
              "    <path d=\"M18.56 5.44l.94 2.06.94-2.06 2.06-.94-2.06-.94-.94-2.06-.94 2.06-2.06.94zm-11 1L8.5 8.5l.94-2.06 2.06-.94-2.06-.94L8.5 2.5l-.94 2.06-2.06.94zm10 10l.94 2.06.94-2.06 2.06-.94-2.06-.94-.94-2.06-.94 2.06-2.06.94z\"/><path d=\"M17.41 7.96l-1.37-1.37c-.4-.4-.92-.59-1.43-.59-.52 0-1.04.2-1.43.59L10.3 9.45l-7.72 7.72c-.78.78-.78 2.05 0 2.83L4 21.41c.39.39.9.59 1.41.59.51 0 1.02-.2 1.41-.59l7.78-7.78 2.81-2.81c.8-.78.8-2.07 0-2.86zM5.41 20L4 18.59l7.72-7.72 1.47 1.35L5.41 20z\"/>\n",
              "  </svg>\n",
              "      </button>\n",
              "      \n",
              "  <style>\n",
              "    .colab-df-container {\n",
              "      display:flex;\n",
              "      flex-wrap:wrap;\n",
              "      gap: 12px;\n",
              "    }\n",
              "\n",
              "    .colab-df-convert {\n",
              "      background-color: #E8F0FE;\n",
              "      border: none;\n",
              "      border-radius: 50%;\n",
              "      cursor: pointer;\n",
              "      display: none;\n",
              "      fill: #1967D2;\n",
              "      height: 32px;\n",
              "      padding: 0 0 0 0;\n",
              "      width: 32px;\n",
              "    }\n",
              "\n",
              "    .colab-df-convert:hover {\n",
              "      background-color: #E2EBFA;\n",
              "      box-shadow: 0px 1px 2px rgba(60, 64, 67, 0.3), 0px 1px 3px 1px rgba(60, 64, 67, 0.15);\n",
              "      fill: #174EA6;\n",
              "    }\n",
              "\n",
              "    [theme=dark] .colab-df-convert {\n",
              "      background-color: #3B4455;\n",
              "      fill: #D2E3FC;\n",
              "    }\n",
              "\n",
              "    [theme=dark] .colab-df-convert:hover {\n",
              "      background-color: #434B5C;\n",
              "      box-shadow: 0px 1px 3px 1px rgba(0, 0, 0, 0.15);\n",
              "      filter: drop-shadow(0px 1px 2px rgba(0, 0, 0, 0.3));\n",
              "      fill: #FFFFFF;\n",
              "    }\n",
              "  </style>\n",
              "\n",
              "      <script>\n",
              "        const buttonEl =\n",
              "          document.querySelector('#df-4436682c-73bb-4c06-9fd5-7fb25e09826c button.colab-df-convert');\n",
              "        buttonEl.style.display =\n",
              "          google.colab.kernel.accessAllowed ? 'block' : 'none';\n",
              "\n",
              "        async function convertToInteractive(key) {\n",
              "          const element = document.querySelector('#df-4436682c-73bb-4c06-9fd5-7fb25e09826c');\n",
              "          const dataTable =\n",
              "            await google.colab.kernel.invokeFunction('convertToInteractive',\n",
              "                                                     [key], {});\n",
              "          if (!dataTable) return;\n",
              "\n",
              "          const docLinkHtml = 'Like what you see? Visit the ' +\n",
              "            '<a target=\"_blank\" href=https://colab.research.google.com/notebooks/data_table.ipynb>data table notebook</a>'\n",
              "            + ' to learn more about interactive tables.';\n",
              "          element.innerHTML = '';\n",
              "          dataTable['output_type'] = 'display_data';\n",
              "          await google.colab.output.renderOutput(dataTable, element);\n",
              "          const docLink = document.createElement('div');\n",
              "          docLink.innerHTML = docLinkHtml;\n",
              "          element.appendChild(docLink);\n",
              "        }\n",
              "      </script>\n",
              "    </div>\n",
              "  </div>\n",
              "  "
            ]
          },
          "metadata": {},
          "execution_count": 16
        }
      ],
      "source": [
        "from mpl_toolkits.axes_grid1 import make_axes_locatable\n",
        "import pandas as pd \n",
        "import numpy as np\n",
        "import matplotlib.pyplot as plt\n",
        "import seaborn as sns\n",
        "\n",
        "otus = pd.read_csv(\"camda_relative.csv\", index_col=\"ID\")\n",
        "\n",
        "cont_names = list(otus.drop([\"ID_city\",\"City\",\"Climate\",\"Latitude\", \"Longitude\", \"Year\"], axis=1).columns)\n",
        "y_names = [\"Climate\"]\n",
        "otus_df = otus[cont_names+y_names]\n",
        "otus_df"
      ]
    },
    {
      "cell_type": "markdown",
      "metadata": {
        "id": "Fnjr-_oxljtP"
      },
      "source": [
        "El problema de clasificación es complejo: tiene muchas categorías y está muy desbalanceado..."
      ]
    },
    {
      "cell_type": "code",
      "execution_count": 17,
      "metadata": {
        "colab": {
          "base_uri": "https://localhost:8080/",
          "height": 880
        },
        "id": "ahxXRPVhljtQ",
        "outputId": "bc6a6170-920a-4940-97a4-80f00425f506"
      },
      "outputs": [
        {
          "output_type": "display_data",
          "data": {
            "text/plain": [
              "<Figure size 1000x1000 with 1 Axes>"
            ],
            "image/png": "[encoded data removed]"
          },
          "metadata": {}
        }
      ],
      "source": [
        "fig, ax = plt.subplots(1,1 ,figsize=(10, 10))\n",
        "sns.countplot(data=otus_df, y=\"Climate\", order=otus_df.Climate.value_counts().index, color=\"blue\")\n",
        "plt.xlabel(\"Frecuencia\")\n",
        "plt.ylabel(\"Clima\")\n",
        "plt.title(\"Distribución de climas\", fontsize=21)\n",
        "plt.show()"
      ]
    },
    {
      "cell_type": "markdown",
      "metadata": {
        "id": "bC-bD0s-ljtQ"
      },
      "source": [
        "Para fines didácticos, restrinjo los datos a aquellos que tienen al menos `n_min` datos en su categoría:"
      ]
    },
    {
      "cell_type": "code",
      "execution_count": 18,
      "metadata": {
        "id": "kfvrZiLiljtQ"
      },
      "outputs": [],
      "source": [
        "def get_reduced_data(data,y_counts,ylab='Climate',n_min=5):\n",
        "    y_val = y_counts[y_counts>n_min]\n",
        "    data_val_df = data.loc[data[ylab].isin(y_val.index)]\n",
        "    return data_val_df, y_val"
      ]
    },
    {
      "cell_type": "code",
      "execution_count": 19,
      "metadata": {
        "colab": {
          "base_uri": "https://localhost:8080/"
        },
        "id": "8nfedG5gljtR",
        "outputId": "7794eae6-e96c-4f7a-8115-d9950ec400af"
      },
      "outputs": [
        {
          "output_type": "execute_result",
          "data": {
            "text/plain": [
              "Cfa    99\n",
              "Cfb    61\n",
              "BSk    44\n",
              "Csa    31\n",
              "BWh    27\n",
              "Aw     18\n",
              "Dfa     6\n",
              "Name: Climate, dtype: int64"
            ]
          },
          "metadata": {},
          "execution_count": 19
        }
      ],
      "source": [
        "y_counts = otus_df.Climate.value_counts()\n",
        "y_counts"
      ]
    },
    {
      "cell_type": "code",
      "execution_count": 20,
      "metadata": {
        "colab": {
          "base_uri": "https://localhost:8080/"
        },
        "id": "38Tso4nYljtR",
        "outputId": "9d592d94-d572-4b37-fb38-4f40ec893882"
      },
      "outputs": [
        {
          "output_type": "execute_result",
          "data": {
            "text/plain": [
              "(286, 18290)"
            ]
          },
          "metadata": {},
          "execution_count": 20
        }
      ],
      "source": [
        "n_min = 5\n",
        "otus_val_df, y_val = get_reduced_data(otus_df,y_counts,'Climate',n_min)\n",
        "otus_val_df.shape"
      ]
    },
    {
      "cell_type": "code",
      "execution_count": 21,
      "metadata": {
        "colab": {
          "base_uri": "https://localhost:8080/"
        },
        "id": "40r4nl8RljtR",
        "outputId": "3b18021e-2179-433d-d146-b7381d647694"
      },
      "outputs": [
        {
          "output_type": "execute_result",
          "data": {
            "text/plain": [
              "Index(['Cfa', 'Cfb', 'BSk', 'Csa', 'BWh', 'Aw', 'Dfa'], dtype='object')"
            ]
          },
          "metadata": {},
          "execution_count": 21
        }
      ],
      "source": [
        "y_val.index"
      ]
    },
    {
      "cell_type": "code",
      "execution_count": 22,
      "metadata": {
        "id": "kZHuQ73wljtS"
      },
      "outputs": [],
      "source": [
        "from sklearn.linear_model import LogisticRegression\n",
        "from sklearn.model_selection import train_test_split\n",
        "from sklearn import metrics\n",
        "from sklearn import preprocessing\n",
        "%matplotlib inline\n",
        "#plt.style.use('seaborn') "
      ]
    },
    {
      "cell_type": "markdown",
      "metadata": {
        "id": "uFKR_udcljtS"
      },
      "source": [
        "Creo las variables dependientes e independientes. Para las variables dependientes, uso una codificación numérica de la respuesta con `LabelEncoder`"
      ]
    },
    {
      "cell_type": "code",
      "execution_count": 23,
      "metadata": {
        "id": "kwKG8F8-ljtS"
      },
      "outputs": [],
      "source": [
        "y = np.array(otus_val_df[y_names]).ravel()\n",
        "X = np.array(otus_val_df.drop(y_names,axis=1)).astype('float')\n",
        "\n",
        "le = preprocessing.LabelEncoder()\n",
        "le.fit(y)\n",
        "#le.classes_\n",
        "y_cat = le.transform(y)\n",
        "#le.inverse_transform(y_cat[:5])"
      ]
    },
    {
      "cell_type": "markdown",
      "metadata": {
        "id": "pVBYqedHljtS"
      },
      "source": [
        "Creamos conjunto de datos de entrenamiento y prueba"
      ]
    },
    {
      "cell_type": "code",
      "execution_count": 24,
      "metadata": {
        "id": "x4_TXCXJljtT"
      },
      "outputs": [],
      "source": [
        "X_train, X_test, y_train, y_test = train_test_split(X, y_cat, test_size=0.3, random_state=0)"
      ]
    },
    {
      "cell_type": "code",
      "execution_count": 25,
      "metadata": {
        "colab": {
          "base_uri": "https://localhost:8080/"
        },
        "id": "XDWpt4yFljtT",
        "outputId": "43461b57-23b6-41ce-9169-9a8864807c1c"
      },
      "outputs": [
        {
          "output_type": "stream",
          "name": "stdout",
          "text": [
            "Accuracy of logistic regression classifier on test set: 0.63\n"
          ]
        },
        {
          "output_type": "stream",
          "name": "stderr",
          "text": [
            "/usr/local/lib/python3.10/dist-packages/sklearn/linear_model/_sag.py:350: ConvergenceWarning:\n",
            "\n",
            "The max_iter was reached which means the coef_ did not converge\n",
            "\n"
          ]
        }
      ],
      "source": [
        "logreg = LogisticRegression(solver='sag')\n",
        "logreg.fit(X_train, y_train)\n",
        "\n",
        "y_pred = logreg.predict(X_test)\n",
        "print('Accuracy of logistic regression classifier on test set: {:.2f}'.format(logreg.score(X_test, y_test)))"
      ]
    },
    {
      "cell_type": "code",
      "execution_count": 26,
      "metadata": {
        "colab": {
          "base_uri": "https://localhost:8080/",
          "height": 619
        },
        "id": "b83ZK0gsljtT",
        "outputId": "f49e733c-a55e-496e-ff0d-e19e1778b7a4"
      },
      "outputs": [
        {
          "output_type": "display_data",
          "data": {
            "text/plain": [
              "<Figure size 700x700 with 2 Axes>"
            ],
            "image/png": "[encoded data removed]"
          },
          "metadata": {}
        }
      ],
      "source": [
        "plt.style.use('default') \n",
        "cm = metrics.confusion_matrix(y_test,y_pred)\n",
        "disp1 = metrics.ConfusionMatrixDisplay(cm, display_labels=np.arange(len(le.classes_)))\n",
        "fig, ax = plt.subplots(figsize=(7,7))\n",
        "\n",
        "disp1.plot(ax=ax, colorbar=False)\n",
        "# Adding custom colorbar\n",
        "cax = fig.add_axes([ax.get_position().x1+0.01,ax.get_position().y0,0.02,ax.get_position().height])\n",
        "plt.colorbar(disp1.im_,  cax=cax);"
      ]
    },
    {
      "cell_type": "code",
      "execution_count": 27,
      "metadata": {
        "colab": {
          "base_uri": "https://localhost:8080/"
        },
        "id": "On-6YMEnljtT",
        "outputId": "c2f56e4c-4138-4a6a-b709-944b90f79b58"
      },
      "outputs": [
        {
          "output_type": "stream",
          "name": "stdout",
          "text": [
            "              precision    recall  f1-score   support\n",
            "\n",
            "           0       0.80      0.67      0.73         6\n",
            "           1       0.64      0.70      0.67        10\n",
            "           2       0.75      0.43      0.55         7\n",
            "           3       0.65      0.69      0.67        35\n",
            "           4       0.56      0.56      0.56        18\n",
            "           5       0.75      0.75      0.75         8\n",
            "           6       0.00      0.00      0.00         2\n",
            "\n",
            "    accuracy                           0.63        86\n",
            "   macro avg       0.59      0.54      0.56        86\n",
            "weighted avg       0.64      0.63      0.63        86\n",
            "\n"
          ]
        }
      ],
      "source": [
        "print(metrics.classification_report(y_test, y_pred))"
      ]
    },
    {
      "cell_type": "markdown",
      "metadata": {
        "id": "NyEJbkd7ljtU"
      },
      "source": [
        "### Representación PCA\n",
        "\n",
        "Ahora, veamos los resultados usando una versión simplificada de los datos con PCA."
      ]
    },
    {
      "cell_type": "code",
      "execution_count": 28,
      "metadata": {
        "id": "Fn0rQiNzljtU"
      },
      "outputs": [],
      "source": [
        "from sklearn.preprocessing import StandardScaler\n",
        "from sklearn.decomposition import PCA\n",
        "import plotly.express as px\n",
        "\n",
        "scaler = StandardScaler()\n",
        "X_train_std = scaler.fit_transform(X_train)\n",
        "ncomp=3\n",
        "otus_pca=PCA(ncomp)\n",
        "otus_pca.fit_transform(X_train_std)\n",
        "X_train_pca = otus_pca.transform(X_train_std)\n",
        "proj = pd.DataFrame(X_train_pca,columns = ['pc1','pc2','pc3'])\n",
        "pca_proj = pd.DataFrame({'pc1': proj['pc1'], 'pc2': proj['pc2'], 'clima': y_train})"
      ]
    },
    {
      "cell_type": "code",
      "execution_count": 29,
      "metadata": {
        "colab": {
          "base_uri": "https://localhost:8080/",
          "height": 817
        },
        "id": "njU-LbkEljtU",
        "outputId": "20e5976f-fd1f-4b70-ff7b-589d909bf16f"
      },
      "outputs": [
        {
          "output_type": "display_data",
          "data": {
            "text/html": [
              "<html>\n",
              "<head><meta charset=\"utf-8\" /></head>\n",
              "<body>\n",
              "    <div>            <script src=\"https://cdnjs.cloudflare.com/ajax/libs/mathjax/2.7.5/MathJax.js?config=TeX-AMS-MML_SVG\"></script><script type=\"text/javascript\">if (window.MathJax && window.MathJax.Hub && window.MathJax.Hub.Config) {window.MathJax.Hub.Config({SVG: {font: \"STIX-Web\"}});}</script>                <script type=\"text/javascript\">window.PlotlyConfig = {MathJaxConfig: 'local'};</script>\n",
              "        <script src=\"https://cdn.plot.ly/plotly-2.18.2.min.js\"></script>                <div id=\"09f8f0ab-5f61-4fda-a6dc-2d0fd72ba5f2\" class=\"plotly-graph-div\" style=\"height:800px; width:800px;\"></div>            <script type=\"text/javascript\">                                    window.PLOTLYENV=window.PLOTLYENV || {};                                    if (document.getElementById(\"09f8f0ab-5f61-4fda-a6dc-2d0fd72ba5f2\")) {                    Plotly.newPlot(                        \"09f8f0ab-5f61-4fda-a6dc-2d0fd72ba5f2\",                        [{\"customdata\":[[4],[0],[3],[3],[3],[5],[3],[3],[4],[4],[0],[1],[5],[1],[2],[0],[4],[4],[1],[2],[4],[2],[5],[3],[2],[0],[3],[1],[1],[4],[3],[0],[2],[1],[5],[2],[3],[5],[4],[0],[3],[3],[4],[1],[3],[4],[3],[4],[4],[0],[1],[4],[1],[5],[4],[3],[4],[3],[3],[4],[5],[2],[4],[3],[3],[3],[5],[4],[3],[2],[1],[4],[0],[1],[3],[3],[1],[2],[4],[3],[2],[3],[3],[1],[3],[2],[4],[3],[0],[1],[3],[3],[3],[5],[4],[6],[1],[3],[1],[4],[5],[3],[3],[3],[5],[1],[1],[5],[4],[2],[4],[3],[0],[2],[5],[3],[3],[2],[4],[4],[3],[4],[5],[3],[5],[3],[1],[2],[3],[4],[2],[4],[5],[5],[4],[4],[1],[3],[1],[2],[3],[5],[4],[1],[3],[3],[1],[3],[2],[5],[4],[3],[1],[2],[2],[6],[4],[1],[1],[4],[3],[1],[3],[6],[0],[3],[3],[1],[1],[1],[3],[4],[0],[4],[3],[3],[3],[3],[1],[5],[4],[6],[4],[3],[4],[1],[3],[5],[5],[5],[3],[4],[3],[4],[3],[3],[3],[1],[1],[3]],\"hovertemplate\":\"pc1=%{x}<br>pc2=%{y}<br>clima=%{marker.color}<extra></extra>\",\"legendgroup\":\"\",\"marker\":{\"color\":[4,0,3,3,3,5,3,3,4,4,0,1,5,1,2,0,4,4,1,2,4,2,5,3,2,0,3,1,1,4,3,0,2,1,5,2,3,5,4,0,3,3,4,1,3,4,3,4,4,0,1,4,1,5,4,3,4,3,3,4,5,2,4,3,3,3,5,4,3,2,1,4,0,1,3,3,1,2,4,3,2,3,3,1,3,2,4,3,0,1,3,3,3,5,4,6,1,3,1,4,5,3,3,3,5,1,1,5,4,2,4,3,0,2,5,3,3,2,4,4,3,4,5,3,5,3,1,2,3,4,2,4,5,5,4,4,1,3,1,2,3,5,4,1,3,3,1,3,2,5,4,3,1,2,2,6,4,1,1,4,3,1,3,6,0,3,3,1,1,1,3,4,0,4,3,3,3,3,1,5,4,6,4,3,4,1,3,5,5,5,3,4,3,4,3,3,3,1,1,3],\"coloraxis\":\"coloraxis\",\"symbol\":\"circle\"},\"mode\":\"markers\",\"name\":\"\",\"orientation\":\"v\",\"showlegend\":false,\"x\":[-49.331640709201636,9.164080967495916,43.35543475370021,-33.329574111255425,60.92326235735188,-55.963830630317545,-33.75076835478657,-41.07852255534127,20.854633441771636,50.33389652926759,-43.021081627077464,-24.729456375104377,37.100345451450735,23.1296713892601,-17.684052634975835,42.7825740932116,-41.02979172447052,5.349120142378669,37.133294491123216,-38.8230088991301,-1.614042534035744,-34.347747386479085,-55.57020270537442,-19.52356948562313,-48.90719105702278,36.275462777883476,-48.03766591715005,-31.541793539227477,12.047027388423462,-29.492820996198923,-17.811655812764972,35.03290856262912,-32.69804670805421,60.52631856457141,-39.13189213356384,-25.544211701755366,-27.908311878497972,-44.689807788709885,64.55748989843005,9.13061471883346,-37.41361310849882,25.578037748865544,9.909963163966518,-22.97376216816279,-1.0152221782960287,-28.71657286065744,0.9163308408582034,-13.688584955560762,-29.28186973687044,34.06236397797539,12.930464401526274,-24.827624517790163,-11.631404962434171,-2.1276351771476505,15.12958373111332,-23.401572933285962,-43.218688596594866,-32.574551092803496,-34.23136802050862,-42.20562396921806,122.53875698867282,-45.616557363741464,19.80489994138581,-29.273791743113485,-7.12692365381944,93.29941298581204,105.11002055621506,0.5766786944322824,-43.29282605826708,19.425661467409192,-40.01665146511847,-22.399493160128284,23.801168706345152,-38.68610120740653,57.13194344213867,-34.98810793477753,-23.28592321477569,46.76040290976745,-0.4420038216706986,-33.01340643590455,-39.26797182345194,-47.422598067227156,-18.313695251780317,-40.073107159349995,-38.806059277245886,-26.364953771216452,-29.566371665610266,-42.36507236659485,93.40122268672309,-29.0091325217939,-34.28736862910048,-15.332189014946286,-43.49172152565691,73.70944680551062,49.7673585638596,38.819032382480906,-23.476335198945907,14.396691611347045,19.675269484544394,-37.4594127180937,119.80558981324783,-13.498355661090065,48.696866127249756,-34.150487071304596,-33.465195174961096,-22.071163185458627,-37.02170278969728,87.63658880273763,14.427349414756414,-44.370437619116416,-47.04987039111245,-37.1601842053886,13.403139691041039,-16.985354830430946,-49.999048862131325,13.210142657413144,-34.62784303513178,35.36765687448866,82.23090361442229,-21.90133597276593,88.59259033355255,-57.227032187470634,-55.358286672799636,-27.983936236648656,13.71110554662668,74.12809574073627,-2.0385159278132035,28.53838971956485,-54.10124998753755,-21.734957451711345,112.67815303262913,-17.961357193405533,103.28489474903525,76.90749643021994,-39.845597258508874,-43.89011898705003,14.400416019825244,-32.3980900935816,-52.74876958541867,-20.473372640090474,-2.155706511504023,-57.64726108309147,15.588943288488878,-3.5929592845021228,4.330627903743571,-29.55543882024349,179.58169740119112,-19.15346985797309,-32.99130575532921,117.9036442091419,54.26729836367177,-30.74825866658814,113.8193548899087,-17.70910691596511,-50.54510600395793,11.86669541095674,-50.45289541820192,-16.523424253896923,-48.06158859665512,-45.486399424960815,-32.85069368159857,-12.727839674431527,49.91781003915081,67.45797632050716,80.2040726153481,-42.89870993165105,68.11578966804764,179.17413714662678,52.5488391527753,-3.593118907915073,22.03320850526483,-4.3701032407344185,105.46387277030873,-2.4877107357014316,-46.15290984987528,-29.199370175662413,33.04683179613048,-36.69097077248602,17.355767753288102,-54.15141074982468,-14.655550311278787,92.03914592089134,-24.569723696496055,-41.30718491874284,-34.335840109273136,-36.335779115370094,36.729274392122555,70.64012945590817,-49.21857042565553,24.40241509679386,-46.51291820049291,-43.182413084981164,14.58926954388823,-52.939899549628734,25.268897345879054,-29.433810705323058,30.63687427316807,-17.041127036440297,-0.9271796154376258,26.071776246699624],\"xaxis\":\"x\",\"y\":[14.342142955009725,-21.520750232721145,43.34537230483054,-4.866719486167135,-35.86342733695324,11.175231383838947,-1.35241748838271,0.43742456126599144,-12.894553347523951,-32.929057184686314,1.9456988976047511,39.077858973049956,-10.716826506917949,26.1238583486148,26.213371322289692,-18.960574534081868,2.9521068863854913,17.466905128644523,127.62848830438709,0.28804153604764543,3.6021720201280063,5.9305191178906025,11.376297814745607,-14.221193999054561,6.1399094167981065,-36.47119338015273,7.985318856357069,-2.0181466140415636,-0.4865299885581716,22.340674843923836,2.124124314108186,-42.20829873083989,17.915667079996915,0.40925003623796435,19.1248354242421,25.307702806888866,-1.003230469322616,14.555982695903404,-0.6927272876300707,-19.375691689221032,0.13184547795860121,-31.087436533523185,-21.68255325149173,48.383668079592596,-21.07471248106441,2.528907900925202,-17.565051270627503,-7.901117555745739,25.126818086886477,-32.34963568237591,-11.306118618490707,13.929191768443136,63.94332489790316,-18.14395834336221,-24.19642578988313,-12.60085423217732,17.150713471097546,-1.9073540578488448,-0.41348607943042176,1.4730059179463617,-34.33353028566281,17.04979751544007,-0.9036994455515891,-5.005314782098665,-18.342441301252904,-74.3327272892889,-59.31400183477708,-20.007721687710006,1.1037053788729736,27.842732934301527,26.07594266458139,13.273944124606759,-30.124670949187582,27.31654960679742,12.254724267347475,-2.0772118809266202,-9.68256146637773,33.80841504076607,-21.708503108513046,0.19171883373732315,-1.4483820414241233,2.7159256453386176,-11.07564717255537,28.144154928153405,-0.22447222441909098,-3.909904027526303,-8.384743342962102,1.8611114353076028,-64.18331654680024,1.4787898560723955,19.756036539183413,-10.224710744221357,2.5318659924636915,-49.133984397626975,-48.42301616807281,-42.82159256602833,52.32132176700321,-18.760128635367085,-21.766926216243395,16.820843005574876,-34.57222653585782,-7.9386854276117065,-30.514689070469007,-2.56627298067002,15.741522295896708,46.69702267343405,32.655934332719056,-52.90144427222862,-8.033336974374405,3.194724787770076,12.167041864409061,1.0923435824888732,-18.017505136568232,-9.345093083482734,8.297921011510633,-20.67397774984926,3.644469806466434,-39.65069529765434,-57.3310363599803,0.49448312395136423,-78.50689564552508,10.077927441147116,8.643986871953052,-5.643955150804665,9.121595172238262,-29.463436152934182,-21.2818139026911,-32.45269706372463,11.199920041576634,-6.731387020191405,-45.230619048022184,-5.949339099556049,-48.8567001827568,-34.20948901597885,-1.0744990080176668,6.244989447209996,-9.402629574102551,-0.15972022018474474,13.77996884949909,5.303005876317638,13.206772078925397,10.040637332572091,32.30143291393728,-6.105431518293277,-16.73149078757764,-7.696891194745308,301.90292956723397,-10.667823574259756,-3.136903636623551,-29.041754651414585,15.312441081944394,-4.838995503688166,218.5489621313582,23.948968472224973,13.914383948746114,-30.099375233059945,6.117721590925389,-6.00967888753037,19.203254624577603,13.011382403858605,-7.295215547255871,-16.78923464075072,-52.15273069221004,-62.08087174266195,-65.97310512359175,1.6957878319594224,-56.071948270617696,315.831302256953,113.24800504084814,-21.05079927518985,-32.838406478664304,-20.57731186654162,-66.64275859605667,-18.22982703276179,2.139879748275589,0.6547894729723641,-17.74046339922906,-1.4681044985190241,0.9485892144394615,12.772498538576201,3.424275052019102,-75.27399183422497,13.93583330562164,2.625985547857686,-3.3092565152029785,25.53497173277464,-27.95420269007655,-48.70635669353458,20.86856999158768,31.079693524222836,5.748085974283793,6.454404734602604,-15.882340478680087,17.719238601256976,4.3162980064764085,-4.462627782581362,-40.99328700580021,-13.969078337737393,79.35228124738788,-22.942585563310768],\"yaxis\":\"y\",\"type\":\"scatter\"}],                        {\"template\":{\"data\":{\"histogram2dcontour\":[{\"type\":\"histogram2dcontour\",\"colorbar\":{\"outlinewidth\":0,\"ticks\":\"\"},\"colorscale\":[[0.0,\"#0d0887\"],[0.1111111111111111,\"#46039f\"],[0.2222222222222222,\"#7201a8\"],[0.3333333333333333,\"#9c179e\"],[0.4444444444444444,\"#bd3786\"],[0.5555555555555556,\"#d8576b\"],[0.6666666666666666,\"#ed7953\"],[0.7777777777777778,\"#fb9f3a\"],[0.8888888888888888,\"#fdca26\"],[1.0,\"#f0f921\"]]}],\"choropleth\":[{\"type\":\"choropleth\",\"colorbar\":{\"outlinewidth\":0,\"ticks\":\"\"}}],\"histogram2d\":[{\"type\":\"histogram2d\",\"colorbar\":{\"outlinewidth\":0,\"ticks\":\"\"},\"colorscale\":[[0.0,\"#0d0887\"],[0.1111111111111111,\"#46039f\"],[0.2222222222222222,\"#7201a8\"],[0.3333333333333333,\"#9c179e\"],[0.4444444444444444,\"#bd3786\"],[0.5555555555555556,\"#d8576b\"],[0.6666666666666666,\"#ed7953\"],[0.7777777777777778,\"#fb9f3a\"],[0.8888888888888888,\"#fdca26\"],[1.0,\"#f0f921\"]]}],\"heatmap\":[{\"type\":\"heatmap\",\"colorbar\":{\"outlinewidth\":0,\"ticks\":\"\"},\"colorscale\":[[0.0,\"#0d0887\"],[0.1111111111111111,\"#46039f\"],[0.2222222222222222,\"#7201a8\"],[0.3333333333333333,\"#9c179e\"],[0.4444444444444444,\"#bd3786\"],[0.5555555555555556,\"#d8576b\"],[0.6666666666666666,\"#ed7953\"],[0.7777777777777778,\"#fb9f3a\"],[0.8888888888888888,\"#fdca26\"],[1.0,\"#f0f921\"]]}],\"heatmapgl\":[{\"type\":\"heatmapgl\",\"colorbar\":{\"outlinewidth\":0,\"ticks\":\"\"},\"colorscale\":[[0.0,\"#0d0887\"],[0.1111111111111111,\"#46039f\"],[0.2222222222222222,\"#7201a8\"],[0.3333333333333333,\"#9c179e\"],[0.4444444444444444,\"#bd3786\"],[0.5555555555555556,\"#d8576b\"],[0.6666666666666666,\"#ed7953\"],[0.7777777777777778,\"#fb9f3a\"],[0.8888888888888888,\"#fdca26\"],[1.0,\"#f0f921\"]]}],\"contourcarpet\":[{\"type\":\"contourcarpet\",\"colorbar\":{\"outlinewidth\":0,\"ticks\":\"\"}}],\"contour\":[{\"type\":\"contour\",\"colorbar\":{\"outlinewidth\":0,\"ticks\":\"\"},\"colorscale\":[[0.0,\"#0d0887\"],[0.1111111111111111,\"#46039f\"],[0.2222222222222222,\"#7201a8\"],[0.3333333333333333,\"#9c179e\"],[0.4444444444444444,\"#bd3786\"],[0.5555555555555556,\"#d8576b\"],[0.6666666666666666,\"#ed7953\"],[0.7777777777777778,\"#fb9f3a\"],[0.8888888888888888,\"#fdca26\"],[1.0,\"#f0f921\"]]}],\"surface\":[{\"type\":\"surface\",\"colorbar\":{\"outlinewidth\":0,\"ticks\":\"\"},\"colorscale\":[[0.0,\"#0d0887\"],[0.1111111111111111,\"#46039f\"],[0.2222222222222222,\"#7201a8\"],[0.3333333333333333,\"#9c179e\"],[0.4444444444444444,\"#bd3786\"],[0.5555555555555556,\"#d8576b\"],[0.6666666666666666,\"#ed7953\"],[0.7777777777777778,\"#fb9f3a\"],[0.8888888888888888,\"#fdca26\"],[1.0,\"#f0f921\"]]}],\"mesh3d\":[{\"type\":\"mesh3d\",\"colorbar\":{\"outlinewidth\":0,\"ticks\":\"\"}}],\"scatter\":[{\"fillpattern\":{\"fillmode\":\"overlay\",\"size\":10,\"solidity\":0.2},\"type\":\"scatter\"}],\"parcoords\":[{\"type\":\"parcoords\",\"line\":{\"colorbar\":{\"outlinewidth\":0,\"ticks\":\"\"}}}],\"scatterpolargl\":[{\"type\":\"scatterpolargl\",\"marker\":{\"colorbar\":{\"outlinewidth\":0,\"ticks\":\"\"}}}],\"bar\":[{\"error_x\":{\"color\":\"#2a3f5f\"},\"error_y\":{\"color\":\"#2a3f5f\"},\"marker\":{\"line\":{\"color\":\"#E5ECF6\",\"width\":0.5},\"pattern\":{\"fillmode\":\"overlay\",\"size\":10,\"solidity\":0.2}},\"type\":\"bar\"}],\"scattergeo\":[{\"type\":\"scattergeo\",\"marker\":{\"colorbar\":{\"outlinewidth\":0,\"ticks\":\"\"}}}],\"scatterpolar\":[{\"type\":\"scatterpolar\",\"marker\":{\"colorbar\":{\"outlinewidth\":0,\"ticks\":\"\"}}}],\"histogram\":[{\"marker\":{\"pattern\":{\"fillmode\":\"overlay\",\"size\":10,\"solidity\":0.2}},\"type\":\"histogram\"}],\"scattergl\":[{\"type\":\"scattergl\",\"marker\":{\"colorbar\":{\"outlinewidth\":0,\"ticks\":\"\"}}}],\"scatter3d\":[{\"type\":\"scatter3d\",\"line\":{\"colorbar\":{\"outlinewidth\":0,\"ticks\":\"\"}},\"marker\":{\"colorbar\":{\"outlinewidth\":0,\"ticks\":\"\"}}}],\"scattermapbox\":[{\"type\":\"scattermapbox\",\"marker\":{\"colorbar\":{\"outlinewidth\":0,\"ticks\":\"\"}}}],\"scatterternary\":[{\"type\":\"scatterternary\",\"marker\":{\"colorbar\":{\"outlinewidth\":0,\"ticks\":\"\"}}}],\"scattercarpet\":[{\"type\":\"scattercarpet\",\"marker\":{\"colorbar\":{\"outlinewidth\":0,\"ticks\":\"\"}}}],\"carpet\":[{\"aaxis\":{\"endlinecolor\":\"#2a3f5f\",\"gridcolor\":\"white\",\"linecolor\":\"white\",\"minorgridcolor\":\"white\",\"startlinecolor\":\"#2a3f5f\"},\"baxis\":{\"endlinecolor\":\"#2a3f5f\",\"gridcolor\":\"white\",\"linecolor\":\"white\",\"minorgridcolor\":\"white\",\"startlinecolor\":\"#2a3f5f\"},\"type\":\"carpet\"}],\"table\":[{\"cells\":{\"fill\":{\"color\":\"#EBF0F8\"},\"line\":{\"color\":\"white\"}},\"header\":{\"fill\":{\"color\":\"#C8D4E3\"},\"line\":{\"color\":\"white\"}},\"type\":\"table\"}],\"barpolar\":[{\"marker\":{\"line\":{\"color\":\"#E5ECF6\",\"width\":0.5},\"pattern\":{\"fillmode\":\"overlay\",\"size\":10,\"solidity\":0.2}},\"type\":\"barpolar\"}],\"pie\":[{\"automargin\":true,\"type\":\"pie\"}]},\"layout\":{\"autotypenumbers\":\"strict\",\"colorway\":[\"#636efa\",\"#EF553B\",\"#00cc96\",\"#ab63fa\",\"#FFA15A\",\"#19d3f3\",\"#FF6692\",\"#B6E880\",\"#FF97FF\",\"#FECB52\"],\"font\":{\"color\":\"#2a3f5f\"},\"hovermode\":\"closest\",\"hoverlabel\":{\"align\":\"left\"},\"paper_bgcolor\":\"white\",\"plot_bgcolor\":\"#E5ECF6\",\"polar\":{\"bgcolor\":\"#E5ECF6\",\"angularaxis\":{\"gridcolor\":\"white\",\"linecolor\":\"white\",\"ticks\":\"\"},\"radialaxis\":{\"gridcolor\":\"white\",\"linecolor\":\"white\",\"ticks\":\"\"}},\"ternary\":{\"bgcolor\":\"#E5ECF6\",\"aaxis\":{\"gridcolor\":\"white\",\"linecolor\":\"white\",\"ticks\":\"\"},\"baxis\":{\"gridcolor\":\"white\",\"linecolor\":\"white\",\"ticks\":\"\"},\"caxis\":{\"gridcolor\":\"white\",\"linecolor\":\"white\",\"ticks\":\"\"}},\"coloraxis\":{\"colorbar\":{\"outlinewidth\":0,\"ticks\":\"\"}},\"colorscale\":{\"sequential\":[[0.0,\"#0d0887\"],[0.1111111111111111,\"#46039f\"],[0.2222222222222222,\"#7201a8\"],[0.3333333333333333,\"#9c179e\"],[0.4444444444444444,\"#bd3786\"],[0.5555555555555556,\"#d8576b\"],[0.6666666666666666,\"#ed7953\"],[0.7777777777777778,\"#fb9f3a\"],[0.8888888888888888,\"#fdca26\"],[1.0,\"#f0f921\"]],\"sequentialminus\":[[0.0,\"#0d0887\"],[0.1111111111111111,\"#46039f\"],[0.2222222222222222,\"#7201a8\"],[0.3333333333333333,\"#9c179e\"],[0.4444444444444444,\"#bd3786\"],[0.5555555555555556,\"#d8576b\"],[0.6666666666666666,\"#ed7953\"],[0.7777777777777778,\"#fb9f3a\"],[0.8888888888888888,\"#fdca26\"],[1.0,\"#f0f921\"]],\"diverging\":[[0,\"#8e0152\"],[0.1,\"#c51b7d\"],[0.2,\"#de77ae\"],[0.3,\"#f1b6da\"],[0.4,\"#fde0ef\"],[0.5,\"#f7f7f7\"],[0.6,\"#e6f5d0\"],[0.7,\"#b8e186\"],[0.8,\"#7fbc41\"],[0.9,\"#4d9221\"],[1,\"#276419\"]]},\"xaxis\":{\"gridcolor\":\"white\",\"linecolor\":\"white\",\"ticks\":\"\",\"title\":{\"standoff\":15},\"zerolinecolor\":\"white\",\"automargin\":true,\"zerolinewidth\":2},\"yaxis\":{\"gridcolor\":\"white\",\"linecolor\":\"white\",\"ticks\":\"\",\"title\":{\"standoff\":15},\"zerolinecolor\":\"white\",\"automargin\":true,\"zerolinewidth\":2},\"scene\":{\"xaxis\":{\"backgroundcolor\":\"#E5ECF6\",\"gridcolor\":\"white\",\"linecolor\":\"white\",\"showbackground\":true,\"ticks\":\"\",\"zerolinecolor\":\"white\",\"gridwidth\":2},\"yaxis\":{\"backgroundcolor\":\"#E5ECF6\",\"gridcolor\":\"white\",\"linecolor\":\"white\",\"showbackground\":true,\"ticks\":\"\",\"zerolinecolor\":\"white\",\"gridwidth\":2},\"zaxis\":{\"backgroundcolor\":\"#E5ECF6\",\"gridcolor\":\"white\",\"linecolor\":\"white\",\"showbackground\":true,\"ticks\":\"\",\"zerolinecolor\":\"white\",\"gridwidth\":2}},\"shapedefaults\":{\"line\":{\"color\":\"#2a3f5f\"}},\"annotationdefaults\":{\"arrowcolor\":\"#2a3f5f\",\"arrowhead\":0,\"arrowwidth\":1},\"geo\":{\"bgcolor\":\"white\",\"landcolor\":\"#E5ECF6\",\"subunitcolor\":\"white\",\"showland\":true,\"showlakes\":true,\"lakecolor\":\"white\"},\"title\":{\"x\":0.05},\"mapbox\":{\"style\":\"light\"}}},\"xaxis\":{\"anchor\":\"y\",\"domain\":[0.0,1.0],\"title\":{\"text\":\"pc1\"}},\"yaxis\":{\"anchor\":\"x\",\"domain\":[0.0,1.0],\"title\":{\"text\":\"pc2\"}},\"coloraxis\":{\"colorbar\":{\"title\":{\"text\":\"clima\"}},\"colorscale\":[[0.0,\"#0d0887\"],[0.1111111111111111,\"#46039f\"],[0.2222222222222222,\"#7201a8\"],[0.3333333333333333,\"#9c179e\"],[0.4444444444444444,\"#bd3786\"],[0.5555555555555556,\"#d8576b\"],[0.6666666666666666,\"#ed7953\"],[0.7777777777777778,\"#fb9f3a\"],[0.8888888888888888,\"#fdca26\"],[1.0,\"#f0f921\"]]},\"legend\":{\"tracegroupgap\":0},\"margin\":{\"t\":60},\"autosize\":false,\"width\":800,\"height\":800},                        {\"responsive\": true}                    ).then(function(){\n",
              "                            \n",
              "var gd = document.getElementById('09f8f0ab-5f61-4fda-a6dc-2d0fd72ba5f2');\n",
              "var x = new MutationObserver(function (mutations, observer) {{\n",
              "        var display = window.getComputedStyle(gd).display;\n",
              "        if (!display || display === 'none') {{\n",
              "            console.log([gd, 'removed!']);\n",
              "            Plotly.purge(gd);\n",
              "            observer.disconnect();\n",
              "        }}\n",
              "}});\n",
              "\n",
              "// Listen for the removal of the full notebook cells\n",
              "var notebookContainer = gd.closest('#notebook-container');\n",
              "if (notebookContainer) {{\n",
              "    x.observe(notebookContainer, {childList: true});\n",
              "}}\n",
              "\n",
              "// Listen for the clearing of the current output cell\n",
              "var outputEl = gd.closest('.output');\n",
              "if (outputEl) {{\n",
              "    x.observe(outputEl, {childList: true});\n",
              "}}\n",
              "\n",
              "                        })                };                            </script>        </div>\n",
              "</body>\n",
              "</html>"
            ]
          },
          "metadata": {}
        }
      ],
      "source": [
        "# Grafica interactiva\n",
        "fig = px.scatter(pca_proj, x='pc1', y='pc2', hover_data=['clima'], color = 'clima')\n",
        "fig.update_layout(autosize=False,width=800,height=800,)\n",
        "fig.show()"
      ]
    },
    {
      "cell_type": "code",
      "execution_count": 30,
      "metadata": {
        "id": "GeVUAlOFljtU"
      },
      "outputs": [],
      "source": [
        "X_test_std = scaler.fit_transform(X_test)\n",
        "X_test_pca = otus_pca.transform(X_test_std)"
      ]
    },
    {
      "cell_type": "code",
      "execution_count": 31,
      "metadata": {
        "colab": {
          "base_uri": "https://localhost:8080/"
        },
        "id": "AVtLwyGWljtV",
        "outputId": "118ee4a8-d718-491f-8cb0-b3d4e02beda0"
      },
      "outputs": [
        {
          "output_type": "stream",
          "name": "stdout",
          "text": [
            "Accuracy of logistic regression classifier on test set: 0.47\n"
          ]
        }
      ],
      "source": [
        "logreg2 = LogisticRegression(solver='newton-cg')\n",
        "logreg2.fit(X_train_pca, y_train)\n",
        "\n",
        "y_pred2 = logreg2.predict(X_test_pca)\n",
        "print('Accuracy of logistic regression classifier on test set: {:.2f}'.format(logreg2.score(X_test_pca, y_test)))"
      ]
    },
    {
      "cell_type": "code",
      "execution_count": 32,
      "metadata": {
        "colab": {
          "base_uri": "https://localhost:8080/",
          "height": 624
        },
        "id": "y0NZhkJ-ljtV",
        "outputId": "a6522933-0857-4029-9f08-09121cd8077c"
      },
      "outputs": [
        {
          "output_type": "display_data",
          "data": {
            "text/plain": [
              "<Figure size 700x700 with 2 Axes>"
            ],
            "image/png": "[encoded data removed]"
          },
          "metadata": {}
        }
      ],
      "source": [
        "cm = metrics.confusion_matrix(y_test,y_pred2)\n",
        "disp1 = metrics.ConfusionMatrixDisplay(cm, display_labels=np.arange(len(le.classes_)))\n",
        "fig, ax = plt.subplots(figsize=(7,7))\n",
        "\n",
        "disp1.plot(ax=ax, colorbar=False)\n",
        "# Adding custom colorbar\n",
        "cax = fig.add_axes([ax.get_position().x1+0.01,ax.get_position().y0,0.02,ax.get_position().height])\n",
        "plt.colorbar(disp1.im_,  cax=cax);"
      ]
    },
    {
      "cell_type": "code",
      "execution_count": 33,
      "metadata": {
        "colab": {
          "base_uri": "https://localhost:8080/"
        },
        "id": "G3YkVexjljtV",
        "outputId": "9d065e69-4cd3-445c-bb9f-2ca334240d1e"
      },
      "outputs": [
        {
          "output_type": "stream",
          "name": "stdout",
          "text": [
            "              precision    recall  f1-score   support\n",
            "\n",
            "           0       1.00      0.33      0.50         6\n",
            "           1       0.33      0.60      0.43        10\n",
            "           2       0.00      0.00      0.00         7\n",
            "           3       0.52      0.71      0.60        35\n",
            "           4       0.23      0.17      0.19        18\n",
            "           5       0.75      0.38      0.50         8\n",
            "           6       1.00      0.50      0.67         2\n",
            "\n",
            "    accuracy                           0.47        86\n",
            "   macro avg       0.55      0.38      0.41        86\n",
            "weighted avg       0.46      0.47      0.43        86\n",
            "\n"
          ]
        },
        {
          "output_type": "stream",
          "name": "stderr",
          "text": [
            "/usr/local/lib/python3.10/dist-packages/sklearn/metrics/_classification.py:1344: UndefinedMetricWarning:\n",
            "\n",
            "Precision and F-score are ill-defined and being set to 0.0 in labels with no predicted samples. Use `zero_division` parameter to control this behavior.\n",
            "\n",
            "/usr/local/lib/python3.10/dist-packages/sklearn/metrics/_classification.py:1344: UndefinedMetricWarning:\n",
            "\n",
            "Precision and F-score are ill-defined and being set to 0.0 in labels with no predicted samples. Use `zero_division` parameter to control this behavior.\n",
            "\n",
            "/usr/local/lib/python3.10/dist-packages/sklearn/metrics/_classification.py:1344: UndefinedMetricWarning:\n",
            "\n",
            "Precision and F-score are ill-defined and being set to 0.0 in labels with no predicted samples. Use `zero_division` parameter to control this behavior.\n",
            "\n"
          ]
        }
      ],
      "source": [
        "print(metrics.classification_report(y_test, y_pred2))"
      ]
    },
    {
      "cell_type": "markdown",
      "source": [
        "# Notebook 3"
      ],
      "metadata": {
        "id": "frYXmX6Wz5VZ"
      }
    },
    {
      "cell_type": "code",
      "source": [],
      "metadata": {
        "id": "lkFuKI8Ez7id"
      },
      "execution_count": null,
      "outputs": []
    },
    {
      "cell_type": "code",
      "source": [
        "from mpl_toolkits.axes_grid1 import make_axes_locatable\n",
        "import pandas as pd \n",
        "import numpy as np\n",
        "import matplotlib.pyplot as plt\n",
        "import seaborn as sns\n",
        "\n",
        "otus = pd.read_csv(\"camda_relative.csv\", index_col=\"ID\")\n",
        "\n",
        "cont_names = list(otus.drop([\"ID_city\",\"City\",\"Climate\",\"Latitude\", \"Longitude\", \"Year\"], axis=1).columns)\n",
        "y_names = [\"Climate\"]\n",
        "otus_df = otus[cont_names+y_names]\n",
        "otus_df"
      ],
      "metadata": {
        "id": "2Rwl00pgR3Ki",
        "colab": {
          "base_uri": "https://localhost:8080/",
          "height": 519
        },
        "outputId": "ebfacb40-c64f-4854-a3e7-cfad8aea222b"
      },
      "execution_count": 34,
      "outputs": [
        {
          "output_type": "execute_result",
          "data": {
            "text/plain": [
              "                                    468        469      28090   2708348  \\\n",
              "ID                                                                        \n",
              "CAMDA23_MetaSUB_gCSD16_AKL_10  0.048249  10.696605  14.560432  1.407184   \n",
              "CAMDA23_MetaSUB_gCSD16_AKL_11  0.038155   0.527739   0.041985  0.006187   \n",
              "CAMDA23_MetaSUB_gCSD16_AKL_12  0.002185   0.234138   0.051282  0.004188   \n",
              "CAMDA23_MetaSUB_gCSD16_AKL_13  0.000142   0.014304   0.010763  0.001360   \n",
              "CAMDA23_MetaSUB_gCSD16_AKL_14  0.002103   0.061997   0.079509  0.003771   \n",
              "...                                 ...        ...        ...       ...   \n",
              "CAMDA23_MetaSUB_gCSD17_ZRH_5   0.005680   0.120175   0.057822  0.004221   \n",
              "CAMDA23_MetaSUB_gCSD17_ZRH_6   0.004338   0.293497   0.147385  0.007505   \n",
              "CAMDA23_MetaSUB_gCSD17_ZRH_7   0.004828   0.345558   0.146226  0.007608   \n",
              "CAMDA23_MetaSUB_gCSD17_ZRH_8   0.011375   0.585461   0.214900  0.008900   \n",
              "CAMDA23_MetaSUB_gCSD17_ZRH_9   0.002781   0.206718   0.095700  0.003464   \n",
              "\n",
              "                                2853158   2725684   2563897   1879049  \\\n",
              "ID                                                                      \n",
              "CAMDA23_MetaSUB_gCSD16_AKL_10  0.881451  0.459366  0.092738  0.084259   \n",
              "CAMDA23_MetaSUB_gCSD16_AKL_11  0.004125  0.001817  0.037517  0.043557   \n",
              "CAMDA23_MetaSUB_gCSD16_AKL_12  0.001881  0.001335  0.001578  0.004188   \n",
              "CAMDA23_MetaSUB_gCSD16_AKL_13  0.000510  0.000227  0.000340  0.000283   \n",
              "CAMDA23_MetaSUB_gCSD16_AKL_14  0.000653  0.001704  0.000544  0.000725   \n",
              "...                                 ...       ...       ...       ...   \n",
              "CAMDA23_MetaSUB_gCSD17_ZRH_5   0.000714  0.002452  0.002111  0.001148   \n",
              "CAMDA23_MetaSUB_gCSD17_ZRH_6   0.000930  0.007092  0.001653  0.001825   \n",
              "CAMDA23_MetaSUB_gCSD17_ZRH_7   0.001244  0.004535  0.001609  0.001463   \n",
              "CAMDA23_MetaSUB_gCSD17_ZRH_8   0.002058  0.010068  0.003143  0.002169   \n",
              "CAMDA23_MetaSUB_gCSD17_ZRH_9   0.001273  0.004053  0.000848  0.000566   \n",
              "\n",
              "                                2773709   2079596  ...   1519389     12480  \\\n",
              "ID                                                 ...                       \n",
              "CAMDA23_MetaSUB_gCSD16_AKL_10  0.049634  0.043755  ...  0.000000  0.000000   \n",
              "CAMDA23_MetaSUB_gCSD16_AKL_11  0.017383  0.002701  ...  0.000000  0.000000   \n",
              "CAMDA23_MetaSUB_gCSD16_AKL_12  0.000971  0.000668  ...  0.000000  0.000000   \n",
              "CAMDA23_MetaSUB_gCSD16_AKL_13  0.000340  0.000028  ...  0.000000  0.000000   \n",
              "CAMDA23_MetaSUB_gCSD16_AKL_14  0.000109  0.000036  ...  0.000000  0.000000   \n",
              "...                                 ...       ...  ...       ...       ...   \n",
              "CAMDA23_MetaSUB_gCSD17_ZRH_5   0.000776  0.000310  ...  0.000000  0.000000   \n",
              "CAMDA23_MetaSUB_gCSD17_ZRH_6   0.000930  0.000654  ...  0.000000  0.000000   \n",
              "CAMDA23_MetaSUB_gCSD17_ZRH_7   0.000585  0.001097  ...  0.000073  0.000073   \n",
              "CAMDA23_MetaSUB_gCSD17_ZRH_8   0.001780  0.001335  ...  0.000000  0.000000   \n",
              "CAMDA23_MetaSUB_gCSD17_ZRH_9   0.000424  0.000424  ...  0.000000  0.000000   \n",
              "\n",
              "                                   1131   2886895    546184     12330  \\\n",
              "ID                                                                      \n",
              "CAMDA23_MetaSUB_gCSD16_AKL_10  0.000000  0.000000  0.000000  0.000000   \n",
              "CAMDA23_MetaSUB_gCSD16_AKL_11  0.000000  0.000000  0.000000  0.000000   \n",
              "CAMDA23_MetaSUB_gCSD16_AKL_12  0.000000  0.000000  0.000000  0.000000   \n",
              "CAMDA23_MetaSUB_gCSD16_AKL_13  0.000000  0.000000  0.000000  0.000000   \n",
              "CAMDA23_MetaSUB_gCSD16_AKL_14  0.000000  0.000000  0.000000  0.000000   \n",
              "...                                 ...       ...       ...       ...   \n",
              "CAMDA23_MetaSUB_gCSD17_ZRH_5   0.000000  0.000000  0.000000  0.000000   \n",
              "CAMDA23_MetaSUB_gCSD17_ZRH_6   0.000000  0.000000  0.000000  0.000000   \n",
              "CAMDA23_MetaSUB_gCSD17_ZRH_7   0.000000  0.000000  0.000000  0.000000   \n",
              "CAMDA23_MetaSUB_gCSD17_ZRH_8   0.000028  0.000028  0.000028  0.000028   \n",
              "CAMDA23_MetaSUB_gCSD17_ZRH_9   0.000000  0.000000  0.000000  0.000000   \n",
              "\n",
              "                                1922682   1513254   1922952  Climate  \n",
              "ID                                                                    \n",
              "CAMDA23_MetaSUB_gCSD16_AKL_10  0.000000  0.000000  0.000000      Cfb  \n",
              "CAMDA23_MetaSUB_gCSD16_AKL_11  0.000000  0.000000  0.000000      Cfb  \n",
              "CAMDA23_MetaSUB_gCSD16_AKL_12  0.000000  0.000000  0.000000      Cfb  \n",
              "CAMDA23_MetaSUB_gCSD16_AKL_13  0.000000  0.000000  0.000000      Cfb  \n",
              "CAMDA23_MetaSUB_gCSD16_AKL_14  0.000000  0.000000  0.000000      Cfb  \n",
              "...                                 ...       ...       ...      ...  \n",
              "CAMDA23_MetaSUB_gCSD17_ZRH_5   0.000000  0.000000  0.000000      Cfb  \n",
              "CAMDA23_MetaSUB_gCSD17_ZRH_6   0.000000  0.000000  0.000000      Cfb  \n",
              "CAMDA23_MetaSUB_gCSD17_ZRH_7   0.000000  0.000000  0.000000      Cfb  \n",
              "CAMDA23_MetaSUB_gCSD17_ZRH_8   0.000028  0.000000  0.000000      Cfb  \n",
              "CAMDA23_MetaSUB_gCSD17_ZRH_9   0.000000  0.000024  0.000024      Cfb  \n",
              "\n",
              "[286 rows x 18290 columns]"
            ],
            "text/html": [
              "\n",
              "  <div id=\"df-5f61509f-c723-45a8-8b28-a71e4695ca87\">\n",
              "    <div class=\"colab-df-container\">\n",
              "      <div>\n",
              "<style scoped>\n",
              "    .dataframe tbody tr th:only-of-type {\n",
              "        vertical-align: middle;\n",
              "    }\n",
              "\n",
              "    .dataframe tbody tr th {\n",
              "        vertical-align: top;\n",
              "    }\n",
              "\n",
              "    .dataframe thead th {\n",
              "        text-align: right;\n",
              "    }\n",
              "</style>\n",
              "<table border=\"1\" class=\"dataframe\">\n",
              "  <thead>\n",
              "    <tr style=\"text-align: right;\">\n",
              "      <th></th>\n",
              "      <th>468</th>\n",
              "      <th>469</th>\n",
              "      <th>28090</th>\n",
              "      <th>2708348</th>\n",
              "      <th>2853158</th>\n",
              "      <th>2725684</th>\n",
              "      <th>2563897</th>\n",
              "      <th>1879049</th>\n",
              "      <th>2773709</th>\n",
              "      <th>2079596</th>\n",
              "      <th>...</th>\n",
              "      <th>1519389</th>\n",
              "      <th>12480</th>\n",
              "      <th>1131</th>\n",
              "      <th>2886895</th>\n",
              "      <th>546184</th>\n",
              "      <th>12330</th>\n",
              "      <th>1922682</th>\n",
              "      <th>1513254</th>\n",
              "      <th>1922952</th>\n",
              "      <th>Climate</th>\n",
              "    </tr>\n",
              "    <tr>\n",
              "      <th>ID</th>\n",
              "      <th></th>\n",
              "      <th></th>\n",
              "      <th></th>\n",
              "      <th></th>\n",
              "      <th></th>\n",
              "      <th></th>\n",
              "      <th></th>\n",
              "      <th></th>\n",
              "      <th></th>\n",
              "      <th></th>\n",
              "      <th></th>\n",
              "      <th></th>\n",
              "      <th></th>\n",
              "      <th></th>\n",
              "      <th></th>\n",
              "      <th></th>\n",
              "      <th></th>\n",
              "      <th></th>\n",
              "      <th></th>\n",
              "      <th></th>\n",
              "      <th></th>\n",
              "    </tr>\n",
              "  </thead>\n",
              "  <tbody>\n",
              "    <tr>\n",
              "      <th>CAMDA23_MetaSUB_gCSD16_AKL_10</th>\n",
              "      <td>0.048249</td>\n",
              "      <td>10.696605</td>\n",
              "      <td>14.560432</td>\n",
              "      <td>1.407184</td>\n",
              "      <td>0.881451</td>\n",
              "      <td>0.459366</td>\n",
              "      <td>0.092738</td>\n",
              "      <td>0.084259</td>\n",
              "      <td>0.049634</td>\n",
              "      <td>0.043755</td>\n",
              "      <td>...</td>\n",
              "      <td>0.000000</td>\n",
              "      <td>0.000000</td>\n",
              "      <td>0.000000</td>\n",
              "      <td>0.000000</td>\n",
              "      <td>0.000000</td>\n",
              "      <td>0.000000</td>\n",
              "      <td>0.000000</td>\n",
              "      <td>0.000000</td>\n",
              "      <td>0.000000</td>\n",
              "      <td>Cfb</td>\n",
              "    </tr>\n",
              "    <tr>\n",
              "      <th>CAMDA23_MetaSUB_gCSD16_AKL_11</th>\n",
              "      <td>0.038155</td>\n",
              "      <td>0.527739</td>\n",
              "      <td>0.041985</td>\n",
              "      <td>0.006187</td>\n",
              "      <td>0.004125</td>\n",
              "      <td>0.001817</td>\n",
              "      <td>0.037517</td>\n",
              "      <td>0.043557</td>\n",
              "      <td>0.017383</td>\n",
              "      <td>0.002701</td>\n",
              "      <td>...</td>\n",
              "      <td>0.000000</td>\n",
              "      <td>0.000000</td>\n",
              "      <td>0.000000</td>\n",
              "      <td>0.000000</td>\n",
              "      <td>0.000000</td>\n",
              "      <td>0.000000</td>\n",
              "      <td>0.000000</td>\n",
              "      <td>0.000000</td>\n",
              "      <td>0.000000</td>\n",
              "      <td>Cfb</td>\n",
              "    </tr>\n",
              "    <tr>\n",
              "      <th>CAMDA23_MetaSUB_gCSD16_AKL_12</th>\n",
              "      <td>0.002185</td>\n",
              "      <td>0.234138</td>\n",
              "      <td>0.051282</td>\n",
              "      <td>0.004188</td>\n",
              "      <td>0.001881</td>\n",
              "      <td>0.001335</td>\n",
              "      <td>0.001578</td>\n",
              "      <td>0.004188</td>\n",
              "      <td>0.000971</td>\n",
              "      <td>0.000668</td>\n",
              "      <td>...</td>\n",
              "      <td>0.000000</td>\n",
              "      <td>0.000000</td>\n",
              "      <td>0.000000</td>\n",
              "      <td>0.000000</td>\n",
              "      <td>0.000000</td>\n",
              "      <td>0.000000</td>\n",
              "      <td>0.000000</td>\n",
              "      <td>0.000000</td>\n",
              "      <td>0.000000</td>\n",
              "      <td>Cfb</td>\n",
              "    </tr>\n",
              "    <tr>\n",
              "      <th>CAMDA23_MetaSUB_gCSD16_AKL_13</th>\n",
              "      <td>0.000142</td>\n",
              "      <td>0.014304</td>\n",
              "      <td>0.010763</td>\n",
              "      <td>0.001360</td>\n",
              "      <td>0.000510</td>\n",
              "      <td>0.000227</td>\n",
              "      <td>0.000340</td>\n",
              "      <td>0.000283</td>\n",
              "      <td>0.000340</td>\n",
              "      <td>0.000028</td>\n",
              "      <td>...</td>\n",
              "      <td>0.000000</td>\n",
              "      <td>0.000000</td>\n",
              "      <td>0.000000</td>\n",
              "      <td>0.000000</td>\n",
              "      <td>0.000000</td>\n",
              "      <td>0.000000</td>\n",
              "      <td>0.000000</td>\n",
              "      <td>0.000000</td>\n",
              "      <td>0.000000</td>\n",
              "      <td>Cfb</td>\n",
              "    </tr>\n",
              "    <tr>\n",
              "      <th>CAMDA23_MetaSUB_gCSD16_AKL_14</th>\n",
              "      <td>0.002103</td>\n",
              "      <td>0.061997</td>\n",
              "      <td>0.079509</td>\n",
              "      <td>0.003771</td>\n",
              "      <td>0.000653</td>\n",
              "      <td>0.001704</td>\n",
              "      <td>0.000544</td>\n",
              "      <td>0.000725</td>\n",
              "      <td>0.000109</td>\n",
              "      <td>0.000036</td>\n",
              "      <td>...</td>\n",
              "      <td>0.000000</td>\n",
              "      <td>0.000000</td>\n",
              "      <td>0.000000</td>\n",
              "      <td>0.000000</td>\n",
              "      <td>0.000000</td>\n",
              "      <td>0.000000</td>\n",
              "      <td>0.000000</td>\n",
              "      <td>0.000000</td>\n",
              "      <td>0.000000</td>\n",
              "      <td>Cfb</td>\n",
              "    </tr>\n",
              "    <tr>\n",
              "      <th>...</th>\n",
              "      <td>...</td>\n",
              "      <td>...</td>\n",
              "      <td>...</td>\n",
              "      <td>...</td>\n",
              "      <td>...</td>\n",
              "      <td>...</td>\n",
              "      <td>...</td>\n",
              "      <td>...</td>\n",
              "      <td>...</td>\n",
              "      <td>...</td>\n",
              "      <td>...</td>\n",
              "      <td>...</td>\n",
              "      <td>...</td>\n",
              "      <td>...</td>\n",
              "      <td>...</td>\n",
              "      <td>...</td>\n",
              "      <td>...</td>\n",
              "      <td>...</td>\n",
              "      <td>...</td>\n",
              "      <td>...</td>\n",
              "      <td>...</td>\n",
              "    </tr>\n",
              "    <tr>\n",
              "      <th>CAMDA23_MetaSUB_gCSD17_ZRH_5</th>\n",
              "      <td>0.005680</td>\n",
              "      <td>0.120175</td>\n",
              "      <td>0.057822</td>\n",
              "      <td>0.004221</td>\n",
              "      <td>0.000714</td>\n",
              "      <td>0.002452</td>\n",
              "      <td>0.002111</td>\n",
              "      <td>0.001148</td>\n",
              "      <td>0.000776</td>\n",
              "      <td>0.000310</td>\n",
              "      <td>...</td>\n",
              "      <td>0.000000</td>\n",
              "      <td>0.000000</td>\n",
              "      <td>0.000000</td>\n",
              "      <td>0.000000</td>\n",
              "      <td>0.000000</td>\n",
              "      <td>0.000000</td>\n",
              "      <td>0.000000</td>\n",
              "      <td>0.000000</td>\n",
              "      <td>0.000000</td>\n",
              "      <td>Cfb</td>\n",
              "    </tr>\n",
              "    <tr>\n",
              "      <th>CAMDA23_MetaSUB_gCSD17_ZRH_6</th>\n",
              "      <td>0.004338</td>\n",
              "      <td>0.293497</td>\n",
              "      <td>0.147385</td>\n",
              "      <td>0.007505</td>\n",
              "      <td>0.000930</td>\n",
              "      <td>0.007092</td>\n",
              "      <td>0.001653</td>\n",
              "      <td>0.001825</td>\n",
              "      <td>0.000930</td>\n",
              "      <td>0.000654</td>\n",
              "      <td>...</td>\n",
              "      <td>0.000000</td>\n",
              "      <td>0.000000</td>\n",
              "      <td>0.000000</td>\n",
              "      <td>0.000000</td>\n",
              "      <td>0.000000</td>\n",
              "      <td>0.000000</td>\n",
              "      <td>0.000000</td>\n",
              "      <td>0.000000</td>\n",
              "      <td>0.000000</td>\n",
              "      <td>Cfb</td>\n",
              "    </tr>\n",
              "    <tr>\n",
              "      <th>CAMDA23_MetaSUB_gCSD17_ZRH_7</th>\n",
              "      <td>0.004828</td>\n",
              "      <td>0.345558</td>\n",
              "      <td>0.146226</td>\n",
              "      <td>0.007608</td>\n",
              "      <td>0.001244</td>\n",
              "      <td>0.004535</td>\n",
              "      <td>0.001609</td>\n",
              "      <td>0.001463</td>\n",
              "      <td>0.000585</td>\n",
              "      <td>0.001097</td>\n",
              "      <td>...</td>\n",
              "      <td>0.000073</td>\n",
              "      <td>0.000073</td>\n",
              "      <td>0.000000</td>\n",
              "      <td>0.000000</td>\n",
              "      <td>0.000000</td>\n",
              "      <td>0.000000</td>\n",
              "      <td>0.000000</td>\n",
              "      <td>0.000000</td>\n",
              "      <td>0.000000</td>\n",
              "      <td>Cfb</td>\n",
              "    </tr>\n",
              "    <tr>\n",
              "      <th>CAMDA23_MetaSUB_gCSD17_ZRH_8</th>\n",
              "      <td>0.011375</td>\n",
              "      <td>0.585461</td>\n",
              "      <td>0.214900</td>\n",
              "      <td>0.008900</td>\n",
              "      <td>0.002058</td>\n",
              "      <td>0.010068</td>\n",
              "      <td>0.003143</td>\n",
              "      <td>0.002169</td>\n",
              "      <td>0.001780</td>\n",
              "      <td>0.001335</td>\n",
              "      <td>...</td>\n",
              "      <td>0.000000</td>\n",
              "      <td>0.000000</td>\n",
              "      <td>0.000028</td>\n",
              "      <td>0.000028</td>\n",
              "      <td>0.000028</td>\n",
              "      <td>0.000028</td>\n",
              "      <td>0.000028</td>\n",
              "      <td>0.000000</td>\n",
              "      <td>0.000000</td>\n",
              "      <td>Cfb</td>\n",
              "    </tr>\n",
              "    <tr>\n",
              "      <th>CAMDA23_MetaSUB_gCSD17_ZRH_9</th>\n",
              "      <td>0.002781</td>\n",
              "      <td>0.206718</td>\n",
              "      <td>0.095700</td>\n",
              "      <td>0.003464</td>\n",
              "      <td>0.001273</td>\n",
              "      <td>0.004053</td>\n",
              "      <td>0.000848</td>\n",
              "      <td>0.000566</td>\n",
              "      <td>0.000424</td>\n",
              "      <td>0.000424</td>\n",
              "      <td>...</td>\n",
              "      <td>0.000000</td>\n",
              "      <td>0.000000</td>\n",
              "      <td>0.000000</td>\n",
              "      <td>0.000000</td>\n",
              "      <td>0.000000</td>\n",
              "      <td>0.000000</td>\n",
              "      <td>0.000000</td>\n",
              "      <td>0.000024</td>\n",
              "      <td>0.000024</td>\n",
              "      <td>Cfb</td>\n",
              "    </tr>\n",
              "  </tbody>\n",
              "</table>\n",
              "<p>286 rows × 18290 columns</p>\n",
              "</div>\n",
              "      <button class=\"colab-df-convert\" onclick=\"convertToInteractive('df-5f61509f-c723-45a8-8b28-a71e4695ca87')\"\n",
              "              title=\"Convert this dataframe to an interactive table.\"\n",
              "              style=\"display:none;\">\n",
              "        \n",
              "  <svg xmlns=\"http://www.w3.org/2000/svg\" height=\"24px\"viewBox=\"0 0 24 24\"\n",
              "       width=\"24px\">\n",
              "    <path d=\"M0 0h24v24H0V0z\" fill=\"none\"/>\n",
              "    <path d=\"M18.56 5.44l.94 2.06.94-2.06 2.06-.94-2.06-.94-.94-2.06-.94 2.06-2.06.94zm-11 1L8.5 8.5l.94-2.06 2.06-.94-2.06-.94L8.5 2.5l-.94 2.06-2.06.94zm10 10l.94 2.06.94-2.06 2.06-.94-2.06-.94-.94-2.06-.94 2.06-2.06.94z\"/><path d=\"M17.41 7.96l-1.37-1.37c-.4-.4-.92-.59-1.43-.59-.52 0-1.04.2-1.43.59L10.3 9.45l-7.72 7.72c-.78.78-.78 2.05 0 2.83L4 21.41c.39.39.9.59 1.41.59.51 0 1.02-.2 1.41-.59l7.78-7.78 2.81-2.81c.8-.78.8-2.07 0-2.86zM5.41 20L4 18.59l7.72-7.72 1.47 1.35L5.41 20z\"/>\n",
              "  </svg>\n",
              "      </button>\n",
              "      \n",
              "  <style>\n",
              "    .colab-df-container {\n",
              "      display:flex;\n",
              "      flex-wrap:wrap;\n",
              "      gap: 12px;\n",
              "    }\n",
              "\n",
              "    .colab-df-convert {\n",
              "      background-color: #E8F0FE;\n",
              "      border: none;\n",
              "      border-radius: 50%;\n",
              "      cursor: pointer;\n",
              "      display: none;\n",
              "      fill: #1967D2;\n",
              "      height: 32px;\n",
              "      padding: 0 0 0 0;\n",
              "      width: 32px;\n",
              "    }\n",
              "\n",
              "    .colab-df-convert:hover {\n",
              "      background-color: #E2EBFA;\n",
              "      box-shadow: 0px 1px 2px rgba(60, 64, 67, 0.3), 0px 1px 3px 1px rgba(60, 64, 67, 0.15);\n",
              "      fill: #174EA6;\n",
              "    }\n",
              "\n",
              "    [theme=dark] .colab-df-convert {\n",
              "      background-color: #3B4455;\n",
              "      fill: #D2E3FC;\n",
              "    }\n",
              "\n",
              "    [theme=dark] .colab-df-convert:hover {\n",
              "      background-color: #434B5C;\n",
              "      box-shadow: 0px 1px 3px 1px rgba(0, 0, 0, 0.15);\n",
              "      filter: drop-shadow(0px 1px 2px rgba(0, 0, 0, 0.3));\n",
              "      fill: #FFFFFF;\n",
              "    }\n",
              "  </style>\n",
              "\n",
              "      <script>\n",
              "        const buttonEl =\n",
              "          document.querySelector('#df-5f61509f-c723-45a8-8b28-a71e4695ca87 button.colab-df-convert');\n",
              "        buttonEl.style.display =\n",
              "          google.colab.kernel.accessAllowed ? 'block' : 'none';\n",
              "\n",
              "        async function convertToInteractive(key) {\n",
              "          const element = document.querySelector('#df-5f61509f-c723-45a8-8b28-a71e4695ca87');\n",
              "          const dataTable =\n",
              "            await google.colab.kernel.invokeFunction('convertToInteractive',\n",
              "                                                     [key], {});\n",
              "          if (!dataTable) return;\n",
              "\n",
              "          const docLinkHtml = 'Like what you see? Visit the ' +\n",
              "            '<a target=\"_blank\" href=https://colab.research.google.com/notebooks/data_table.ipynb>data table notebook</a>'\n",
              "            + ' to learn more about interactive tables.';\n",
              "          element.innerHTML = '';\n",
              "          dataTable['output_type'] = 'display_data';\n",
              "          await google.colab.output.renderOutput(dataTable, element);\n",
              "          const docLink = document.createElement('div');\n",
              "          docLink.innerHTML = docLinkHtml;\n",
              "          element.appendChild(docLink);\n",
              "        }\n",
              "      </script>\n",
              "    </div>\n",
              "  </div>\n",
              "  "
            ]
          },
          "metadata": {},
          "execution_count": 34
        }
      ]
    },
    {
      "cell_type": "code",
      "source": [
        "def get_reduced_data(data,y_counts,ylab='Climate',n_min=5):\n",
        "    y_val = y_counts[y_counts>n_min]\n",
        "    data_val_df = data.loc[data[ylab].isin(y_val.index)]\n",
        "    return data_val_df, y_val"
      ],
      "metadata": {
        "id": "Y_hJVaB2R3T7"
      },
      "execution_count": 35,
      "outputs": []
    },
    {
      "cell_type": "code",
      "source": [
        "y_counts = otus_df.Climate.value_counts()\n",
        "#y_counts"
      ],
      "metadata": {
        "id": "euV25T0JSGJv"
      },
      "execution_count": 36,
      "outputs": []
    },
    {
      "cell_type": "code",
      "source": [
        "n_min = 5\n",
        "otus_val_df, y_val = get_reduced_data(otus_df,y_counts,'Climate',n_min)\n",
        "otus_val_df.shape"
      ],
      "metadata": {
        "colab": {
          "base_uri": "https://localhost:8080/"
        },
        "id": "ezGG85pnR3cl",
        "outputId": "f8811e03-6e1f-46ee-88d5-6faaba6167cc"
      },
      "execution_count": 37,
      "outputs": [
        {
          "output_type": "execute_result",
          "data": {
            "text/plain": [
              "(286, 18290)"
            ]
          },
          "metadata": {},
          "execution_count": 37
        }
      ]
    },
    {
      "cell_type": "code",
      "source": [
        "from sklearn.model_selection import train_test_split\n",
        "from sklearn import metrics\n",
        "from sklearn import preprocessing\n",
        "from sklearn.metrics import accuracy_score\n",
        "from sklearn.preprocessing import StandardScaler\n",
        "%matplotlib inline\n",
        "#plt.style.use('seaborn') \n",
        "\n",
        "yy = np.array(otus_val_df[y_names]).ravel()\n",
        "X_numpy = np.array(otus_val_df.drop(y_names,axis=1)).astype('float')\n",
        "\n",
        "scaler = StandardScaler()\n",
        "X_numpy = scaler.fit_transform(X_numpy)\n",
        "\n",
        "le = preprocessing.LabelEncoder()\n",
        "le.fit(yy)\n",
        "#le.classes_\n",
        "y_numpy = le.transform(yy)\n",
        "#le.inverse_transform(y_cat[:5])"
      ],
      "metadata": {
        "id": "U6nTiXJTSt9j"
      },
      "execution_count": 38,
      "outputs": []
    },
    {
      "cell_type": "code",
      "source": [
        "import torch\n",
        "from torch import nn\n",
        "\n",
        "# Make device agnostic code\n",
        "device = \"cuda\" if torch.cuda.is_available() else \"cpu\"\n",
        "device"
      ],
      "metadata": {
        "colab": {
          "base_uri": "https://localhost:8080/",
          "height": 36
        },
        "id": "nDgMRXtFT9iO",
        "outputId": "532af616-b9e5-4ef4-bb74-6f22870383a0"
      },
      "execution_count": 39,
      "outputs": [
        {
          "output_type": "execute_result",
          "data": {
            "text/plain": [
              "'cpu'"
            ],
            "application/vnd.google.colaboratory.intrinsic+json": {
              "type": "string"
            }
          },
          "metadata": {},
          "execution_count": 39
        }
      ]
    },
    {
      "cell_type": "code",
      "source": [
        "# Turn data into tensors\n",
        "X = torch.from_numpy(X_numpy).type(torch.float)\n",
        "y = torch.from_numpy(y_numpy).type(torch.LongTensor)\n",
        "\n",
        "X_train, X_test, y_train, y_test = train_test_split(X, y, test_size=0.3, random_state=42) \n",
        "# Put all data on target device\n",
        "X_train, y_train = X_train.to(device), y_train.to(device)\n",
        "X_test, y_test = X_test.to(device), y_test.to(device)"
      ],
      "metadata": {
        "id": "mU042rVvSuVt"
      },
      "execution_count": 40,
      "outputs": []
    },
    {
      "cell_type": "code",
      "source": [
        "class nnet_otus(nn.Module):\n",
        "    def __init__(self, input_features, output_features):\n",
        "        super(nnet_otus, self).__init__()\n",
        "        self.seq = nn.Sequential(\n",
        "            nn.Linear(in_features=input_features, out_features=520), \n",
        "            nn.ReLU(),\n",
        "            nn.Dropout(0.2),\n",
        "            nn.Linear(in_features=520, out_features=520), \n",
        "            nn.ReLU(),\n",
        "            nn.Dropout(0.2),\n",
        "            nn.Linear(in_features=520, out_features=300), \n",
        "            nn.ReLU(),\n",
        "            nn.Dropout(0.2),\n",
        "            nn.Linear(in_features=300, out_features=100), \n",
        "            nn.ReLU(),\n",
        "            nn.Linear(in_features=100, out_features=output_features), \n",
        "        )\n",
        "\n",
        "    def forward(self, x):\n",
        "        return self.seq(x)\n"
      ],
      "metadata": {
        "id": "MN67_m5LSuem"
      },
      "execution_count": 41,
      "outputs": []
    },
    {
      "cell_type": "code",
      "source": [
        "# Set the hyperparameters for data creation\n",
        "NUM_CLASSES = len(le.classes_)\n",
        "NUM_FEATURES = X_train.shape[1]\n",
        "\n",
        "# Create an instance of the model and send it to target device\n",
        "model = nnet_otus(NUM_FEATURES, NUM_CLASSES).to(device)\n",
        "\n",
        "# Setup loss and optimizer \n",
        "loss_fn = nn.CrossEntropyLoss()\n",
        "optimizer = torch.optim.SGD(model.parameters(), lr=0.1) \n",
        "\n",
        "# Fit the model\n",
        "torch.manual_seed(42)\n",
        "epochs = 100\n",
        "\n",
        "# Build training and evaluation loop\n",
        "for epoch in range(epochs):\n",
        "    ### Training\n",
        "    model.train()\n",
        "\n",
        "    # 1. Forward pass (model outputs raw logits)\n",
        "    y_logits = model(X_train) # model outputs raw logits \n",
        "    y_pred = torch.softmax(y_logits, dim=1).argmax(dim=1) # go from logits -> prediction probabilities -> prediction labels\n",
        "\n",
        "    # 2. Calculate loss/accuracy\n",
        "    loss = loss_fn(y_logits, y_train) \n",
        "    acc = accuracy_score(y_train.detach().cpu().numpy(), y_pred.detach().cpu().numpy()) \n",
        "\n",
        "    # 3. Optimizer zero grad\n",
        "    optimizer.zero_grad()\n",
        "\n",
        "    # 4. Loss backwards\n",
        "    loss.backward()\n",
        "\n",
        "    # 5. Optimizer step\n",
        "    optimizer.step()\n",
        "\n",
        "    ### Testing\n",
        "    model.eval()\n",
        "    with torch.inference_mode():\n",
        "        # 1. Forward pass\n",
        "        test_logits = model(X_test)\n",
        "        test_pred = torch.softmax(test_logits, dim=1).argmax(dim=1)\n",
        "        # 2. Caculate loss/accuracy\n",
        "        test_loss = loss_fn(test_logits, y_test)\n",
        "        test_acc = accuracy_score(y_test.detach().cpu().numpy(), test_pred.detach().cpu().numpy())\n",
        "\n",
        "    # Print out what's happening every 10 epochs\n",
        "    if epoch % 10 == 0:\n",
        "        print(f\"Epoch: {epoch} | Loss: {loss:.5f}, Accuracy: {acc:.2f}% | Test loss: {test_loss:.5f}, Test acc: {test_acc:.2f}%\")\n"
      ],
      "metadata": {
        "colab": {
          "base_uri": "https://localhost:8080/"
        },
        "id": "vEsFQ-GGSuiX",
        "outputId": "d856cecf-6613-47bd-df78-a601f9c712c9"
      },
      "execution_count": 42,
      "outputs": [
        {
          "output_type": "stream",
          "name": "stdout",
          "text": [
            "Epoch: 0 | Loss: 1.94756, Accuracy: 0.20% | Test loss: 1.93202, Test acc: 0.23%\n",
            "Epoch: 10 | Loss: 1.78925, Accuracy: 0.36% | Test loss: 1.81721, Test acc: 0.30%\n",
            "Epoch: 20 | Loss: 1.46282, Accuracy: 0.37% | Test loss: 1.61085, Test acc: 0.34%\n",
            "Epoch: 30 | Loss: 0.97845, Accuracy: 0.67% | Test loss: 1.36265, Test acc: 0.45%\n",
            "Epoch: 40 | Loss: 0.55276, Accuracy: 0.81% | Test loss: 1.19447, Test acc: 0.52%\n",
            "Epoch: 50 | Loss: 0.25988, Accuracy: 0.95% | Test loss: 1.05713, Test acc: 0.58%\n",
            "Epoch: 60 | Loss: 0.10989, Accuracy: 0.97% | Test loss: 1.02184, Test acc: 0.65%\n",
            "Epoch: 70 | Loss: 0.06399, Accuracy: 0.99% | Test loss: 0.99878, Test acc: 0.65%\n",
            "Epoch: 80 | Loss: 0.03418, Accuracy: 0.99% | Test loss: 1.06298, Test acc: 0.65%\n",
            "Epoch: 90 | Loss: 0.02415, Accuracy: 1.00% | Test loss: 1.02347, Test acc: 0.65%\n"
          ]
        }
      ]
    },
    {
      "cell_type": "code",
      "source": [
        "model.eval()\n",
        "with torch.no_grad():\n",
        "  test_logits = model(X_test)\n",
        "  y_pred = torch.softmax(test_logits, dim=1).argmax(dim=1)\n",
        "\n",
        "plt.style.use('default') \n",
        "cm = metrics.confusion_matrix(y_test.detach().cpu().numpy(), y_pred.detach().cpu().numpy())\n",
        "disp1 = metrics.ConfusionMatrixDisplay(cm, display_labels=np.arange(len(le.classes_)))\n",
        "fig, ax = plt.subplots(figsize=(7,7))\n",
        "\n",
        "disp1.plot(ax=ax, colorbar=False)\n",
        "# Adding custom colorbar\n",
        "cax = fig.add_axes([ax.get_position().x1+0.01,ax.get_position().y0,0.02,ax.get_position().height])\n",
        "plt.colorbar(disp1.im_,  cax=cax);"
      ],
      "metadata": {
        "colab": {
          "base_uri": "https://localhost:8080/",
          "height": 619
        },
        "id": "ZT7-YKMHSulp",
        "outputId": "515f679f-11c0-43fa-f111-f9429699e632"
      },
      "execution_count": 43,
      "outputs": [
        {
          "output_type": "display_data",
          "data": {
            "text/plain": [
              "<Figure size 700x700 with 2 Axes>"
            ],
            "image/png": "[encoded data removed]"
          },
          "metadata": {}
        }
      ]
    },
    {
      "cell_type": "code",
      "source": [
        "print(metrics.classification_report(y_test.detach().cpu().numpy(), y_pred.detach().cpu().numpy()))"
      ],
      "metadata": {
        "colab": {
          "base_uri": "https://localhost:8080/"
        },
        "id": "p_r4KUrTSupH",
        "outputId": "1065e42e-6f77-45ac-b9b0-3f763e7794f2"
      },
      "execution_count": 44,
      "outputs": [
        {
          "output_type": "stream",
          "name": "stdout",
          "text": [
            "              precision    recall  f1-score   support\n",
            "\n",
            "           0       0.75      1.00      0.86         6\n",
            "           1       0.73      0.57      0.64        14\n",
            "           2       0.67      0.80      0.73         5\n",
            "           3       0.56      0.73      0.63        26\n",
            "           4       1.00      0.40      0.57        20\n",
            "           5       0.56      0.69      0.62        13\n",
            "           6       0.33      0.50      0.40         2\n",
            "\n",
            "    accuracy                           0.64        86\n",
            "   macro avg       0.66      0.67      0.64        86\n",
            "weighted avg       0.70      0.64      0.63        86\n",
            "\n"
          ]
        }
      ]
    },
    {
      "cell_type": "code",
      "source": [],
      "metadata": {
        "id": "UJ4drTqVSusd"
      },
      "execution_count": null,
      "outputs": []
    },
    {
      "cell_type": "markdown",
      "source": [
        "# Notebook 4"
      ],
      "metadata": {
        "id": "sMKwbltp1g2h"
      }
    },
    {
      "cell_type": "markdown",
      "metadata": {
        "id": "BuJ9AWKQ9OvT"
      },
      "source": [
        "# Modelos de predicción con Pytorch"
      ]
    },
    {
      "cell_type": "code",
      "source": [
        "!pip install torchviz"
      ],
      "metadata": {
        "id": "rujfTEZm9gTk",
        "colab": {
          "base_uri": "https://localhost:8080/"
        },
        "outputId": "eeab360b-5ed5-46db-9d80-d1594a004f0f"
      },
      "execution_count": null,
      "outputs": [
        {
          "output_type": "stream",
          "name": "stdout",
          "text": [
            "Looking in indexes: https://pypi.org/simple, https://us-python.pkg.dev/colab-wheels/public/simple/\n",
            "Collecting torchviz\n",
            "  Downloading torchviz-0.0.2.tar.gz (4.9 kB)\n",
            "  Preparing metadata (setup.py) ... \u001b[?25l\u001b[?25hdone\n",
            "Requirement already satisfied: torch in /usr/local/lib/python3.10/dist-packages (from torchviz) (2.0.0+cu118)\n",
            "Requirement already satisfied: graphviz in /usr/local/lib/python3.10/dist-packages (from torchviz) (0.20.1)\n",
            "Requirement already satisfied: filelock in /usr/local/lib/python3.10/dist-packages (from torch->torchviz) (3.12.0)\n",
            "Requirement already satisfied: typing-extensions in /usr/local/lib/python3.10/dist-packages (from torch->torchviz) (4.5.0)\n",
            "Requirement already satisfied: sympy in /usr/local/lib/python3.10/dist-packages (from torch->torchviz) (1.11.1)\n",
            "Requirement already satisfied: networkx in /usr/local/lib/python3.10/dist-packages (from torch->torchviz) (3.1)\n",
            "Requirement already satisfied: jinja2 in /usr/local/lib/python3.10/dist-packages (from torch->torchviz) (3.1.2)\n",
            "Requirement already satisfied: triton==2.0.0 in /usr/local/lib/python3.10/dist-packages (from torch->torchviz) (2.0.0)\n",
            "Requirement already satisfied: cmake in /usr/local/lib/python3.10/dist-packages (from triton==2.0.0->torch->torchviz) (3.25.2)\n",
            "Requirement already satisfied: lit in /usr/local/lib/python3.10/dist-packages (from triton==2.0.0->torch->torchviz) (16.0.3)\n",
            "Requirement already satisfied: MarkupSafe>=2.0 in /usr/local/lib/python3.10/dist-packages (from jinja2->torch->torchviz) (2.1.2)\n",
            "Requirement already satisfied: mpmath>=0.19 in /usr/local/lib/python3.10/dist-packages (from sympy->torch->torchviz) (1.3.0)\n",
            "Building wheels for collected packages: torchviz\n",
            "  Building wheel for torchviz (setup.py) ... \u001b[?25l\u001b[?25hdone\n",
            "  Created wheel for torchviz: filename=torchviz-0.0.2-py3-none-any.whl size=4131 sha256=9349ec5ab293d94b01b2dbad0a2d42c98a35ad7cc286d44b5a020df93f7edbb8\n",
            "  Stored in directory: /root/.cache/pip/wheels/4c/97/88/a02973217949e0db0c9f4346d154085f4725f99c4f15a87094\n",
            "Successfully built torchviz\n",
            "Installing collected packages: torchviz\n",
            "Successfully installed torchviz-0.0.2\n"
          ]
        }
      ]
    },
    {
      "cell_type": "code",
      "execution_count": null,
      "metadata": {
        "id": "NDijnEe69OvY"
      },
      "outputs": [],
      "source": [
        "import numpy as np\n",
        "import matplotlib.pyplot as plt\n",
        "from sklearn.linear_model import LinearRegression\n",
        "%matplotlib inline\n",
        "\n",
        "import torch\n",
        "import torch.optim as optim\n",
        "import torch.nn as nn\n",
        "from torchviz import make_dot"
      ]
    },
    {
      "cell_type": "markdown",
      "source": [
        "# Notebook 5"
      ],
      "metadata": {
        "id": "ZFhQv9yJ8vzW"
      }
    },
    {
      "cell_type": "code",
      "source": [],
      "metadata": {
        "id": "bvt-nfLw8xoA"
      },
      "execution_count": null,
      "outputs": []
    },
    {
      "cell_type": "code",
      "source": [
        "from mpl_toolkits.axes_grid1 import make_axes_locatable\n",
        "import pandas as pd \n",
        "import numpy as np\n",
        "import matplotlib.pyplot as plt\n",
        "import seaborn as sns\n",
        "\n",
        "otus = pd.read_csv(\"camda_relative.csv\", index_col=\"ID\")\n",
        "\n",
        "cont_names = list(otus.drop([\"ID_city\",\"City\",\"Climate\",\"Latitude\", \"Longitude\", \"Year\"], axis=1).columns)\n",
        "y_names = [\"Climate\"]\n",
        "otus_df = otus[cont_names+y_names]"
      ],
      "metadata": {
        "id": "a0um-Eq9maDU"
      },
      "execution_count": 45,
      "outputs": []
    },
    {
      "cell_type": "code",
      "source": [
        "def get_reduced_data(data,y_counts,ylab='Climate',n_min=5):\n",
        "    y_val = y_counts[y_counts>n_min]\n",
        "    data_val_df = data.loc[data[ylab].isin(y_val.index)]\n",
        "    return data_val_df, y_val"
      ],
      "metadata": {
        "id": "TPYDsWwNmaDU"
      },
      "execution_count": 48,
      "outputs": []
    },
    {
      "cell_type": "code",
      "source": [
        "y_counts = otus_df.Climate.value_counts()\n",
        "y_counts"
      ],
      "metadata": {
        "colab": {
          "base_uri": "https://localhost:8080/"
        },
        "id": "2VbpKh5WmaDV",
        "outputId": "c235d75b-8222-4d3b-cf41-dd3ced01bb0a"
      },
      "execution_count": 49,
      "outputs": [
        {
          "output_type": "execute_result",
          "data": {
            "text/plain": [
              "Cfa    99\n",
              "Cfb    61\n",
              "BSk    44\n",
              "Csa    31\n",
              "BWh    27\n",
              "Aw     18\n",
              "Dfa     6\n",
              "Name: Climate, dtype: int64"
            ]
          },
          "metadata": {},
          "execution_count": 49
        }
      ]
    },
    {
      "cell_type": "code",
      "source": [
        "n_min = 5\n",
        "otus_val_df, y_val = get_reduced_data(otus_df,y_counts,'Climate',n_min)\n",
        "otus_val_df.shape"
      ],
      "metadata": {
        "colab": {
          "base_uri": "https://localhost:8080/"
        },
        "outputId": "811b3ba1-76aa-4710-8a35-c9343a4d0106",
        "id": "aTXFDxgamaDV"
      },
      "execution_count": 50,
      "outputs": [
        {
          "output_type": "execute_result",
          "data": {
            "text/plain": [
              "(286, 18290)"
            ]
          },
          "metadata": {},
          "execution_count": 50
        }
      ]
    },
    {
      "cell_type": "markdown",
      "source": [
        "## Batch samples and data loaders"
      ],
      "metadata": {
        "id": "81td3s1C7gfH"
      }
    },
    {
      "cell_type": "code",
      "source": [
        "from sklearn.model_selection import train_test_split\n",
        "from sklearn import metrics\n",
        "from sklearn import preprocessing\n",
        "from sklearn.metrics import accuracy_score\n",
        "from sklearn.preprocessing import StandardScaler\n",
        "from torch.utils.data.dataset import random_split\n",
        "%matplotlib inline\n",
        "#plt.style.use('seaborn') \n",
        "\n",
        "yy = np.array(otus_val_df[y_names]).ravel()\n",
        "X_numpy = np.array(otus_val_df.drop(y_names,axis=1)).astype('float')\n",
        "\n",
        "le = preprocessing.LabelEncoder()\n",
        "le.fit(yy)\n",
        "#le.classes_\n",
        "y_numpy = le.transform(yy)\n",
        "#le.inverse_transform(y_cat[:5])"
      ],
      "metadata": {
        "id": "pvJO6ewHk5TC"
      },
      "execution_count": 51,
      "outputs": []
    },
    {
      "cell_type": "code",
      "source": [
        "def split_stratified_into_train_val_test(X, y, frac_train=0.6, frac_val=0.15, frac_test=0.25,\n",
        "                                         random_state=None):\n",
        "    '''\n",
        "    Splits a dataset into three subsets (train, val, and test)\n",
        "    following fractional ratios provided by the user, where each subset is\n",
        "    stratified by the values in y (that is, each subset has\n",
        "    the same relative frequency of the values in the column). It performs this\n",
        "    splitting by running train_test_split() twice.\n",
        "\n",
        "    Parameters\n",
        "    ----------\n",
        "    X : numpy dataframe of covariates\n",
        "    y : numpy array of responses\n",
        "    frac_train : float\n",
        "    frac_val   : float\n",
        "    frac_test  : float\n",
        "        The ratios with which the dataframe will be split into train, val, and\n",
        "        test data. The values should be expressed as float fractions and should\n",
        "        sum to 1.0.\n",
        "    random_state : int, None, or RandomStateInstance\n",
        "        Value to be passed to train_test_split().\n",
        "\n",
        "    Returns\n",
        "    -------\n",
        "    df_train, df_val, df_test :\n",
        "        Dataframes containing the three splits.\n",
        "    '''\n",
        "    \n",
        "    if round(frac_train + frac_val + frac_test,10) != 1.0:\n",
        "        raise ValueError('fractions %f, %f, %f do not add up to 1.0' % \\\n",
        "                         (frac_train, frac_val, frac_test))\n",
        "\n",
        "    # Split original dataframe into temp and test dataframes.\n",
        "    #x_train, x_temp, y_train, y_temp = train_test_split(X, y, stratify=y, test_size=(1.0 - frac_train), random_state=random_state)\n",
        "    x_temp, x_test, y_temp, y_test = train_test_split(X, y, stratify=y, test_size=(1.0 - (frac_train+frac_val)), random_state=random_state)\n",
        "    # standardize train_val (temp) and test data\n",
        "    scaler = StandardScaler()\n",
        "    x_temp = scaler.fit_transform(x_temp)\n",
        "    x_test = scaler.transform(x_test)\n",
        "\n",
        "    # Split the temp dataframe into val and test dataframes.\n",
        "    #relative_frac_test = frac_test / (frac_val + frac_test)\n",
        "    #x_val, x_test, y_val, y_test = train_test_split(x_temp, y_temp, stratify=y_temp, test_size=relative_frac_test, random_state=random_state)\n",
        "    relative_frac_val = frac_val / (frac_train + frac_val)\n",
        "    x_train, x_val, y_train, y_val = train_test_split(x_temp, y_temp, stratify=y_temp, test_size=relative_frac_val, random_state=random_state)\n",
        "\n",
        "    #assert len(df_input) == len(df_train) + len(df_val) + len(df_test)\n",
        "    return x_train, y_train, x_val, y_val, x_test, y_test, scaler"
      ],
      "metadata": {
        "id": "jgjtIlu9BMRz"
      },
      "execution_count": 52,
      "outputs": []
    },
    {
      "cell_type": "code",
      "source": [
        "# create train (70%), validation (20%) and test (10%) datasets\n",
        "X_tr, y_tr, X_val, y_val, X_te, y_te, __ = split_stratified_into_train_val_test(X_numpy, y_numpy, .60, .20, .20)"
      ],
      "metadata": {
        "id": "XfF4sh9XCYG1"
      },
      "execution_count": 53,
      "outputs": []
    },
    {
      "cell_type": "code",
      "source": [
        "print(X_tr.shape,X_val.shape,X_te.shape)"
      ],
      "metadata": {
        "colab": {
          "base_uri": "https://localhost:8080/"
        },
        "id": "PatA1_17E8Dr",
        "outputId": "085244a1-93b9-43f0-b7c1-ad2d84ee3c2d"
      },
      "execution_count": 54,
      "outputs": [
        {
          "output_type": "stream",
          "name": "stdout",
          "text": [
            "(171, 18289) (57, 18289) (58, 18289)\n"
          ]
        }
      ]
    },
    {
      "cell_type": "code",
      "source": [
        "print(y_tr.shape,y_val.shape,y_te.shape)"
      ],
      "metadata": {
        "colab": {
          "base_uri": "https://localhost:8080/"
        },
        "id": "T4h0L9i9M6VF",
        "outputId": "fc8860ee-cd75-4bdd-a16f-c0ee8d0e5e50"
      },
      "execution_count": 55,
      "outputs": [
        {
          "output_type": "stream",
          "name": "stdout",
          "text": [
            "(171,) (57,) (58,)\n"
          ]
        }
      ]
    },
    {
      "cell_type": "code",
      "source": [
        "import torch\n",
        "from torch import nn\n",
        "\n",
        "# Make device agnostic code\n",
        "device = \"cuda\" if torch.cuda.is_available() else \"cpu\"\n",
        "device"
      ],
      "metadata": {
        "colab": {
          "base_uri": "https://localhost:8080/",
          "height": 36
        },
        "outputId": "30f81d48-2662-44d6-82ee-48a6783999c7",
        "id": "FRN2q-Z0k5TN"
      },
      "execution_count": 56,
      "outputs": [
        {
          "output_type": "execute_result",
          "data": {
            "text/plain": [
              "'cpu'"
            ],
            "application/vnd.google.colaboratory.intrinsic+json": {
              "type": "string"
            }
          },
          "metadata": {},
          "execution_count": 56
        }
      ]
    },
    {
      "cell_type": "code",
      "source": [
        "# Turn data into tensors\n",
        "X_train = torch.from_numpy(X_tr).type(torch.float)\n",
        "y_train = torch.from_numpy(y_tr).type(torch.LongTensor)\n",
        "X_val = torch.from_numpy(X_val).type(torch.float)\n",
        "y_val = torch.from_numpy(y_val).type(torch.LongTensor)\n",
        "X_test = torch.from_numpy(X_te).type(torch.float)\n",
        "y_test = torch.from_numpy(y_te).type(torch.LongTensor)\n",
        "\n",
        "# Put all data on target device\n",
        "X_train, y_train = X_train.to(device), y_train.to(device)\n",
        "X_val, y_val = X_val.to(device), y_val.to(device)\n",
        "X_test, y_test = X_test.to(device), y_test.to(device)"
      ],
      "metadata": {
        "id": "nNs1ukk7k5TN"
      },
      "execution_count": 57,
      "outputs": []
    },
    {
      "cell_type": "code",
      "source": [
        "class nnet_otus(nn.Module):\n",
        "    def __init__(self, input_features, output_features):\n",
        "        super(nnet_otus, self).__init__()\n",
        "        self.seq = nn.Sequential(\n",
        "            nn.Linear(in_features=input_features, out_features=520), \n",
        "            nn.ReLU(),\n",
        "            nn.Dropout(0.2),\n",
        "            nn.Linear(in_features=520, out_features=520), \n",
        "            nn.ReLU(),\n",
        "            nn.Dropout(0.2),\n",
        "            nn.Linear(in_features=520, out_features=300), \n",
        "            nn.ReLU(),\n",
        "            nn.Dropout(0.2),\n",
        "            nn.Linear(in_features=300, out_features=100), \n",
        "            nn.ReLU(),\n",
        "            nn.Linear(in_features=100, out_features=output_features), \n",
        "        )\n",
        "\n",
        "    def forward(self, x):\n",
        "        return self.seq(x)\n"
      ],
      "metadata": {
        "id": "6WKccemnsda6"
      },
      "execution_count": 58,
      "outputs": []
    },
    {
      "cell_type": "code",
      "source": [
        "from torch.utils.data import DataLoader, TensorDataset\n",
        "\n",
        "train_data = TensorDataset(X_train, y_train)\n",
        "val_data = TensorDataset(X_val, y_val)\n",
        "\n",
        "batch_size = 32\n",
        "# Builds a loader for each dataset to perform mini-batch gradient descent\n",
        "train_loader = DataLoader(dataset=train_data, batch_size=batch_size, shuffle=False)\n",
        "val_loader = DataLoader(dataset=val_data, batch_size=batch_size, shuffle=False)"
      ],
      "metadata": {
        "id": "qWogETDC8x6T"
      },
      "execution_count": 59,
      "outputs": []
    },
    {
      "cell_type": "code",
      "source": [
        "# Set the hyperparameters for data creation\n",
        "NUM_CLASSES = len(le.classes_)\n",
        "NUM_FEATURES = X_train.shape[1]\n",
        "\n",
        "# Create an instance of the model and send it to target device\n",
        "model = nnet_otus(NUM_FEATURES, NUM_CLASSES).to(device)\n",
        "\n",
        "# Setup loss and optimizer \n",
        "loss_fn = nn.CrossEntropyLoss()\n",
        "optimizer = torch.optim.SGD(model.parameters(), lr=0.1, weight_decay=0) \n",
        "\n",
        "# Fit the model\n",
        "torch.manual_seed(42)\n",
        "epochs = 100\n",
        "\n",
        "# Build training and evaluation loop\n",
        "for epoch in range(epochs):  \n",
        "    ### Training\n",
        "    model.train()\n",
        "    for x_batch, y_batch in train_loader:\n",
        "      \n",
        "      # 1. Forward pass (model outputs raw logits)\n",
        "      y_logits = model(x_batch) # model outputs raw logits \n",
        "      y_pred = torch.softmax(y_logits, dim=1).argmax(dim=1) # go from logits -> prediction probabilities -> prediction labels\n",
        "\n",
        "      # 2. Calculate loss/accuracy\n",
        "      loss = loss_fn(y_logits, y_batch) \n",
        "      acc = accuracy_score(y_batch.detach().cpu().numpy(), y_pred.detach().cpu().numpy()) \n",
        "\n",
        "      # 3. Optimizer zero grad\n",
        "      optimizer.zero_grad()\n",
        "\n",
        "      # 4. Loss backwards\n",
        "      loss.backward()\n",
        "\n",
        "      # 5. Optimizer step\n",
        "      optimizer.step()\n",
        "\n",
        "    ### Testing\n",
        "    model.eval()\n",
        "    with torch.inference_mode():\n",
        "      # Uses loader to fetch one mini-batch for validation\n",
        "      for x_batch, y_batch in val_loader:\n",
        "          # 1. Forward pass\n",
        "          test_logits = model(x_batch)\n",
        "          test_pred = torch.softmax(test_logits, dim=1).argmax(dim=1)\n",
        "          # 2. Caculate loss/accuracy\n",
        "          test_loss = loss_fn(test_logits, y_batch)\n",
        "          test_acc = accuracy_score(y_batch.detach().cpu().numpy(), test_pred.detach().cpu().numpy())\n",
        "\n",
        "    # Print out what's happening every 10 epochs\n",
        "    if epoch % 10 == 0:\n",
        "        print(f\"Epoch: {epoch} | Loss: {loss:.5f}, Accuracy: {acc:.2f}% | Validation loss: {test_loss:.5f}, Validation acc: {test_acc:.2f}%\")\n"
      ],
      "metadata": {
        "id": "xHrd4dDcSuwC",
        "colab": {
          "base_uri": "https://localhost:8080/"
        },
        "outputId": "70bd8623-92f9-42c8-fbd8-717b64d16e60"
      },
      "execution_count": 60,
      "outputs": [
        {
          "output_type": "stream",
          "name": "stdout",
          "text": [
            "Epoch: 0 | Loss: 1.94403, Accuracy: 0.00% | Validation loss: 1.89862, Validation acc: 0.20%\n",
            "Epoch: 10 | Loss: 0.01522, Accuracy: 1.00% | Validation loss: 0.81819, Validation acc: 0.80%\n",
            "Epoch: 20 | Loss: 0.00066, Accuracy: 1.00% | Validation loss: 0.82615, Validation acc: 0.80%\n",
            "Epoch: 30 | Loss: 0.00016, Accuracy: 1.00% | Validation loss: 0.87457, Validation acc: 0.80%\n",
            "Epoch: 40 | Loss: 0.00037, Accuracy: 1.00% | Validation loss: 0.86143, Validation acc: 0.80%\n",
            "Epoch: 50 | Loss: 0.00004, Accuracy: 1.00% | Validation loss: 0.85812, Validation acc: 0.80%\n",
            "Epoch: 60 | Loss: 0.00002, Accuracy: 1.00% | Validation loss: 0.88705, Validation acc: 0.80%\n",
            "Epoch: 70 | Loss: 0.00006, Accuracy: 1.00% | Validation loss: 0.86214, Validation acc: 0.80%\n",
            "Epoch: 80 | Loss: 0.00012, Accuracy: 1.00% | Validation loss: 0.89216, Validation acc: 0.80%\n",
            "Epoch: 90 | Loss: 0.00008, Accuracy: 1.00% | Validation loss: 0.94806, Validation acc: 0.80%\n"
          ]
        }
      ]
    },
    {
      "cell_type": "code",
      "source": [
        "model.eval()\n",
        "with torch.no_grad():\n",
        "  val_logits = model(X_val)\n",
        "  y_pred = torch.softmax(val_logits, dim=1).argmax(dim=1)\n",
        "\n",
        "plt.style.use('default') \n",
        "cm = metrics.confusion_matrix(y_val.detach().cpu().numpy(), y_pred.detach().cpu().numpy(), normalize=None)\n",
        "disp1 = metrics.ConfusionMatrixDisplay(cm, display_labels=np.arange(len(le.classes_)))\n",
        "fig, ax = plt.subplots(figsize=(7,7))\n",
        "ax.set_title('Matriz de confusion datos de validación',{'fontsize':10})\n",
        "\n",
        "disp1.plot(ax=ax, colorbar=False)\n",
        "# Adding custom colorbar\n",
        "cax = fig.add_axes([ax.get_position().x1+0.01,ax.get_position().y0,0.02,ax.get_position().height])\n",
        "plt.colorbar(disp1.im_,  cax=cax);"
      ],
      "metadata": {
        "colab": {
          "base_uri": "https://localhost:8080/",
          "height": 638
        },
        "id": "fNE79HlULgM4",
        "outputId": "9e484b33-e391-4960-f176-0acd3f9ef071"
      },
      "execution_count": 61,
      "outputs": [
        {
          "output_type": "display_data",
          "data": {
            "text/plain": [
              "<Figure size 700x700 with 2 Axes>"
            ],
            "image/png": "[encoded data removed]"
          },
          "metadata": {}
        }
      ]
    },
    {
      "cell_type": "code",
      "source": [
        "print(metrics.classification_report(y_val.detach().cpu().numpy(), y_pred.detach().cpu().numpy()))"
      ],
      "metadata": {
        "colab": {
          "base_uri": "https://localhost:8080/"
        },
        "id": "SPtagONfOtSW",
        "outputId": "ede8cf3d-b77a-42a9-f790-e592e0c82b87"
      },
      "execution_count": 62,
      "outputs": [
        {
          "output_type": "stream",
          "name": "stdout",
          "text": [
            "              precision    recall  f1-score   support\n",
            "\n",
            "           0       0.80      1.00      0.89         4\n",
            "           1       1.00      0.67      0.80         9\n",
            "           2       1.00      0.60      0.75         5\n",
            "           3       0.78      0.90      0.84        20\n",
            "           4       1.00      0.75      0.86        12\n",
            "           5       0.60      1.00      0.75         6\n",
            "           6       1.00      1.00      1.00         1\n",
            "\n",
            "    accuracy                           0.82        57\n",
            "   macro avg       0.88      0.85      0.84        57\n",
            "weighted avg       0.87      0.82      0.83        57\n",
            "\n"
          ]
        }
      ]
    },
    {
      "cell_type": "code",
      "source": [
        "model.eval()\n",
        "with torch.no_grad():\n",
        "  val_logits = model(X_test)\n",
        "  y_pred = torch.softmax(val_logits, dim=1).argmax(dim=1)\n",
        "\n",
        "plt.style.use('default') \n",
        "cm = metrics.confusion_matrix(y_test.detach().cpu().numpy(), y_pred.detach().cpu().numpy(), normalize='true')\n",
        "disp1 = metrics.ConfusionMatrixDisplay(cm, display_labels=np.arange(len(le.classes_)))\n",
        "fig, ax = plt.subplots(figsize=(7,7))\n",
        "ax.set_title('Matriz de confusion datos de test',{'fontsize':10})\n",
        "\n",
        "disp1.plot(ax=ax, colorbar=False)\n",
        "# Adding custom colorbar\n",
        "cax = fig.add_axes([ax.get_position().x1+0.01,ax.get_position().y0,0.02,ax.get_position().height])\n",
        "plt.colorbar(disp1.im_,  cax=cax);"
      ],
      "metadata": {
        "id": "jwJSd2EwSuza",
        "colab": {
          "base_uri": "https://localhost:8080/",
          "height": 638
        },
        "outputId": "f8eed2b3-c211-4a53-c6dc-7511f9ab6260"
      },
      "execution_count": 63,
      "outputs": [
        {
          "output_type": "display_data",
          "data": {
            "text/plain": [
              "<Figure size 700x700 with 2 Axes>"
            ],
            "image/png": "[encoded data removed]"
          },
          "metadata": {}
        }
      ]
    },
    {
      "cell_type": "code",
      "source": [
        "print(metrics.classification_report(y_test.detach().cpu().numpy(), y_pred.detach().cpu().numpy()))"
      ],
      "metadata": {
        "colab": {
          "base_uri": "https://localhost:8080/"
        },
        "id": "zJQKpK7IjwxN",
        "outputId": "06fe20b3-3192-445b-9154-79078ab42143"
      },
      "execution_count": 64,
      "outputs": [
        {
          "output_type": "stream",
          "name": "stdout",
          "text": [
            "              precision    recall  f1-score   support\n",
            "\n",
            "           0       1.00      1.00      1.00         4\n",
            "           1       0.75      0.67      0.71         9\n",
            "           2       0.80      0.67      0.73         6\n",
            "           3       0.72      0.90      0.80        20\n",
            "           4       0.71      0.42      0.53        12\n",
            "           5       0.62      0.83      0.71         6\n",
            "           6       1.00      1.00      1.00         1\n",
            "\n",
            "    accuracy                           0.74        58\n",
            "   macro avg       0.80      0.78      0.78        58\n",
            "weighted avg       0.75      0.74      0.73        58\n",
            "\n"
          ]
        }
      ]
    },
    {
      "cell_type": "markdown",
      "source": [
        "## Neural networks as feature extractor"
      ],
      "metadata": {
        "id": "AfLgyrizsqhF"
      }
    },
    {
      "cell_type": "code",
      "source": [
        "global view_output\n",
        "def hook_fn(module, input, output):\n",
        "    global view_output\n",
        "    view_output = output\n",
        "net = nnet_otus(NUM_FEATURES, NUM_CLASSES).to(device)\n",
        "hook = net.seq[-2].register_forward_hook(hook_fn)\n",
        "\n",
        "with torch.no_grad():\n",
        "  val_logits = net(X_train)\n"
      ],
      "metadata": {
        "id": "TmjP5gDWmnzJ"
      },
      "execution_count": null,
      "outputs": []
    },
    {
      "cell_type": "code",
      "source": [
        "view_output.shape"
      ],
      "metadata": {
        "colab": {
          "base_uri": "https://localhost:8080/"
        },
        "id": "lfAazY8Tqa35",
        "outputId": "fa7160e9-73e5-41cd-9924-0ab3eae51b22"
      },
      "execution_count": null,
      "outputs": [
        {
          "output_type": "execute_result",
          "data": {
            "text/plain": [
              "torch.Size([1967, 100])"
            ]
          },
          "metadata": {},
          "execution_count": 50
        }
      ]
    },
    {
      "cell_type": "code",
      "source": [
        "hook.remove()"
      ],
      "metadata": {
        "id": "dqjq65qstTPO"
      },
      "execution_count": null,
      "outputs": []
    }
  ]
}